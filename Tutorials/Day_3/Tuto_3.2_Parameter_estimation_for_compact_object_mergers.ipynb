{
  "cells": [
    {
      "cell_type": "markdown",
      "metadata": {
        "Collapsed": "false",
        "id": "OjUNeFsxyguu"
      },
      "source": [
        "<img style=\"float: left;padding: 1.3em\" src=\"https://raw.githubusercontent.com/gw-odw/odw-2023/main/Tutorials/logo.png\">  \n",
        "\n",
        "\n",
        "#  Gravitational Wave Open Data Workshop #6\n",
        "\n",
        "\n",
        "## Tutorial 3.2: Parameter estimation for compact object mergers\n",
        "\n",
        "In this tutorial, we will learn how to run our own parameter estimation analysis for compact object mergers using the [bilby Bayesian inference library](https://lscsoft.docs.ligo.org/bilby/). Specifically, we will analyse the first detection, GW150914 using open data. Typically, a full analysis using stochastic sampling on a personal computer can take many hours if not days. Therefore, this analysis will be restricted to a non-spinning binary black hole model and neglect the marginalization of the calibration uncertainty. This will take about 30 minutes to run (note that a bottleneck is given by the first cell in the Section \"Create a likelihood-Run the analysis\": computational time depends a lot on the machine you decide to run, on Google Colab is about 10 minutes this cell only).\n",
        "   \n",
        "   \n",
        "You can find more examples of using bilby here: https://lscsoft.docs.ligo.org/bilby/examples.html\n",
        "\n",
        "[Click this link to view this tutorial in Google Colaboratory](https://colab.research.google.com/github/gw-odw/odw-2023/blob/main/Tutorials/Day_3/Tuto_3.2_Parameter_estimation_for_compact_object_mergers.ipynb)\n"
      ]
    },
    {
      "cell_type": "markdown",
      "metadata": {
        "Collapsed": "false",
        "id": "VwsIdKJ3yguv"
      },
      "source": [
        "##  Installation  (execute only if running on a cloud platform!)"
      ]
    },
    {
      "cell_type": "code",
      "execution_count": 8,
      "metadata": {
        "Collapsed": "false",
        "id": "eJeo4XrHyguw",
        "tags": []
      },
      "outputs": [],
      "source": [
        "# -- Use the following line in Google Colab\n",
        "! pip install -q lalsuite==7.11 bilby==2.2.1 gwpy==3.0.7 matplotlib==3.5.3 dynesty==2.1.1\n"
      ]
    },
    {
      "cell_type": "markdown",
      "metadata": {
        "Collapsed": "false",
        "id": "f0q3Y_9gygu0"
      },
      "source": [
        "**Important:** With Google Colab, you may need to restart the runtime after running the cell above."
      ]
    },
    {
      "cell_type": "markdown",
      "metadata": {
        "Collapsed": "false",
        "id": "XK8fHu13ygu1"
      },
      "source": [
        "## Initialization\n",
        "\n",
        "We begin by importing some commonly used functions"
      ]
    },
    {
      "cell_type": "code",
      "execution_count": 9,
      "metadata": {
        "Collapsed": "false",
        "id": "HyRSGt6cygu2",
        "tags": []
      },
      "outputs": [],
      "source": [
        "import numpy as np\n",
        "import matplotlib.pyplot as plt\n",
        "\n",
        "import bilby\n",
        "from bilby.core.prior import Uniform, PowerLaw\n",
        "from bilby.gw.conversion import convert_to_lal_binary_black_hole_parameters, generate_all_bbh_parameters\n",
        "\n",
        "from gwpy.timeseries import TimeSeries"
      ]
    },
    {
      "cell_type": "markdown",
      "metadata": {
        "id": "JMhopvVzJDc4"
      },
      "source": [
        "## Bilby version"
      ]
    },
    {
      "cell_type": "code",
      "execution_count": 10,
      "metadata": {
        "tags": [],
        "id": "9PccsxUpJDc5",
        "outputId": "08d36c67-3a15-4545-cb99-a8496abac7d3",
        "colab": {
          "base_uri": "https://localhost:8080/"
        }
      },
      "outputs": [
        {
          "output_type": "stream",
          "name": "stdout",
          "text": [
            "2.2.1\n"
          ]
        }
      ],
      "source": [
        "print(bilby.__version__)"
      ]
    },
    {
      "cell_type": "markdown",
      "metadata": {
        "Collapsed": "false",
        "id": "_Hd4d4KVygu6"
      },
      "source": [
        "## Getting the data: GW150914\n",
        "\n",
        "In this notebook, we'll analyse GW150914. Our first task is to obtain some data!\n",
        "\n",
        "We need to know the trigger time. This can be found on the [GWOSC page](https://www.gw-openscience.org/events/GW150914/), here we define it as a variable"
      ]
    },
    {
      "cell_type": "code",
      "execution_count": 11,
      "metadata": {
        "Collapsed": "false",
        "id": "1cUhLaFIygu6",
        "tags": []
      },
      "outputs": [],
      "source": [
        "time_of_event = 1126259462.4"
      ]
    },
    {
      "cell_type": "markdown",
      "metadata": {
        "id": "WQ0sVD8XJDc6"
      },
      "source": [
        "### Set up empty interferometers\n",
        "\n",
        "We need to get some data to analyse. We'll be using data from the Hanford (H1) and Livingston (L1) ground-based gravitational wave detectors. To organise ourselves, we'll create two \"empty\" interferometers. These are empty in the sense that they don't have any strain data. But, they know about the orientation and location of their respective namesakes. It may also be interesting to note that they are initialised with the planned design sensitivity power spectral density of advanced LIGO - we'll overwrite this later on, but it is often useful for simulations."
      ]
    },
    {
      "cell_type": "code",
      "execution_count": 12,
      "metadata": {
        "tags": [],
        "id": "FbfJoUKFJDc6"
      },
      "outputs": [],
      "source": [
        "H1 = bilby.gw.detector.get_empty_interferometer(\"H1\")\n",
        "L1 = bilby.gw.detector.get_empty_interferometer(\"L1\")"
      ]
    },
    {
      "cell_type": "markdown",
      "metadata": {
        "id": "xzlGcdkeJDc6"
      },
      "source": [
        "### Download the data\n",
        "\n",
        "To analyse the signal, we need to download analysis data. Here, we will use [gwpy](https://gwpy.github.io/) to download the open strain data. For a general introduction to reading/writing data with gwpy, see [the documentation](https://gwpy.github.io/docs/stable/timeseries/).\n",
        "\n",
        "To analyse GW150914, we will use a 4s period duration centered on the event itself. It is standard to choose the data such that it always includes a \"post trigger duration\" of 2s. That is, there is always 2s of data after the trigger time. We therefore define all times relative to the trigger time, duration and this post-trigger duration."
      ]
    },
    {
      "cell_type": "code",
      "execution_count": 13,
      "metadata": {
        "tags": [],
        "id": "bWt42eXMJDc6"
      },
      "outputs": [],
      "source": [
        "# Definite times in relation to the trigger time (time_of_event), duration and post_trigger_duration\n",
        "post_trigger_duration = 2\n",
        "duration = 4\n",
        "analysis_start = time_of_event + post_trigger_duration - duration\n",
        "\n",
        "# Use gwpy to fetch the open data\n",
        "H1_analysis_data = TimeSeries.fetch_open_data(\n",
        "    \"H1\", analysis_start, analysis_start + duration, sample_rate=4096, cache=True)\n",
        "\n",
        "L1_analysis_data = TimeSeries.fetch_open_data(\n",
        "    \"L1\", analysis_start, analysis_start + duration, sample_rate=4096, cache=True)"
      ]
    },
    {
      "cell_type": "markdown",
      "metadata": {
        "id": "BoLsd70oJDc6"
      },
      "source": [
        "Here, `H1_analysis_data` and its L1 counterpart are gwpy `TimeSeries` objects. As such, we can plot the data itself out:"
      ]
    },
    {
      "cell_type": "code",
      "execution_count": 14,
      "metadata": {
        "tags": [],
        "id": "zXXitWhcJDc6",
        "outputId": "6f7e6ab9-d700-4c6a-ec32-4f5e76890eb9",
        "colab": {
          "base_uri": "https://localhost:8080/",
          "height": 370
        }
      },
      "outputs": [
        {
          "output_type": "display_data",
          "data": {
            "text/plain": [
              "<Plot size 1200x400 with 1 Axes>"
            ],
            "image/png": "[encoded data removed]"
          },
          "metadata": {}
        }
      ],
      "source": [
        "H1_analysis_data.plot()\n",
        "plt.show()"
      ]
    },
    {
      "cell_type": "markdown",
      "metadata": {
        "id": "zzsnbmRrJDc6"
      },
      "source": [
        "This doesn't tell us much of course! It is dominated by the low frequency noise.\n",
        "\n",
        "### Initialise the Bilby interferometers with the strain data\n",
        "\n",
        "Now, we pass the downloaded strain data to our `H1` and `L1` Bilby interferometer objects. For other methods to set the strain data, see the various `set_strain_data*` methods."
      ]
    },
    {
      "cell_type": "code",
      "execution_count": 15,
      "metadata": {
        "tags": [],
        "id": "VPmkPk1gJDc6"
      },
      "outputs": [],
      "source": [
        "H1.set_strain_data_from_gwpy_timeseries(H1_analysis_data)\n",
        "L1.set_strain_data_from_gwpy_timeseries(L1_analysis_data)"
      ]
    },
    {
      "cell_type": "markdown",
      "metadata": {
        "id": "7qStp2AXJDc6"
      },
      "source": [
        "### Download the power spectral data\n",
        "\n",
        "Parameter estimation relies on having a power spectral density (PSD) - an estimate of the coloured noise properties of the data. Here, we will create a PSD using off-source data. For a review of methods to estimate PSDs, see, e.g. [Chatziioannou et al. (2019)](https://ui.adsabs.harvard.edu/abs/2019PhRvD.100j4004C/abstract).\n",
        "\n",
        "Again, we need to download this from the open strain data. We start by figuring out the amount of data needed - in this case 32 times the analysis duration. We fetch the segment with this duration immediately preceding the analysis segment."
      ]
    },
    {
      "cell_type": "code",
      "execution_count": 16,
      "metadata": {
        "tags": [],
        "id": "qrNIkETQJDc6"
      },
      "outputs": [],
      "source": [
        "psd_duration = duration * 32\n",
        "psd_start_time = analysis_start - psd_duration\n",
        "\n",
        "H1_psd_data = TimeSeries.fetch_open_data(\n",
        "    \"H1\", psd_start_time, psd_start_time + psd_duration, sample_rate=4096, cache=True)\n",
        "\n",
        "L1_psd_data = TimeSeries.fetch_open_data(\n",
        "    \"L1\", psd_start_time, psd_start_time + psd_duration, sample_rate=4096, cache=True)"
      ]
    },
    {
      "cell_type": "markdown",
      "metadata": {
        "id": "RXZ5FCIjJDc6"
      },
      "source": [
        "Having obtained the data to generate the PSD, we now use the standard [gwpy psd](https://gwpy.github.io/docs/stable/api/gwpy.timeseries.TimeSeries/#gwpy.timeseries.TimeSeries.psd) method to calculate the PSD. Here, the `psd_alpha` variable is converting the `roll_off` applied to the strain data into the fractional value used by `gwpy`. This applies a window with an appropriate shape to the time-domain data."
      ]
    },
    {
      "cell_type": "code",
      "execution_count": 17,
      "metadata": {
        "scrolled": true,
        "tags": [],
        "id": "0wR7dPqhJDc6"
      },
      "outputs": [],
      "source": [
        "psd_alpha = 2 * H1.strain_data.roll_off / duration\n",
        "H1_psd = H1_psd_data.psd(fftlength=duration, overlap=0, window=(\"tukey\", psd_alpha), method=\"median\")\n",
        "L1_psd = L1_psd_data.psd(fftlength=duration, overlap=0, window=(\"tukey\", psd_alpha), method=\"median\")"
      ]
    },
    {
      "cell_type": "markdown",
      "metadata": {
        "id": "z-7NV8pQJDc6"
      },
      "source": [
        "### Initialise the PSD\n",
        "Now that we have PSDs for H1 and L1, we can overwrite the `power_spectal_density` attribute of our interferometers with a new PSD."
      ]
    },
    {
      "cell_type": "code",
      "execution_count": 18,
      "metadata": {
        "tags": [],
        "id": "_4UR-NQeJDc6"
      },
      "outputs": [],
      "source": [
        "H1.power_spectral_density = bilby.gw.detector.PowerSpectralDensity(\n",
        "    frequency_array=H1_psd.frequencies.value, psd_array=H1_psd.value)\n",
        "L1.power_spectral_density = bilby.gw.detector.PowerSpectralDensity(\n",
        "    frequency_array=H1_psd.frequencies.value, psd_array=L1_psd.value)"
      ]
    },
    {
      "cell_type": "markdown",
      "metadata": {
        "id": "yrFoaBZRJDc6"
      },
      "source": [
        "### Looking at the data\n",
        "Okay, we have spent a bit of time now downloading and initializing things. Let's check that everything makes sense. To do this, we'll plot our analysis data alongside the amplitude spectral density (ASD); this is just the square root of the PSD and has the right units to be comparable to the frequency-domain strain data."
      ]
    },
    {
      "cell_type": "code",
      "execution_count": 19,
      "metadata": {
        "tags": [],
        "id": "27ZSAytXJDc7",
        "outputId": "68c8ec9e-f79e-4374-efb1-13a8754c8bb1",
        "colab": {
          "base_uri": "https://localhost:8080/",
          "height": 460
        }
      },
      "outputs": [
        {
          "output_type": "display_data",
          "data": {
            "text/plain": [
              "<Figure size 640x480 with 1 Axes>"
            ],
            "image/png": "[encoded data removed]"
          },
          "metadata": {}
        }
      ],
      "source": [
        "fig, ax = plt.subplots()\n",
        "idxs = H1.strain_data.frequency_mask  # This is a boolean mask of the frequencies which we'll use in the analysis\n",
        "ax.loglog(H1.strain_data.frequency_array[idxs],\n",
        "          np.abs(H1.strain_data.frequency_domain_strain[idxs]))\n",
        "ax.loglog(H1.power_spectral_density.frequency_array[idxs],\n",
        "          H1.power_spectral_density.asd_array[idxs])\n",
        "ax.set_xlabel(\"Frequency [Hz]\")\n",
        "ax.set_ylabel(\"Strain [strain/$\\sqrt{Hz}$]\")\n",
        "plt.show()"
      ]
    },
    {
      "cell_type": "markdown",
      "metadata": {
        "id": "gdUlKopWJDc7"
      },
      "source": [
        "What is happening at high frequencies? This is an artifact of the downsampling applied to the data - note that we downloaded the 4096Hz data which is downsampled from 16384Hz. We aren't really interested in the data at these high frequencies so let's adjust the maximum frequency used in the analysis to 1024 Hz and plot things again."
      ]
    },
    {
      "cell_type": "code",
      "execution_count": 20,
      "metadata": {
        "tags": [],
        "id": "PNJQMOEVJDc7"
      },
      "outputs": [],
      "source": [
        "H1.maximum_frequency = 1024\n",
        "L1.maximum_frequency = 1024"
      ]
    },
    {
      "cell_type": "code",
      "execution_count": 21,
      "metadata": {
        "tags": [],
        "id": "ZM4L9tInJDc7",
        "outputId": "0897ce0c-1257-4ec1-e618-4743a107307f",
        "colab": {
          "base_uri": "https://localhost:8080/",
          "height": 460
        }
      },
      "outputs": [
        {
          "output_type": "display_data",
          "data": {
            "text/plain": [
              "<Figure size 640x480 with 1 Axes>"
            ],
            "image/png": "[encoded data removed]"
          },
          "metadata": {}
        }
      ],
      "source": [
        "fig, ax = plt.subplots()\n",
        "idxs = H1.strain_data.frequency_mask\n",
        "ax.loglog(H1.strain_data.frequency_array[idxs],\n",
        "          np.abs(H1.strain_data.frequency_domain_strain[idxs]))\n",
        "ax.loglog(H1.power_spectral_density.frequency_array[idxs],\n",
        "          H1.power_spectral_density.asd_array[idxs])\n",
        "ax.set_xlabel(\"Frequency [Hz]\")\n",
        "ax.set_ylabel(\"Strain [strain/$\\sqrt{Hz}$]\")\n",
        "plt.show()"
      ]
    },
    {
      "cell_type": "markdown",
      "metadata": {
        "id": "ZxxpcD9DJDc7"
      },
      "source": [
        "Okay, that is better - we now won't analyse any data near to the artifact produced by downsampling. Now we have some sensible data to analyse so let's get right on with doing the analysis!"
      ]
    },
    {
      "cell_type": "markdown",
      "metadata": {
        "id": "dL1J3FVlJDc7"
      },
      "source": [
        "## Low dimensional analysis\n",
        "\n",
        "In general a compact binary coalescence signal is described by 15 parameters describing the masses, spins, orientation, and position of the two compact objects along with a time at which the signal merges. The goal of parameter estimation is to figure out what the data (and any cogent prior information) can tell us about the likely values of these parameters - this is called the \"posterior distribution of the parameters\".\n",
        "\n",
        "To start with, we'll analyse the data fixing all but a few of the parameters to known values (in Bayesian lingo - we use delta function priors), this will enable us to run things in a few minutes rather than the many hours needed to do full parameter estimation.\n",
        "\n",
        "We'll start by thinking about the mass of the system. We call the heavier black hole the primary and label its mass $m_1$ and that of the secondary (lighter) black hole $m_2$. In this way, we always define $m_1 \\ge m_2$. It turns out that inferences about $m_1$ and $m_2$ are highly correlated, we'll see exactly what this means later on.\n",
        "\n",
        "Bayesian inference methods are powerful at figuring out highly correlated posteriors. But, we can help it along by sampling in parameters which are not highly correlated. In particular, we define a new parameter called the [chirp mass](https://en.wikipedia.org/wiki/Chirp_mass) to be\n",
        "\n",
        "$$ \\mathcal{M} = \\frac{(m_1 m_2)^{3/5}}{(m_1 + m_2)^{1/5}} $$\n",
        "\n",
        "and the mass ratio\n",
        "\n",
        "$$ q = \\frac{m_{2}}{m_1} $$\n",
        "\n",
        "If we sample (make inferences about) $\\mathcal{M}$ and $q$, our code is much faster than if we use $m_1$ and $m_2$ directly! Note that so long as equivalent prior is given - one can also sample in the component masses themselves and you will get the same answer, it is just much slower!\n",
        "\n",
        "Once we have inferred $\\mathcal{M}$ and $q$, we can then derive $m_1$ and $m_2$ from the resulting samples (we'll do that in just a moment).\n",
        "\n",
        "Okay, let's run a short (~1min on a single 2.8GHz core), low-dimensional parameter estimation analysis. This is done by defining a prior dictionary where all parameters are fixed, except those that we want to vary."
      ]
    },
    {
      "cell_type": "markdown",
      "metadata": {
        "id": "C6XeszHqJDc7"
      },
      "source": [
        "### Create a prior\n",
        "\n",
        "Here, we create a prior fixing everything except the chirp mass, mass ratio, phase and geocent_time parameters to fixed values. The first two were described above. The second two give the phase of the system and the time at which it merges referred to the centre of the Earth (which is the standard reference considering that different detectors detect the same signal at appreciable different times, depending on the source location in the sky)."
      ]
    },
    {
      "cell_type": "code",
      "execution_count": 22,
      "metadata": {
        "tags": [],
        "id": "ZHkDjI1kJDc7"
      },
      "outputs": [],
      "source": [
        "prior = bilby.core.prior.PriorDict()\n",
        "prior['chirp_mass'] = Uniform(name='chirp_mass', minimum=30.0,maximum=32.5)\n",
        "prior['mass_ratio'] = Uniform(name='mass_ratio', minimum=0.5, maximum=1)\n",
        "prior['phase'] = Uniform(name=\"phase\", minimum=0, maximum=2*np.pi)\n",
        "prior['geocent_time'] = Uniform(name=\"geocent_time\", minimum=time_of_event-0.1, maximum=time_of_event+0.1)\n",
        "prior['a_1'] =  0.0\n",
        "prior['a_2'] =  0.0\n",
        "prior['tilt_1'] =  0.0\n",
        "prior['tilt_2'] =  0.0\n",
        "prior['phi_12'] =  0.0\n",
        "prior['phi_jl'] =  0.0\n",
        "prior['dec'] =  -1.2232\n",
        "prior['ra'] =  2.19432\n",
        "prior['theta_jn'] =  1.89694\n",
        "prior['psi'] =  0.532268\n",
        "prior['luminosity_distance'] = PowerLaw(alpha=2, name='luminosity_distance', minimum=50, maximum=2000, unit='Mpc', latex_label='$d_L$')\n"
      ]
    },
    {
      "cell_type": "markdown",
      "metadata": {
        "id": "trBmUgY3JDc7"
      },
      "source": [
        "## Create a likelihood\n",
        "\n",
        "For Bayesian inference, we need to evaluate the likelihood. In Bilby, we create a likelihood object. This is the communication interface between the sampling part of Bilby and the data. Explicitly, when Bilby is sampling it only uses the `parameters` and `log_likelihood()` of the likelihood object. This means the likelihood can be arbitrarily complicated and the sampling part of Bilby won't mind a bit!\n",
        "\n",
        "Let's create a `GravitationalWaveTransient`, a special inbuilt method carefully designed to wrap up evaluating the likelihood of a waveform model in some data."
      ]
    },
    {
      "cell_type": "code",
      "execution_count": 23,
      "metadata": {
        "tags": [],
        "id": "09of-7QoJDc7",
        "outputId": "9f5f7e83-d182-45b5-8946-e34497164f4a",
        "colab": {
          "base_uri": "https://localhost:8080/",
          "height": 156,
          "referenced_widgets": [
            "094b7c40a52a46189c280c5ec44166d2",
            "967daba3a99f47d18c20e8ee4ae770ad",
            "0ade8d7f002a40228e22d8bfb476a17e",
            "429e7215bb114dcbb8de4fa66b5435a1",
            "aafdc93bfdb94fdc83bb0d572d663eff",
            "5d1fa3dc8f58429996f35c0bbdb19f74",
            "e37f7f93754641d09b2a1a912a272f2b",
            "ae48ef1a30a14ac4959e7af6e74ab2ef",
            "a06559bb22b545ae87b7b78cabec55f9",
            "6346b62d37494831b56f0446062d0aaa",
            "cb7120e077224b48b65b2020e7e90338"
          ]
        }
      },
      "outputs": [
        {
          "output_type": "stream",
          "name": "stderr",
          "text": [
            "17:06 bilby INFO    : Waveform generator initiated with\n",
            "  frequency_domain_source_model: bilby.gw.source.lal_binary_black_hole\n",
            "  time_domain_source_model: None\n",
            "  parameter_conversion: bilby.gw.conversion.convert_to_lal_binary_black_hole_parameters\n",
            "17:07 bilby INFO    : Distance marginalisation file .distance_marginalization_lookup.npz does not exist\n",
            "17:07 bilby INFO    : Building lookup table for distance marginalisation.\n"
          ]
        },
        {
          "output_type": "display_data",
          "data": {
            "text/plain": [
              "  0%|          | 0/400 [00:00<?, ?it/s]"
            ],
            "application/vnd.jupyter.widget-view+json": {
              "version_major": 2,
              "version_minor": 0,
              "model_id": "094b7c40a52a46189c280c5ec44166d2"
            }
          },
          "metadata": {}
        }
      ],
      "source": [
        "# First, put our \"data\" created above into a list of interferometers (the order is arbitrary)\n",
        "interferometers = [H1, L1]\n",
        "\n",
        "# Next create a dictionary of arguments which we pass into the LALSimulation waveform - we specify the waveform approximant here\n",
        "waveform_arguments = dict(\n",
        "    waveform_approximant='IMRPhenomXP', reference_frequency=100., catch_waveform_errors=True)\n",
        "\n",
        "# Next, create a waveform_generator object. This wraps up some of the jobs of converting between parameters etc\n",
        "waveform_generator = bilby.gw.WaveformGenerator(\n",
        "    frequency_domain_source_model=bilby.gw.source.lal_binary_black_hole,\n",
        "    waveform_arguments=waveform_arguments,\n",
        "    parameter_conversion=convert_to_lal_binary_black_hole_parameters)\n",
        "\n",
        "# Finally, create our likelihood, passing in what is needed to get going\n",
        "likelihood = bilby.gw.likelihood.GravitationalWaveTransient(\n",
        "    interferometers, waveform_generator, priors=prior,\n",
        "    time_marginalization=True, phase_marginalization=True, distance_marginalization=True)"
      ]
    },
    {
      "cell_type": "markdown",
      "metadata": {
        "id": "_HfQMJwKJDc7"
      },
      "source": [
        "Note that we also specify `time_marginalization=True`, `phase_marginalization=True`, and `distance_marginalization=True`. This is a trick often used in Bayesian inference. We analytically marginalize (integrate) over the time/phase of the system while sampling, effectively reducing the parameter space and making it easier to sample. Bilby will then figure out (after the sampling) posteriors for these marginalized parameters. For an introduction to this topic, see [Thrane & Talbot (2019)](https://arxiv.org/abs/1809.02293)."
      ]
    },
    {
      "cell_type": "markdown",
      "metadata": {
        "id": "bgCj7qSLJDc7"
      },
      "source": [
        "### Run the analysis"
      ]
    },
    {
      "cell_type": "markdown",
      "metadata": {
        "Collapsed": "false",
        "id": "LCfygeVyygvM"
      },
      "source": [
        "Now that the prior is set-up and the likelihood is set-up (with the data and the signal mode), we can run the sampler to get the posterior result. This function takes the likelihood and prior along with some options for how to do the sampling and how to save the data."
      ]
    },
    {
      "cell_type": "code",
      "execution_count": 24,
      "metadata": {
        "Collapsed": "false",
        "colab": {
          "base_uri": "https://localhost:8080/",
          "height": 1000,
          "referenced_widgets": [
            "353eb50060814081bb84a68037af2933",
            "f00328c9bb144edcb01ed152c4dd89ca",
            "24c848ab5b19446682c22204bcf85c5e",
            "c141c326e2d24ea7b08524c4ea5ff08e",
            "570a6c48e1c541dfaf12bdcf3d3fc02c",
            "ce270e52f45640d0868d3aae2a3fe99a",
            "477493f69acf46ccb3aa4c93063bcccf",
            "4242dfee00224331b7fe6298be9d1eac",
            "ca2da67de79c4e2481bf025c402a270f",
            "26ff8bb3c8294cbc932b5246808cc078",
            "3bf510d853404234b7292e0d3e6bbcd4",
            "d1f34282ed674d1d878aa76b9fcb9ec1",
            "ed4d04c14f604de2bd87aff453ec84cd",
            "673e7ed50a7b4ca0b6507a7c27830d3c",
            "5539bab847e4439ab34fa9748bf473dd",
            "eee69ec31c8d4c08a061fc832c80ae6a",
            "2777377793d04aef87a67e42dc09a4da",
            "8f92121919de47499c36309b26079438",
            "b08d40505d834fc7817562040d2b488b",
            "24c4bb9f17eb456d848c01ee37137b3d",
            "f4f94d81d1a5438495d5f24fc1d94b31",
            "22014aa08f4b44cb8ff8fcbe4922e9ed",
            "3c73226c67b1449f9f30a07ddd18bd96",
            "5f44285fb6394154b0ed29b3033d683a",
            "d2d8f54e8ccc49b1b624c7406bcba601",
            "5416d2825a684f15992cc5329291b8f3",
            "05a71d32bc444cc2a8667a8c07ac57e8",
            "6ded0396356045d8953613459dba3098",
            "0c1c7f49b6834c5d8a3661ff106d1fd9",
            "356e834b50c740f89bcd95a3e6dfda9b",
            "953a6fea533e40f5b784ab59ab783d87",
            "b901feabc0a241d7a84acf50061a5c81",
            "c526b1cb5b1d4f0f8978c372b82f8dc5",
            "0de3685b574849eba7a2c2126708eeb7",
            "93bc98a2552f46ec93905b4081916308",
            "b6923e10df654c8baccd35781bbcf2f4",
            "14012c6a98604c5496511ef4dce0846a",
            "10c9f8cc68af4e3f97fbed0eea3fccbe",
            "91e3eab6b1684b5d9014ade57e6acda6",
            "cad9c9c2fc724767a04beab2e3a2077f",
            "0606a07c127046cb9d29877ee87024fa",
            "f8e71593718041b8a0a7332211143d38",
            "61d9fb0362444382a1ce19862720acd2",
            "edaa3631b2df4663bc9ac8b2e574ea26",
            "15b4bbfae86a415fa32b3b59d4e3f078",
            "fa15ad360d05411fbc6acb04dbcdc406",
            "61c51f9c5e144bac9784338711b8ee97",
            "09379eb660884fecb175ba5b15430414",
            "f92e3d697e3944afad522ea9816ee7d1",
            "f0c9eb2f23ad4b9793705f8a625f5233",
            "537ed6fdee3c414498bb29a6eb555774",
            "b353a384d08f4dc18fb1d73f5112f8c5",
            "c9d890d689084db482e2ec10d06d04a7",
            "2c1eec290a8045e2a541c7336890e8f3",
            "c432faa564a84e5fb07d1b035a5f18fe"
          ]
        },
        "id": "HHS9JSX3ygvN",
        "outputId": "07bb73e1-e1c0-43ee-a99e-3a754679c4c5",
        "tags": []
      },
      "outputs": [
        {
          "output_type": "stream",
          "name": "stderr",
          "text": [
            "17:08 bilby INFO    : Running for label 'GW150914', output will be saved to 'short'\n",
            "17:08 bilby INFO    : Using lal version 7.2.4\n",
            "17:08 bilby INFO    : Using lal git version Branch: None;Tag: lalsuite-v7.11;Id: 7a2f2aa176ad39eeaede38f6df4a41d6bf226e8f;;Builder: Unknown User <>;Repository status: CLEAN: All modifications committed\n",
            "17:08 bilby INFO    : Using lalsimulation version 4.0.2\n",
            "17:08 bilby INFO    : Using lalsimulation git version Branch: None;Tag: lalsuite-v7.11;Id: 7a2f2aa176ad39eeaede38f6df4a41d6bf226e8f;;Builder: Unknown User <>;Repository status: CLEAN: All modifications committed\n",
            "/usr/local/lib/python3.10/dist-packages/_distutils_hack/__init__.py:33: UserWarning: Setuptools is replacing distutils.\n",
            "  warnings.warn(\"Setuptools is replacing distutils.\")\n",
            "17:08 bilby INFO    : Analysis priors:\n",
            "17:08 bilby INFO    : chirp_mass=Uniform(minimum=30.0, maximum=32.5, name='chirp_mass', latex_label='$\\\\mathcal{M}$', unit=None, boundary=None)\n",
            "17:08 bilby INFO    : mass_ratio=Uniform(minimum=0.5, maximum=1, name='mass_ratio', latex_label='$q$', unit=None, boundary=None)\n",
            "17:08 bilby INFO    : time_jitter=Uniform(minimum=-0.000244140625, maximum=0.000244140625, name='time_jitter', latex_label='$t_j$', unit=None, boundary='periodic')\n",
            "17:08 bilby INFO    : phase=0.0\n",
            "17:08 bilby INFO    : geocent_time=1126259460.3999023\n",
            "17:08 bilby INFO    : a_1=0.0\n",
            "17:08 bilby INFO    : a_2=0.0\n",
            "17:08 bilby INFO    : tilt_1=0.0\n",
            "17:08 bilby INFO    : tilt_2=0.0\n",
            "17:08 bilby INFO    : phi_12=0.0\n",
            "17:08 bilby INFO    : phi_jl=0.0\n",
            "17:08 bilby INFO    : dec=-1.2232\n",
            "17:08 bilby INFO    : ra=2.19432\n",
            "17:08 bilby INFO    : theta_jn=1.89694\n",
            "17:08 bilby INFO    : psi=0.532268\n",
            "17:08 bilby INFO    : luminosity_distance=1587.4093196389506\n",
            "17:08 bilby INFO    : Analysis likelihood class: <class 'bilby.gw.likelihood.base.GravitationalWaveTransient'>\n",
            "17:08 bilby INFO    : Analysis likelihood noise evidence: -8534.561633624302\n",
            "17:09 bilby INFO    : Single likelihood evaluation took 8.036e-02 s\n",
            "17:09 bilby INFO    : Using sampler Dynesty with kwargs {'nlive': 250, 'bound': 'live', 'sample': 'act-walk', 'periodic': None, 'reflective': None, 'update_interval': 600, 'first_update': None, 'npdim': None, 'rstate': None, 'queue_size': 1, 'pool': None, 'use_pool': None, 'live_points': None, 'logl_args': None, 'logl_kwargs': None, 'ptform_args': None, 'ptform_kwargs': None, 'gradient': None, 'grad_args': None, 'grad_kwargs': None, 'compute_jac': False, 'enlarge': None, 'bootstrap': None, 'walks': 100, 'facc': 0.2, 'slices': None, 'fmove': 0.9, 'max_move': 100, 'update_func': None, 'ncdim': None, 'blob': False, 'save_history': False, 'history_filename': None, 'maxiter': None, 'maxcall': None, 'dlogz': 1.0, 'logl_max': inf, 'n_effective': None, 'add_live': True, 'print_progress': True, 'print_func': <bound method Dynesty._print_func of <bilby.core.sampler.dynesty.Dynesty object at 0x78832d855ab0>>, 'save_bounds': False, 'checkpoint_file': None, 'checkpoint_every': 60, 'resume': False}\n",
            "17:09 bilby INFO    : Checkpoint every check_point_delta_t = 600s\n",
            "17:09 bilby INFO    : Using dynesty version 2.1.1\n",
            "17:09 bilby INFO    : Using the bilby-implemented act-walk sampling tracking the autocorrelation function and thinning by 2 with maximum length 10000\n",
            "17:09 bilby INFO    : Generating initial points from the prior\n"
          ]
        },
        {
          "output_type": "display_data",
          "data": {
            "text/plain": [
              "1it [00:00, ?it/s]"
            ],
            "application/vnd.jupyter.widget-view+json": {
              "version_major": 2,
              "version_minor": 0,
              "model_id": "353eb50060814081bb84a68037af2933"
            }
          },
          "metadata": {}
        },
        {
          "output_type": "stream",
          "name": "stderr",
          "text": [
            "17:15 bilby INFO    : Written checkpoint file short/GW150914_resume.pickle\n",
            "17:15 bilby INFO    : Rejection sampling nested samples to obtain 287 posterior samples\n",
            "17:15 bilby INFO    : Sampling time: 0:05:48.016138\n"
          ]
        },
        {
          "output_type": "stream",
          "name": "stdout",
          "text": [
            "\n"
          ]
        },
        {
          "output_type": "stream",
          "name": "stderr",
          "text": [
            "17:15 bilby INFO    : Computing per-detector log likelihoods.\n"
          ]
        },
        {
          "output_type": "display_data",
          "data": {
            "text/plain": [
              "  0%|          | 0/287 [00:00<?, ?it/s]"
            ],
            "application/vnd.jupyter.widget-view+json": {
              "version_major": 2,
              "version_minor": 0,
              "model_id": "d1f34282ed674d1d878aa76b9fcb9ec1"
            }
          },
          "metadata": {}
        },
        {
          "output_type": "stream",
          "name": "stderr",
          "text": [
            "17:15 bilby INFO    : Reconstructing marginalised parameters.\n"
          ]
        },
        {
          "output_type": "display_data",
          "data": {
            "text/plain": [
              "  0%|          | 0/287 [00:00<?, ?it/s]"
            ],
            "application/vnd.jupyter.widget-view+json": {
              "version_major": 2,
              "version_minor": 0,
              "model_id": "3c73226c67b1449f9f30a07ddd18bd96"
            }
          },
          "metadata": {}
        },
        {
          "output_type": "stream",
          "name": "stderr",
          "text": [
            "17:16 bilby INFO    : Generating sky frame parameters.\n"
          ]
        },
        {
          "output_type": "display_data",
          "data": {
            "text/plain": [
              "  0%|          | 0/287 [00:00<?, ?it/s]"
            ],
            "application/vnd.jupyter.widget-view+json": {
              "version_major": 2,
              "version_minor": 0,
              "model_id": "0de3685b574849eba7a2c2126708eeb7"
            }
          },
          "metadata": {}
        },
        {
          "output_type": "stream",
          "name": "stderr",
          "text": [
            "17:16 bilby INFO    : Computing SNRs for every sample.\n"
          ]
        },
        {
          "output_type": "display_data",
          "data": {
            "text/plain": [
              "  0%|          | 0/287 [00:00<?, ?it/s]"
            ],
            "application/vnd.jupyter.widget-view+json": {
              "version_major": 2,
              "version_minor": 0,
              "model_id": "15b4bbfae86a415fa32b3b59d4e3f078"
            }
          },
          "metadata": {}
        },
        {
          "output_type": "stream",
          "name": "stderr",
          "text": [
            "17:16 bilby INFO    : Summary of results:\n",
            "nsamples: 287\n",
            "ln_noise_evidence: -8534.562\n",
            "ln_evidence: -8249.952 +/-  0.203\n",
            "ln_bayes_factor: 284.610 +/-  0.203\n",
            "\n"
          ]
        }
      ],
      "source": [
        "result_short = bilby.run_sampler(\n",
        "    likelihood, prior, sampler='dynesty', outdir='short', label=\"GW150914\",\n",
        "    conversion_function=bilby.gw.conversion.generate_all_bbh_parameters,\n",
        "    nlive=250, dlogz=1.,  # <- Arguments are used to make things fast - not recommended for general use\n",
        "    clean=True,\n",
        ")"
      ]
    },
    {
      "cell_type": "markdown",
      "metadata": {
        "id": "kzXg_YMMJDc_"
      },
      "source": [
        "### Looking at the outputs"
      ]
    },
    {
      "cell_type": "markdown",
      "metadata": {
        "Collapsed": "false",
        "id": "wKR045TIygvT"
      },
      "source": [
        "The `run_sampler` returned `result_short` - this is a Bilby result object. The posterior samples are stored in a [pandas data frame](https://pandas.pydata.org/pandas-docs/stable/reference/api/pandas.DataFrame.html) (think of this like a spreadsheet); let's take a look at it"
      ]
    },
    {
      "cell_type": "code",
      "execution_count": 25,
      "metadata": {
        "tags": [],
        "id": "8dZFTtIZJDc_",
        "outputId": "bb1d16b4-70b9-4f94-8f60-088088b9a041",
        "colab": {
          "base_uri": "https://localhost:8080/",
          "height": 444
        }
      },
      "outputs": [
        {
          "output_type": "execute_result",
          "data": {
            "text/plain": [
              "     chirp_mass  mass_ratio  time_jitter     phase  geocent_time  a_1  a_2  \\\n",
              "0     30.288789    0.731623    -0.000111  4.712898  1.126259e+09  0.0  0.0   \n",
              "1     30.769601    0.610842    -0.000169  1.324897  1.126259e+09  0.0  0.0   \n",
              "2     30.463792    0.679857     0.000101  1.514381  1.126259e+09  0.0  0.0   \n",
              "3     31.731824    0.890806    -0.000090  4.413856  1.126259e+09  0.0  0.0   \n",
              "4     31.150788    0.675012    -0.000179  1.422207  1.126259e+09  0.0  0.0   \n",
              "..          ...         ...          ...       ...           ...  ...  ...   \n",
              "282   31.000797    0.949223    -0.000030  1.545637  1.126259e+09  0.0  0.0   \n",
              "283   31.043953    0.911545    -0.000075  4.821116  1.126259e+09  0.0  0.0   \n",
              "284   31.051153    0.937839    -0.000048  1.471342  1.126259e+09  0.0  0.0   \n",
              "285   31.054680    0.984716    -0.000068  1.614056  1.126259e+09  0.0  0.0   \n",
              "286   31.092863    0.991452    -0.000063  1.558599  1.126259e+09  0.0  0.0   \n",
              "\n",
              "     tilt_1  tilt_2  phi_12  ...  chi_2_in_plane  chi_p  cos_tilt_1  \\\n",
              "0       0.0     0.0     0.0  ...             0.0    0.0         1.0   \n",
              "1       0.0     0.0     0.0  ...             0.0    0.0         1.0   \n",
              "2       0.0     0.0     0.0  ...             0.0    0.0         1.0   \n",
              "3       0.0     0.0     0.0  ...             0.0    0.0         1.0   \n",
              "4       0.0     0.0     0.0  ...             0.0    0.0         1.0   \n",
              "..      ...     ...     ...  ...             ...    ...         ...   \n",
              "282     0.0     0.0     0.0  ...             0.0    0.0         1.0   \n",
              "283     0.0     0.0     0.0  ...             0.0    0.0         1.0   \n",
              "284     0.0     0.0     0.0  ...             0.0    0.0         1.0   \n",
              "285     0.0     0.0     0.0  ...             0.0    0.0         1.0   \n",
              "286     0.0     0.0     0.0  ...             0.0    0.0         1.0   \n",
              "\n",
              "     cos_tilt_2  redshift  comoving_distance  mass_1_source  mass_2_source  \\\n",
              "0           1.0  0.065226         284.247715      38.278826      28.005668   \n",
              "1           1.0  0.062999         274.691785      42.799862      26.143941   \n",
              "2           1.0  0.061780         269.456890      40.119283      27.275381   \n",
              "3           1.0  0.066913         291.482047      36.209760      32.255869   \n",
              "4           1.0  0.063512         276.894821      41.109601      27.749477   \n",
              "..          ...       ...                ...            ...            ...   \n",
              "282         1.0  0.070092         305.095612      34.158842      32.424373   \n",
              "283         1.0  0.066879         291.336572      35.016432      31.919061   \n",
              "284         1.0  0.062777         273.739072      34.659492      32.505007   \n",
              "285         1.0  0.066745         290.762445      33.699196      33.184140   \n",
              "286         1.0  0.064850         282.635550      33.685534      33.397574   \n",
              "\n",
              "     chirp_mass_source total_mass_source  \n",
              "0            28.434155         66.284493  \n",
              "1            28.946030         68.943803  \n",
              "2            28.691238         67.394664  \n",
              "3            29.741722         68.465629  \n",
              "4            29.290487         68.859078  \n",
              "..                 ...               ...  \n",
              "282          28.970226         66.583214  \n",
              "283          29.097917         66.935493  \n",
              "284          29.216993         67.164499  \n",
              "285          29.111627         66.883336  \n",
              "286          29.199296         67.083108  \n",
              "\n",
              "[287 rows x 52 columns]"
            ],
            "text/html": [
              "\n",
              "  <div id=\"df-c1829168-3228-416b-b095-f316326dacd7\" class=\"colab-df-container\">\n",
              "    <div>\n",
              "<style scoped>\n",
              "    .dataframe tbody tr th:only-of-type {\n",
              "        vertical-align: middle;\n",
              "    }\n",
              "\n",
              "    .dataframe tbody tr th {\n",
              "        vertical-align: top;\n",
              "    }\n",
              "\n",
              "    .dataframe thead th {\n",
              "        text-align: right;\n",
              "    }\n",
              "</style>\n",
              "<table border=\"1\" class=\"dataframe\">\n",
              "  <thead>\n",
              "    <tr style=\"text-align: right;\">\n",
              "      <th></th>\n",
              "      <th>chirp_mass</th>\n",
              "      <th>mass_ratio</th>\n",
              "      <th>time_jitter</th>\n",
              "      <th>phase</th>\n",
              "      <th>geocent_time</th>\n",
              "      <th>a_1</th>\n",
              "      <th>a_2</th>\n",
              "      <th>tilt_1</th>\n",
              "      <th>tilt_2</th>\n",
              "      <th>phi_12</th>\n",
              "      <th>...</th>\n",
              "      <th>chi_2_in_plane</th>\n",
              "      <th>chi_p</th>\n",
              "      <th>cos_tilt_1</th>\n",
              "      <th>cos_tilt_2</th>\n",
              "      <th>redshift</th>\n",
              "      <th>comoving_distance</th>\n",
              "      <th>mass_1_source</th>\n",
              "      <th>mass_2_source</th>\n",
              "      <th>chirp_mass_source</th>\n",
              "      <th>total_mass_source</th>\n",
              "    </tr>\n",
              "  </thead>\n",
              "  <tbody>\n",
              "    <tr>\n",
              "      <th>0</th>\n",
              "      <td>30.288789</td>\n",
              "      <td>0.731623</td>\n",
              "      <td>-0.000111</td>\n",
              "      <td>4.712898</td>\n",
              "      <td>1.126259e+09</td>\n",
              "      <td>0.0</td>\n",
              "      <td>0.0</td>\n",
              "      <td>0.0</td>\n",
              "      <td>0.0</td>\n",
              "      <td>0.0</td>\n",
              "      <td>...</td>\n",
              "      <td>0.0</td>\n",
              "      <td>0.0</td>\n",
              "      <td>1.0</td>\n",
              "      <td>1.0</td>\n",
              "      <td>0.065226</td>\n",
              "      <td>284.247715</td>\n",
              "      <td>38.278826</td>\n",
              "      <td>28.005668</td>\n",
              "      <td>28.434155</td>\n",
              "      <td>66.284493</td>\n",
              "    </tr>\n",
              "    <tr>\n",
              "      <th>1</th>\n",
              "      <td>30.769601</td>\n",
              "      <td>0.610842</td>\n",
              "      <td>-0.000169</td>\n",
              "      <td>1.324897</td>\n",
              "      <td>1.126259e+09</td>\n",
              "      <td>0.0</td>\n",
              "      <td>0.0</td>\n",
              "      <td>0.0</td>\n",
              "      <td>0.0</td>\n",
              "      <td>0.0</td>\n",
              "      <td>...</td>\n",
              "      <td>0.0</td>\n",
              "      <td>0.0</td>\n",
              "      <td>1.0</td>\n",
              "      <td>1.0</td>\n",
              "      <td>0.062999</td>\n",
              "      <td>274.691785</td>\n",
              "      <td>42.799862</td>\n",
              "      <td>26.143941</td>\n",
              "      <td>28.946030</td>\n",
              "      <td>68.943803</td>\n",
              "    </tr>\n",
              "    <tr>\n",
              "      <th>2</th>\n",
              "      <td>30.463792</td>\n",
              "      <td>0.679857</td>\n",
              "      <td>0.000101</td>\n",
              "      <td>1.514381</td>\n",
              "      <td>1.126259e+09</td>\n",
              "      <td>0.0</td>\n",
              "      <td>0.0</td>\n",
              "      <td>0.0</td>\n",
              "      <td>0.0</td>\n",
              "      <td>0.0</td>\n",
              "      <td>...</td>\n",
              "      <td>0.0</td>\n",
              "      <td>0.0</td>\n",
              "      <td>1.0</td>\n",
              "      <td>1.0</td>\n",
              "      <td>0.061780</td>\n",
              "      <td>269.456890</td>\n",
              "      <td>40.119283</td>\n",
              "      <td>27.275381</td>\n",
              "      <td>28.691238</td>\n",
              "      <td>67.394664</td>\n",
              "    </tr>\n",
              "    <tr>\n",
              "      <th>3</th>\n",
              "      <td>31.731824</td>\n",
              "      <td>0.890806</td>\n",
              "      <td>-0.000090</td>\n",
              "      <td>4.413856</td>\n",
              "      <td>1.126259e+09</td>\n",
              "      <td>0.0</td>\n",
              "      <td>0.0</td>\n",
              "      <td>0.0</td>\n",
              "      <td>0.0</td>\n",
              "      <td>0.0</td>\n",
              "      <td>...</td>\n",
              "      <td>0.0</td>\n",
              "      <td>0.0</td>\n",
              "      <td>1.0</td>\n",
              "      <td>1.0</td>\n",
              "      <td>0.066913</td>\n",
              "      <td>291.482047</td>\n",
              "      <td>36.209760</td>\n",
              "      <td>32.255869</td>\n",
              "      <td>29.741722</td>\n",
              "      <td>68.465629</td>\n",
              "    </tr>\n",
              "    <tr>\n",
              "      <th>4</th>\n",
              "      <td>31.150788</td>\n",
              "      <td>0.675012</td>\n",
              "      <td>-0.000179</td>\n",
              "      <td>1.422207</td>\n",
              "      <td>1.126259e+09</td>\n",
              "      <td>0.0</td>\n",
              "      <td>0.0</td>\n",
              "      <td>0.0</td>\n",
              "      <td>0.0</td>\n",
              "      <td>0.0</td>\n",
              "      <td>...</td>\n",
              "      <td>0.0</td>\n",
              "      <td>0.0</td>\n",
              "      <td>1.0</td>\n",
              "      <td>1.0</td>\n",
              "      <td>0.063512</td>\n",
              "      <td>276.894821</td>\n",
              "      <td>41.109601</td>\n",
              "      <td>27.749477</td>\n",
              "      <td>29.290487</td>\n",
              "      <td>68.859078</td>\n",
              "    </tr>\n",
              "    <tr>\n",
              "      <th>...</th>\n",
              "      <td>...</td>\n",
              "      <td>...</td>\n",
              "      <td>...</td>\n",
              "      <td>...</td>\n",
              "      <td>...</td>\n",
              "      <td>...</td>\n",
              "      <td>...</td>\n",
              "      <td>...</td>\n",
              "      <td>...</td>\n",
              "      <td>...</td>\n",
              "      <td>...</td>\n",
              "      <td>...</td>\n",
              "      <td>...</td>\n",
              "      <td>...</td>\n",
              "      <td>...</td>\n",
              "      <td>...</td>\n",
              "      <td>...</td>\n",
              "      <td>...</td>\n",
              "      <td>...</td>\n",
              "      <td>...</td>\n",
              "      <td>...</td>\n",
              "    </tr>\n",
              "    <tr>\n",
              "      <th>282</th>\n",
              "      <td>31.000797</td>\n",
              "      <td>0.949223</td>\n",
              "      <td>-0.000030</td>\n",
              "      <td>1.545637</td>\n",
              "      <td>1.126259e+09</td>\n",
              "      <td>0.0</td>\n",
              "      <td>0.0</td>\n",
              "      <td>0.0</td>\n",
              "      <td>0.0</td>\n",
              "      <td>0.0</td>\n",
              "      <td>...</td>\n",
              "      <td>0.0</td>\n",
              "      <td>0.0</td>\n",
              "      <td>1.0</td>\n",
              "      <td>1.0</td>\n",
              "      <td>0.070092</td>\n",
              "      <td>305.095612</td>\n",
              "      <td>34.158842</td>\n",
              "      <td>32.424373</td>\n",
              "      <td>28.970226</td>\n",
              "      <td>66.583214</td>\n",
              "    </tr>\n",
              "    <tr>\n",
              "      <th>283</th>\n",
              "      <td>31.043953</td>\n",
              "      <td>0.911545</td>\n",
              "      <td>-0.000075</td>\n",
              "      <td>4.821116</td>\n",
              "      <td>1.126259e+09</td>\n",
              "      <td>0.0</td>\n",
              "      <td>0.0</td>\n",
              "      <td>0.0</td>\n",
              "      <td>0.0</td>\n",
              "      <td>0.0</td>\n",
              "      <td>...</td>\n",
              "      <td>0.0</td>\n",
              "      <td>0.0</td>\n",
              "      <td>1.0</td>\n",
              "      <td>1.0</td>\n",
              "      <td>0.066879</td>\n",
              "      <td>291.336572</td>\n",
              "      <td>35.016432</td>\n",
              "      <td>31.919061</td>\n",
              "      <td>29.097917</td>\n",
              "      <td>66.935493</td>\n",
              "    </tr>\n",
              "    <tr>\n",
              "      <th>284</th>\n",
              "      <td>31.051153</td>\n",
              "      <td>0.937839</td>\n",
              "      <td>-0.000048</td>\n",
              "      <td>1.471342</td>\n",
              "      <td>1.126259e+09</td>\n",
              "      <td>0.0</td>\n",
              "      <td>0.0</td>\n",
              "      <td>0.0</td>\n",
              "      <td>0.0</td>\n",
              "      <td>0.0</td>\n",
              "      <td>...</td>\n",
              "      <td>0.0</td>\n",
              "      <td>0.0</td>\n",
              "      <td>1.0</td>\n",
              "      <td>1.0</td>\n",
              "      <td>0.062777</td>\n",
              "      <td>273.739072</td>\n",
              "      <td>34.659492</td>\n",
              "      <td>32.505007</td>\n",
              "      <td>29.216993</td>\n",
              "      <td>67.164499</td>\n",
              "    </tr>\n",
              "    <tr>\n",
              "      <th>285</th>\n",
              "      <td>31.054680</td>\n",
              "      <td>0.984716</td>\n",
              "      <td>-0.000068</td>\n",
              "      <td>1.614056</td>\n",
              "      <td>1.126259e+09</td>\n",
              "      <td>0.0</td>\n",
              "      <td>0.0</td>\n",
              "      <td>0.0</td>\n",
              "      <td>0.0</td>\n",
              "      <td>0.0</td>\n",
              "      <td>...</td>\n",
              "      <td>0.0</td>\n",
              "      <td>0.0</td>\n",
              "      <td>1.0</td>\n",
              "      <td>1.0</td>\n",
              "      <td>0.066745</td>\n",
              "      <td>290.762445</td>\n",
              "      <td>33.699196</td>\n",
              "      <td>33.184140</td>\n",
              "      <td>29.111627</td>\n",
              "      <td>66.883336</td>\n",
              "    </tr>\n",
              "    <tr>\n",
              "      <th>286</th>\n",
              "      <td>31.092863</td>\n",
              "      <td>0.991452</td>\n",
              "      <td>-0.000063</td>\n",
              "      <td>1.558599</td>\n",
              "      <td>1.126259e+09</td>\n",
              "      <td>0.0</td>\n",
              "      <td>0.0</td>\n",
              "      <td>0.0</td>\n",
              "      <td>0.0</td>\n",
              "      <td>0.0</td>\n",
              "      <td>...</td>\n",
              "      <td>0.0</td>\n",
              "      <td>0.0</td>\n",
              "      <td>1.0</td>\n",
              "      <td>1.0</td>\n",
              "      <td>0.064850</td>\n",
              "      <td>282.635550</td>\n",
              "      <td>33.685534</td>\n",
              "      <td>33.397574</td>\n",
              "      <td>29.199296</td>\n",
              "      <td>67.083108</td>\n",
              "    </tr>\n",
              "  </tbody>\n",
              "</table>\n",
              "<p>287 rows × 52 columns</p>\n",
              "</div>\n",
              "    <div class=\"colab-df-buttons\">\n",
              "\n",
              "  <div class=\"colab-df-container\">\n",
              "    <button class=\"colab-df-convert\" onclick=\"convertToInteractive('df-c1829168-3228-416b-b095-f316326dacd7')\"\n",
              "            title=\"Convert this dataframe to an interactive table.\"\n",
              "            style=\"display:none;\">\n",
              "\n",
              "  <svg xmlns=\"http://www.w3.org/2000/svg\" height=\"24px\" viewBox=\"0 -960 960 960\">\n",
              "    <path d=\"M120-120v-720h720v720H120Zm60-500h600v-160H180v160Zm220 220h160v-160H400v160Zm0 220h160v-160H400v160ZM180-400h160v-160H180v160Zm440 0h160v-160H620v160ZM180-180h160v-160H180v160Zm440 0h160v-160H620v160Z\"/>\n",
              "  </svg>\n",
              "    </button>\n",
              "\n",
              "  <style>\n",
              "    .colab-df-container {\n",
              "      display:flex;\n",
              "      gap: 12px;\n",
              "    }\n",
              "\n",
              "    .colab-df-convert {\n",
              "      background-color: #E8F0FE;\n",
              "      border: none;\n",
              "      border-radius: 50%;\n",
              "      cursor: pointer;\n",
              "      display: none;\n",
              "      fill: #1967D2;\n",
              "      height: 32px;\n",
              "      padding: 0 0 0 0;\n",
              "      width: 32px;\n",
              "    }\n",
              "\n",
              "    .colab-df-convert:hover {\n",
              "      background-color: #E2EBFA;\n",
              "      box-shadow: 0px 1px 2px rgba(60, 64, 67, 0.3), 0px 1px 3px 1px rgba(60, 64, 67, 0.15);\n",
              "      fill: #174EA6;\n",
              "    }\n",
              "\n",
              "    .colab-df-buttons div {\n",
              "      margin-bottom: 4px;\n",
              "    }\n",
              "\n",
              "    [theme=dark] .colab-df-convert {\n",
              "      background-color: #3B4455;\n",
              "      fill: #D2E3FC;\n",
              "    }\n",
              "\n",
              "    [theme=dark] .colab-df-convert:hover {\n",
              "      background-color: #434B5C;\n",
              "      box-shadow: 0px 1px 3px 1px rgba(0, 0, 0, 0.15);\n",
              "      filter: drop-shadow(0px 1px 2px rgba(0, 0, 0, 0.3));\n",
              "      fill: #FFFFFF;\n",
              "    }\n",
              "  </style>\n",
              "\n",
              "    <script>\n",
              "      const buttonEl =\n",
              "        document.querySelector('#df-c1829168-3228-416b-b095-f316326dacd7 button.colab-df-convert');\n",
              "      buttonEl.style.display =\n",
              "        google.colab.kernel.accessAllowed ? 'block' : 'none';\n",
              "\n",
              "      async function convertToInteractive(key) {\n",
              "        const element = document.querySelector('#df-c1829168-3228-416b-b095-f316326dacd7');\n",
              "        const dataTable =\n",
              "          await google.colab.kernel.invokeFunction('convertToInteractive',\n",
              "                                                    [key], {});\n",
              "        if (!dataTable) return;\n",
              "\n",
              "        const docLinkHtml = 'Like what you see? Visit the ' +\n",
              "          '<a target=\"_blank\" href=https://colab.research.google.com/notebooks/data_table.ipynb>data table notebook</a>'\n",
              "          + ' to learn more about interactive tables.';\n",
              "        element.innerHTML = '';\n",
              "        dataTable['output_type'] = 'display_data';\n",
              "        await google.colab.output.renderOutput(dataTable, element);\n",
              "        const docLink = document.createElement('div');\n",
              "        docLink.innerHTML = docLinkHtml;\n",
              "        element.appendChild(docLink);\n",
              "      }\n",
              "    </script>\n",
              "  </div>\n",
              "\n",
              "\n",
              "<div id=\"df-f6934da7-b62b-49ac-b1ba-6b70de525ee3\">\n",
              "  <button class=\"colab-df-quickchart\" onclick=\"quickchart('df-f6934da7-b62b-49ac-b1ba-6b70de525ee3')\"\n",
              "            title=\"Suggest charts\"\n",
              "            style=\"display:none;\">\n",
              "\n",
              "<svg xmlns=\"http://www.w3.org/2000/svg\" height=\"24px\"viewBox=\"0 0 24 24\"\n",
              "     width=\"24px\">\n",
              "    <g>\n",
              "        <path d=\"M19 3H5c-1.1 0-2 .9-2 2v14c0 1.1.9 2 2 2h14c1.1 0 2-.9 2-2V5c0-1.1-.9-2-2-2zM9 17H7v-7h2v7zm4 0h-2V7h2v10zm4 0h-2v-4h2v4z\"/>\n",
              "    </g>\n",
              "</svg>\n",
              "  </button>\n",
              "\n",
              "<style>\n",
              "  .colab-df-quickchart {\n",
              "      --bg-color: #E8F0FE;\n",
              "      --fill-color: #1967D2;\n",
              "      --hover-bg-color: #E2EBFA;\n",
              "      --hover-fill-color: #174EA6;\n",
              "      --disabled-fill-color: #AAA;\n",
              "      --disabled-bg-color: #DDD;\n",
              "  }\n",
              "\n",
              "  [theme=dark] .colab-df-quickchart {\n",
              "      --bg-color: #3B4455;\n",
              "      --fill-color: #D2E3FC;\n",
              "      --hover-bg-color: #434B5C;\n",
              "      --hover-fill-color: #FFFFFF;\n",
              "      --disabled-bg-color: #3B4455;\n",
              "      --disabled-fill-color: #666;\n",
              "  }\n",
              "\n",
              "  .colab-df-quickchart {\n",
              "    background-color: var(--bg-color);\n",
              "    border: none;\n",
              "    border-radius: 50%;\n",
              "    cursor: pointer;\n",
              "    display: none;\n",
              "    fill: var(--fill-color);\n",
              "    height: 32px;\n",
              "    padding: 0;\n",
              "    width: 32px;\n",
              "  }\n",
              "\n",
              "  .colab-df-quickchart:hover {\n",
              "    background-color: var(--hover-bg-color);\n",
              "    box-shadow: 0 1px 2px rgba(60, 64, 67, 0.3), 0 1px 3px 1px rgba(60, 64, 67, 0.15);\n",
              "    fill: var(--button-hover-fill-color);\n",
              "  }\n",
              "\n",
              "  .colab-df-quickchart-complete:disabled,\n",
              "  .colab-df-quickchart-complete:disabled:hover {\n",
              "    background-color: var(--disabled-bg-color);\n",
              "    fill: var(--disabled-fill-color);\n",
              "    box-shadow: none;\n",
              "  }\n",
              "\n",
              "  .colab-df-spinner {\n",
              "    border: 2px solid var(--fill-color);\n",
              "    border-color: transparent;\n",
              "    border-bottom-color: var(--fill-color);\n",
              "    animation:\n",
              "      spin 1s steps(1) infinite;\n",
              "  }\n",
              "\n",
              "  @keyframes spin {\n",
              "    0% {\n",
              "      border-color: transparent;\n",
              "      border-bottom-color: var(--fill-color);\n",
              "      border-left-color: var(--fill-color);\n",
              "    }\n",
              "    20% {\n",
              "      border-color: transparent;\n",
              "      border-left-color: var(--fill-color);\n",
              "      border-top-color: var(--fill-color);\n",
              "    }\n",
              "    30% {\n",
              "      border-color: transparent;\n",
              "      border-left-color: var(--fill-color);\n",
              "      border-top-color: var(--fill-color);\n",
              "      border-right-color: var(--fill-color);\n",
              "    }\n",
              "    40% {\n",
              "      border-color: transparent;\n",
              "      border-right-color: var(--fill-color);\n",
              "      border-top-color: var(--fill-color);\n",
              "    }\n",
              "    60% {\n",
              "      border-color: transparent;\n",
              "      border-right-color: var(--fill-color);\n",
              "    }\n",
              "    80% {\n",
              "      border-color: transparent;\n",
              "      border-right-color: var(--fill-color);\n",
              "      border-bottom-color: var(--fill-color);\n",
              "    }\n",
              "    90% {\n",
              "      border-color: transparent;\n",
              "      border-bottom-color: var(--fill-color);\n",
              "    }\n",
              "  }\n",
              "</style>\n",
              "\n",
              "  <script>\n",
              "    async function quickchart(key) {\n",
              "      const quickchartButtonEl =\n",
              "        document.querySelector('#' + key + ' button');\n",
              "      quickchartButtonEl.disabled = true;  // To prevent multiple clicks.\n",
              "      quickchartButtonEl.classList.add('colab-df-spinner');\n",
              "      try {\n",
              "        const charts = await google.colab.kernel.invokeFunction(\n",
              "            'suggestCharts', [key], {});\n",
              "      } catch (error) {\n",
              "        console.error('Error during call to suggestCharts:', error);\n",
              "      }\n",
              "      quickchartButtonEl.classList.remove('colab-df-spinner');\n",
              "      quickchartButtonEl.classList.add('colab-df-quickchart-complete');\n",
              "    }\n",
              "    (() => {\n",
              "      let quickchartButtonEl =\n",
              "        document.querySelector('#df-f6934da7-b62b-49ac-b1ba-6b70de525ee3 button');\n",
              "      quickchartButtonEl.style.display =\n",
              "        google.colab.kernel.accessAllowed ? 'block' : 'none';\n",
              "    })();\n",
              "  </script>\n",
              "</div>\n",
              "    </div>\n",
              "  </div>\n"
            ]
          },
          "metadata": {},
          "execution_count": 25
        }
      ],
      "source": [
        "result_short.posterior"
      ]
    },
    {
      "cell_type": "markdown",
      "metadata": {
        "id": "a_3tjBsiJDc_"
      },
      "source": [
        "We can pull out specific parameters that we are interested in"
      ]
    },
    {
      "cell_type": "code",
      "execution_count": 26,
      "metadata": {
        "tags": [],
        "id": "efdd167GJDc_",
        "outputId": "a51ed982-aab7-4f6a-c860-4b467067cf2e",
        "colab": {
          "base_uri": "https://localhost:8080/"
        }
      },
      "outputs": [
        {
          "output_type": "execute_result",
          "data": {
            "text/plain": [
              "0      30.288789\n",
              "1      30.769601\n",
              "2      30.463792\n",
              "3      31.731824\n",
              "4      31.150788\n",
              "         ...    \n",
              "282    31.000797\n",
              "283    31.043953\n",
              "284    31.051153\n",
              "285    31.054680\n",
              "286    31.092863\n",
              "Name: chirp_mass, Length: 287, dtype: float64"
            ]
          },
          "metadata": {},
          "execution_count": 26
        }
      ],
      "source": [
        "result_short.posterior[\"chirp_mass\"]"
      ]
    },
    {
      "cell_type": "markdown",
      "metadata": {
        "id": "77J6chUPJDc_"
      },
      "source": [
        "This returned another `pandas` object. If you just want to get the numbers as a numpy array run"
      ]
    },
    {
      "cell_type": "code",
      "execution_count": 27,
      "metadata": {
        "tags": [],
        "id": "KXNbu1bHJDc_"
      },
      "outputs": [],
      "source": [
        "Mc = result_short.posterior[\"chirp_mass\"].values"
      ]
    },
    {
      "cell_type": "markdown",
      "metadata": {
        "id": "fY2AONdzJDc_"
      },
      "source": [
        "We can then get some useful quantities such as the 90\\% credible interval"
      ]
    },
    {
      "cell_type": "code",
      "execution_count": 28,
      "metadata": {
        "tags": [],
        "id": "3TldkHyuJDc_",
        "outputId": "82cc43d3-6545-4ad8-97fb-04796eee3ede",
        "colab": {
          "base_uri": "https://localhost:8080/"
        }
      },
      "outputs": [
        {
          "output_type": "stream",
          "name": "stdout",
          "text": [
            "Mc = 30.99523853259146 with a 90% C.I = 30.570558015199186 -> 31.451601881384295\n"
          ]
        }
      ],
      "source": [
        "lower_bound = np.quantile(Mc, 0.05)\n",
        "upper_bound = np.quantile(Mc, 0.95)\n",
        "median = np.quantile(Mc, 0.5)\n",
        "print(\"Mc = {} with a 90% C.I = {} -> {}\".format(median, lower_bound, upper_bound))"
      ]
    },
    {
      "cell_type": "markdown",
      "metadata": {
        "id": "tnALkbpJJDc_"
      },
      "source": [
        "We can then plot the chirp mass in a histogram adding a region to indicate the 90\\% C.I."
      ]
    },
    {
      "cell_type": "code",
      "execution_count": 29,
      "metadata": {
        "tags": [],
        "id": "YyaNIvaNJDc_",
        "outputId": "640d8345-531c-41a7-eb8a-e1866f780e4b",
        "colab": {
          "base_uri": "https://localhost:8080/",
          "height": 460
        }
      },
      "outputs": [
        {
          "output_type": "display_data",
          "data": {
            "text/plain": [
              "<Figure size 640x480 with 1 Axes>"
            ],
            "image/png": "[encoded data removed]"
          },
          "metadata": {}
        }
      ],
      "source": [
        "fig, ax = plt.subplots()\n",
        "ax.hist(result_short.posterior[\"chirp_mass\"], bins=20)\n",
        "ax.axvspan(lower_bound, upper_bound, color='C1', alpha=0.4)\n",
        "ax.axvline(median, color='C1')\n",
        "ax.set_xlabel(\"chirp mass\")\n",
        "plt.show()"
      ]
    },
    {
      "cell_type": "markdown",
      "metadata": {
        "id": "EdebRH6FJDc_"
      },
      "source": [
        "The result object also has in-built methods to make nice plots such as corner plots. You can add the priors if you are only plotting parameters which you sampled in, e.g."
      ]
    },
    {
      "cell_type": "code",
      "execution_count": 30,
      "metadata": {
        "tags": [],
        "id": "7Dyi9FWQJDc_",
        "outputId": "d50d4e55-e5d5-4570-dbcc-4eb86be120f2",
        "colab": {
          "base_uri": "https://localhost:8080/",
          "height": 983
        }
      },
      "outputs": [
        {
          "output_type": "execute_result",
          "data": {
            "text/plain": [
              "<Figure size 970x970 with 16 Axes>"
            ],
            "image/png": "[encoded data removed]"
          },
          "metadata": {},
          "execution_count": 30
        }
      ],
      "source": [
        "result_short.plot_corner(parameters=[\"chirp_mass\", \"mass_ratio\", \"geocent_time\", \"phase\"], prior=True)"
      ]
    },
    {
      "cell_type": "markdown",
      "metadata": {
        "id": "CiywJzT9JDc_"
      },
      "source": [
        "You can also plot lines indicating specific points. Here, we add the values recorded on [GWOSC](https://www.gw-openscience.org/events/GW150914/). Notably, these fall outside the bulk of the posterior uncertainty here. This is because we limited our prior to a non-spinning analysis - if instead we ran the full analysis these agree nicely."
      ]
    },
    {
      "cell_type": "code",
      "execution_count": 31,
      "metadata": {
        "Collapsed": "false",
        "colab": {
          "base_uri": "https://localhost:8080/",
          "height": 558
        },
        "id": "SB4AqmTaygvU",
        "outputId": "e3aed7ac-74be-4371-d4d9-a4be7af7e742",
        "tags": []
      },
      "outputs": [
        {
          "output_type": "execute_result",
          "data": {
            "text/plain": [
              "<Figure size 550x550 with 4 Axes>"
            ],
            "image/png": "[encoded data removed]"
          },
          "metadata": {},
          "execution_count": 31
        }
      ],
      "source": [
        "parameters = dict(mass_1=36.2, mass_2=29.1)\n",
        "result_short.plot_corner(parameters)"
      ]
    },
    {
      "cell_type": "markdown",
      "metadata": {
        "id": "TLX72ClrJDdA"
      },
      "source": [
        "Earlier we discussed the \"correlation\" - in this plot we start to see the correlation between $m_1$ and $m_2$."
      ]
    },
    {
      "cell_type": "markdown",
      "metadata": {
        "id": "jT1CUR7kJDdA"
      },
      "source": [
        "### Meta data\n",
        "The result object also stores meta data, like the priors"
      ]
    },
    {
      "cell_type": "code",
      "execution_count": 32,
      "metadata": {
        "tags": [],
        "id": "FWrEiH7EJDdA",
        "outputId": "80cea061-5ffa-4ff1-b3b9-6a037de1b021",
        "colab": {
          "base_uri": "https://localhost:8080/"
        }
      },
      "outputs": [
        {
          "output_type": "execute_result",
          "data": {
            "text/plain": [
              "{'chirp_mass': Uniform(minimum=30.0, maximum=32.5, name='chirp_mass', latex_label='$\\\\mathcal{M}$', unit=None, boundary=None),\n",
              " 'mass_ratio': Uniform(minimum=0.5, maximum=1, name='mass_ratio', latex_label='$q$', unit=None, boundary=None),\n",
              " 'phase': Uniform(minimum=0, maximum=6.283185307179586, name='phase', latex_label='$\\\\phi$', unit=None, boundary=None),\n",
              " 'geocent_time': Uniform(minimum=1126259462.3000002, maximum=1126259462.5, name='geocent_time', latex_label='$t_c$', unit=None, boundary=None),\n",
              " 'a_1': DeltaFunction(peak=0.0, name=None, latex_label=None, unit=None),\n",
              " 'a_2': DeltaFunction(peak=0.0, name=None, latex_label=None, unit=None),\n",
              " 'tilt_1': DeltaFunction(peak=0.0, name=None, latex_label=None, unit=None),\n",
              " 'tilt_2': DeltaFunction(peak=0.0, name=None, latex_label=None, unit=None),\n",
              " 'phi_12': DeltaFunction(peak=0.0, name=None, latex_label=None, unit=None),\n",
              " 'phi_jl': DeltaFunction(peak=0.0, name=None, latex_label=None, unit=None),\n",
              " 'dec': DeltaFunction(peak=-1.2232, name=None, latex_label=None, unit=None),\n",
              " 'ra': DeltaFunction(peak=2.19432, name=None, latex_label=None, unit=None),\n",
              " 'theta_jn': DeltaFunction(peak=1.89694, name=None, latex_label=None, unit=None),\n",
              " 'psi': DeltaFunction(peak=0.532268, name=None, latex_label=None, unit=None),\n",
              " 'luminosity_distance': PowerLaw(alpha=2, minimum=50, maximum=2000, name='luminosity_distance', latex_label='$d_L$', unit='Mpc', boundary=None),\n",
              " 'time_jitter': Uniform(minimum=-0.000244140625, maximum=0.000244140625, name='time_jitter', latex_label='$t_j$', unit=None, boundary='periodic')}"
            ]
          },
          "metadata": {},
          "execution_count": 32
        }
      ],
      "source": [
        "result_short.priors"
      ]
    },
    {
      "cell_type": "markdown",
      "metadata": {
        "id": "p9fUfp1BJDdA"
      },
      "source": [
        "and details of the analysis itself:"
      ]
    },
    {
      "cell_type": "code",
      "execution_count": 33,
      "metadata": {
        "tags": [],
        "id": "DQnati99JDdA",
        "outputId": "270db5c2-7e14-42f7-9922-febb879e47d1",
        "colab": {
          "base_uri": "https://localhost:8080/"
        }
      },
      "outputs": [
        {
          "output_type": "execute_result",
          "data": {
            "text/plain": [
              "250"
            ]
          },
          "metadata": {},
          "execution_count": 33
        }
      ],
      "source": [
        "result_short.sampler_kwargs[\"nlive\"]"
      ]
    },
    {
      "cell_type": "markdown",
      "metadata": {
        "id": "-hrz3pLgJDdA"
      },
      "source": [
        "Finally, we can also get out the Bayes factor for the signal vs. Gaussian noise. This is a good indicator of how much the hypothesis that the analyzed segment contains a binary black hole signal is reliable compared to that assuming it just contains noise."
      ]
    },
    {
      "cell_type": "code",
      "execution_count": 34,
      "metadata": {
        "tags": [],
        "id": "djKuuoy9JDdA",
        "outputId": "054d6b2d-bda1-481a-9d44-d55d96526b68",
        "colab": {
          "base_uri": "https://localhost:8080/"
        }
      },
      "outputs": [
        {
          "output_type": "stream",
          "name": "stdout",
          "text": [
            "ln Bayes factor = 284.6096870368563 +/- 0.20303136595494828\n"
          ]
        }
      ],
      "source": [
        "print(\"ln Bayes factor = {} +/- {}\".format(\n",
        "    result_short.log_bayes_factor, result_short.log_evidence_err))"
      ]
    },
    {
      "cell_type": "markdown",
      "metadata": {
        "id": "2EhGd2KUJDdA"
      },
      "source": [
        "## Challenge questions\n",
        "First, let's take a closer look at the result obtained with the run above. What are the means of the chirp mass and mass ratio distributions? What are the medians of the distributions for the components masses? You can use `np.mean` and `np.median` to calculate these.\n",
        "\n",
        "### Optional questions\n",
        "Now let's expand on this example a bit. Rerun the analysis above but change the prior on the distance from a delta function to `bilby.core.prior.PowerLaw(alpha=2., minimum=50., maximum=800., name='luminosity_distance')`. You should also replace `sample='unif'` with `sample=\"rwalk\", nact=1, walks=1` in your call to `bilby.run_sampler` above. This will take a bit longer than the original run, around ~20 minutes (something more if you are running on Colab or MyBinder). You also need to change the `label` in the call to `run_sampler` to avoid over-writing your results.\n",
        "\n",
        "What is the median reported value of the distance posterior? What is the new log Bayes factor for signal vs. Gaussian noise? Don't be alarmed if your results do not match the official LVC results, as these are not rigorous settings."
      ]
    },
    {
      "cell_type": "code",
      "execution_count": 34,
      "metadata": {
        "id": "XaZXl1VmJDdA"
      },
      "outputs": [],
      "source": []
    },
    {
      "cell_type": "code",
      "execution_count": 34,
      "metadata": {
        "id": "-vNoNFO1JDdA"
      },
      "outputs": [],
      "source": []
    }
  ],
  "metadata": {
    "colab": {
      "name": "Tuto_3.2_Parameter_estimation_for_compact_object_mergers.ipynb",
      "provenance": []
    },
    "kernelspec": {
      "display_name": "Python 3 (ipykernel)",
      "language": "python",
      "name": "python3"
    },
    "language_info": {
      "codemirror_mode": {
        "name": "ipython",
        "version": 3
      },
      "file_extension": ".py",
      "mimetype": "text/x-python",
      "name": "python",
      "nbconvert_exporter": "python",
      "pygments_lexer": "ipython3",
      "version": "3.9.16"
    },
    "widgets": {
      "application/vnd.jupyter.widget-state+json": {
        "094b7c40a52a46189c280c5ec44166d2": {
          "model_module": "@jupyter-widgets/controls",
          "model_name": "HBoxModel",
          "model_module_version": "1.5.0",
          "state": {
            "_dom_classes": [],
            "_model_module": "@jupyter-widgets/controls",
            "_model_module_version": "1.5.0",
            "_model_name": "HBoxModel",
            "_view_count": null,
            "_view_module": "@jupyter-widgets/controls",
            "_view_module_version": "1.5.0",
            "_view_name": "HBoxView",
            "box_style": "",
            "children": [
              "IPY_MODEL_967daba3a99f47d18c20e8ee4ae770ad",
              "IPY_MODEL_0ade8d7f002a40228e22d8bfb476a17e",
              "IPY_MODEL_429e7215bb114dcbb8de4fa66b5435a1"
            ],
            "layout": "IPY_MODEL_aafdc93bfdb94fdc83bb0d572d663eff"
          }
        },
        "967daba3a99f47d18c20e8ee4ae770ad": {
          "model_module": "@jupyter-widgets/controls",
          "model_name": "HTMLModel",
          "model_module_version": "1.5.0",
          "state": {
            "_dom_classes": [],
            "_model_module": "@jupyter-widgets/controls",
            "_model_module_version": "1.5.0",
            "_model_name": "HTMLModel",
            "_view_count": null,
            "_view_module": "@jupyter-widgets/controls",
            "_view_module_version": "1.5.0",
            "_view_name": "HTMLView",
            "description": "",
            "description_tooltip": null,
            "layout": "IPY_MODEL_5d1fa3dc8f58429996f35c0bbdb19f74",
            "placeholder": "​",
            "style": "IPY_MODEL_e37f7f93754641d09b2a1a912a272f2b",
            "value": "100%"
          }
        },
        "0ade8d7f002a40228e22d8bfb476a17e": {
          "model_module": "@jupyter-widgets/controls",
          "model_name": "FloatProgressModel",
          "model_module_version": "1.5.0",
          "state": {
            "_dom_classes": [],
            "_model_module": "@jupyter-widgets/controls",
            "_model_module_version": "1.5.0",
            "_model_name": "FloatProgressModel",
            "_view_count": null,
            "_view_module": "@jupyter-widgets/controls",
            "_view_module_version": "1.5.0",
            "_view_name": "ProgressView",
            "bar_style": "success",
            "description": "",
            "description_tooltip": null,
            "layout": "IPY_MODEL_ae48ef1a30a14ac4959e7af6e74ab2ef",
            "max": 400,
            "min": 0,
            "orientation": "horizontal",
            "style": "IPY_MODEL_a06559bb22b545ae87b7b78cabec55f9",
            "value": 400
          }
        },
        "429e7215bb114dcbb8de4fa66b5435a1": {
          "model_module": "@jupyter-widgets/controls",
          "model_name": "HTMLModel",
          "model_module_version": "1.5.0",
          "state": {
            "_dom_classes": [],
            "_model_module": "@jupyter-widgets/controls",
            "_model_module_version": "1.5.0",
            "_model_name": "HTMLModel",
            "_view_count": null,
            "_view_module": "@jupyter-widgets/controls",
            "_view_module_version": "1.5.0",
            "_view_name": "HTMLView",
            "description": "",
            "description_tooltip": null,
            "layout": "IPY_MODEL_6346b62d37494831b56f0446062d0aaa",
            "placeholder": "​",
            "style": "IPY_MODEL_cb7120e077224b48b65b2020e7e90338",
            "value": " 400/400 [01:53&lt;00:00,  4.34it/s]"
          }
        },
        "aafdc93bfdb94fdc83bb0d572d663eff": {
          "model_module": "@jupyter-widgets/base",
          "model_name": "LayoutModel",
          "model_module_version": "1.2.0",
          "state": {
            "_model_module": "@jupyter-widgets/base",
            "_model_module_version": "1.2.0",
            "_model_name": "LayoutModel",
            "_view_count": null,
            "_view_module": "@jupyter-widgets/base",
            "_view_module_version": "1.2.0",
            "_view_name": "LayoutView",
            "align_content": null,
            "align_items": null,
            "align_self": null,
            "border": null,
            "bottom": null,
            "display": null,
            "flex": null,
            "flex_flow": null,
            "grid_area": null,
            "grid_auto_columns": null,
            "grid_auto_flow": null,
            "grid_auto_rows": null,
            "grid_column": null,
            "grid_gap": null,
            "grid_row": null,
            "grid_template_areas": null,
            "grid_template_columns": null,
            "grid_template_rows": null,
            "height": null,
            "justify_content": null,
            "justify_items": null,
            "left": null,
            "margin": null,
            "max_height": null,
            "max_width": null,
            "min_height": null,
            "min_width": null,
            "object_fit": null,
            "object_position": null,
            "order": null,
            "overflow": null,
            "overflow_x": null,
            "overflow_y": null,
            "padding": null,
            "right": null,
            "top": null,
            "visibility": null,
            "width": null
          }
        },
        "5d1fa3dc8f58429996f35c0bbdb19f74": {
          "model_module": "@jupyter-widgets/base",
          "model_name": "LayoutModel",
          "model_module_version": "1.2.0",
          "state": {
            "_model_module": "@jupyter-widgets/base",
            "_model_module_version": "1.2.0",
            "_model_name": "LayoutModel",
            "_view_count": null,
            "_view_module": "@jupyter-widgets/base",
            "_view_module_version": "1.2.0",
            "_view_name": "LayoutView",
            "align_content": null,
            "align_items": null,
            "align_self": null,
            "border": null,
            "bottom": null,
            "display": null,
            "flex": null,
            "flex_flow": null,
            "grid_area": null,
            "grid_auto_columns": null,
            "grid_auto_flow": null,
            "grid_auto_rows": null,
            "grid_column": null,
            "grid_gap": null,
            "grid_row": null,
            "grid_template_areas": null,
            "grid_template_columns": null,
            "grid_template_rows": null,
            "height": null,
            "justify_content": null,
            "justify_items": null,
            "left": null,
            "margin": null,
            "max_height": null,
            "max_width": null,
            "min_height": null,
            "min_width": null,
            "object_fit": null,
            "object_position": null,
            "order": null,
            "overflow": null,
            "overflow_x": null,
            "overflow_y": null,
            "padding": null,
            "right": null,
            "top": null,
            "visibility": null,
            "width": null
          }
        },
        "e37f7f93754641d09b2a1a912a272f2b": {
          "model_module": "@jupyter-widgets/controls",
          "model_name": "DescriptionStyleModel",
          "model_module_version": "1.5.0",
          "state": {
            "_model_module": "@jupyter-widgets/controls",
            "_model_module_version": "1.5.0",
            "_model_name": "DescriptionStyleModel",
            "_view_count": null,
            "_view_module": "@jupyter-widgets/base",
            "_view_module_version": "1.2.0",
            "_view_name": "StyleView",
            "description_width": ""
          }
        },
        "ae48ef1a30a14ac4959e7af6e74ab2ef": {
          "model_module": "@jupyter-widgets/base",
          "model_name": "LayoutModel",
          "model_module_version": "1.2.0",
          "state": {
            "_model_module": "@jupyter-widgets/base",
            "_model_module_version": "1.2.0",
            "_model_name": "LayoutModel",
            "_view_count": null,
            "_view_module": "@jupyter-widgets/base",
            "_view_module_version": "1.2.0",
            "_view_name": "LayoutView",
            "align_content": null,
            "align_items": null,
            "align_self": null,
            "border": null,
            "bottom": null,
            "display": null,
            "flex": null,
            "flex_flow": null,
            "grid_area": null,
            "grid_auto_columns": null,
            "grid_auto_flow": null,
            "grid_auto_rows": null,
            "grid_column": null,
            "grid_gap": null,
            "grid_row": null,
            "grid_template_areas": null,
            "grid_template_columns": null,
            "grid_template_rows": null,
            "height": null,
            "justify_content": null,
            "justify_items": null,
            "left": null,
            "margin": null,
            "max_height": null,
            "max_width": null,
            "min_height": null,
            "min_width": null,
            "object_fit": null,
            "object_position": null,
            "order": null,
            "overflow": null,
            "overflow_x": null,
            "overflow_y": null,
            "padding": null,
            "right": null,
            "top": null,
            "visibility": null,
            "width": null
          }
        },
        "a06559bb22b545ae87b7b78cabec55f9": {
          "model_module": "@jupyter-widgets/controls",
          "model_name": "ProgressStyleModel",
          "model_module_version": "1.5.0",
          "state": {
            "_model_module": "@jupyter-widgets/controls",
            "_model_module_version": "1.5.0",
            "_model_name": "ProgressStyleModel",
            "_view_count": null,
            "_view_module": "@jupyter-widgets/base",
            "_view_module_version": "1.2.0",
            "_view_name": "StyleView",
            "bar_color": null,
            "description_width": ""
          }
        },
        "6346b62d37494831b56f0446062d0aaa": {
          "model_module": "@jupyter-widgets/base",
          "model_name": "LayoutModel",
          "model_module_version": "1.2.0",
          "state": {
            "_model_module": "@jupyter-widgets/base",
            "_model_module_version": "1.2.0",
            "_model_name": "LayoutModel",
            "_view_count": null,
            "_view_module": "@jupyter-widgets/base",
            "_view_module_version": "1.2.0",
            "_view_name": "LayoutView",
            "align_content": null,
            "align_items": null,
            "align_self": null,
            "border": null,
            "bottom": null,
            "display": null,
            "flex": null,
            "flex_flow": null,
            "grid_area": null,
            "grid_auto_columns": null,
            "grid_auto_flow": null,
            "grid_auto_rows": null,
            "grid_column": null,
            "grid_gap": null,
            "grid_row": null,
            "grid_template_areas": null,
            "grid_template_columns": null,
            "grid_template_rows": null,
            "height": null,
            "justify_content": null,
            "justify_items": null,
            "left": null,
            "margin": null,
            "max_height": null,
            "max_width": null,
            "min_height": null,
            "min_width": null,
            "object_fit": null,
            "object_position": null,
            "order": null,
            "overflow": null,
            "overflow_x": null,
            "overflow_y": null,
            "padding": null,
            "right": null,
            "top": null,
            "visibility": null,
            "width": null
          }
        },
        "cb7120e077224b48b65b2020e7e90338": {
          "model_module": "@jupyter-widgets/controls",
          "model_name": "DescriptionStyleModel",
          "model_module_version": "1.5.0",
          "state": {
            "_model_module": "@jupyter-widgets/controls",
            "_model_module_version": "1.5.0",
            "_model_name": "DescriptionStyleModel",
            "_view_count": null,
            "_view_module": "@jupyter-widgets/base",
            "_view_module_version": "1.2.0",
            "_view_name": "StyleView",
            "description_width": ""
          }
        },
        "353eb50060814081bb84a68037af2933": {
          "model_module": "@jupyter-widgets/controls",
          "model_name": "HBoxModel",
          "model_module_version": "1.5.0",
          "state": {
            "_dom_classes": [],
            "_model_module": "@jupyter-widgets/controls",
            "_model_module_version": "1.5.0",
            "_model_name": "HBoxModel",
            "_view_count": null,
            "_view_module": "@jupyter-widgets/controls",
            "_view_module_version": "1.5.0",
            "_view_name": "HBoxView",
            "box_style": "",
            "children": [
              "IPY_MODEL_f00328c9bb144edcb01ed152c4dd89ca",
              "IPY_MODEL_24c848ab5b19446682c22204bcf85c5e",
              "IPY_MODEL_c141c326e2d24ea7b08524c4ea5ff08e"
            ],
            "layout": "IPY_MODEL_570a6c48e1c541dfaf12bdcf3d3fc02c"
          }
        },
        "f00328c9bb144edcb01ed152c4dd89ca": {
          "model_module": "@jupyter-widgets/controls",
          "model_name": "HTMLModel",
          "model_module_version": "1.5.0",
          "state": {
            "_dom_classes": [],
            "_model_module": "@jupyter-widgets/controls",
            "_model_module_version": "1.5.0",
            "_model_name": "HTMLModel",
            "_view_count": null,
            "_view_module": "@jupyter-widgets/controls",
            "_view_module_version": "1.5.0",
            "_view_name": "HTMLView",
            "description": "",
            "description_tooltip": null,
            "layout": "IPY_MODEL_ce270e52f45640d0868d3aae2a3fe99a",
            "placeholder": "​",
            "style": "IPY_MODEL_477493f69acf46ccb3aa4c93063bcccf",
            "value": ""
          }
        },
        "24c848ab5b19446682c22204bcf85c5e": {
          "model_module": "@jupyter-widgets/controls",
          "model_name": "FloatProgressModel",
          "model_module_version": "1.5.0",
          "state": {
            "_dom_classes": [],
            "_model_module": "@jupyter-widgets/controls",
            "_model_module_version": "1.5.0",
            "_model_name": "FloatProgressModel",
            "_view_count": null,
            "_view_module": "@jupyter-widgets/controls",
            "_view_module_version": "1.5.0",
            "_view_name": "ProgressView",
            "bar_style": "success",
            "description": "",
            "description_tooltip": null,
            "layout": "IPY_MODEL_4242dfee00224331b7fe6298be9d1eac",
            "max": 1,
            "min": 0,
            "orientation": "horizontal",
            "style": "IPY_MODEL_ca2da67de79c4e2481bf025c402a270f",
            "value": 1
          }
        },
        "c141c326e2d24ea7b08524c4ea5ff08e": {
          "model_module": "@jupyter-widgets/controls",
          "model_name": "HTMLModel",
          "model_module_version": "1.5.0",
          "state": {
            "_dom_classes": [],
            "_model_module": "@jupyter-widgets/controls",
            "_model_module_version": "1.5.0",
            "_model_name": "HTMLModel",
            "_view_count": null,
            "_view_module": "@jupyter-widgets/controls",
            "_view_module_version": "1.5.0",
            "_view_name": "HTMLView",
            "description": "",
            "description_tooltip": null,
            "layout": "IPY_MODEL_26ff8bb3c8294cbc932b5246808cc078",
            "placeholder": "​",
            "style": "IPY_MODEL_3bf510d853404234b7292e0d3e6bbcd4",
            "value": " 736/? [05:48&lt;00:00,  2.52s/it, bound:0 nc:  1 ncall:5.1e+03 eff:20.5% logz-ratio=284.61+/-0.12 dlogz:0.004&gt;1]"
          }
        },
        "570a6c48e1c541dfaf12bdcf3d3fc02c": {
          "model_module": "@jupyter-widgets/base",
          "model_name": "LayoutModel",
          "model_module_version": "1.2.0",
          "state": {
            "_model_module": "@jupyter-widgets/base",
            "_model_module_version": "1.2.0",
            "_model_name": "LayoutModel",
            "_view_count": null,
            "_view_module": "@jupyter-widgets/base",
            "_view_module_version": "1.2.0",
            "_view_name": "LayoutView",
            "align_content": null,
            "align_items": null,
            "align_self": null,
            "border": null,
            "bottom": null,
            "display": null,
            "flex": null,
            "flex_flow": null,
            "grid_area": null,
            "grid_auto_columns": null,
            "grid_auto_flow": null,
            "grid_auto_rows": null,
            "grid_column": null,
            "grid_gap": null,
            "grid_row": null,
            "grid_template_areas": null,
            "grid_template_columns": null,
            "grid_template_rows": null,
            "height": null,
            "justify_content": null,
            "justify_items": null,
            "left": null,
            "margin": null,
            "max_height": null,
            "max_width": null,
            "min_height": null,
            "min_width": null,
            "object_fit": null,
            "object_position": null,
            "order": null,
            "overflow": null,
            "overflow_x": null,
            "overflow_y": null,
            "padding": null,
            "right": null,
            "top": null,
            "visibility": null,
            "width": null
          }
        },
        "ce270e52f45640d0868d3aae2a3fe99a": {
          "model_module": "@jupyter-widgets/base",
          "model_name": "LayoutModel",
          "model_module_version": "1.2.0",
          "state": {
            "_model_module": "@jupyter-widgets/base",
            "_model_module_version": "1.2.0",
            "_model_name": "LayoutModel",
            "_view_count": null,
            "_view_module": "@jupyter-widgets/base",
            "_view_module_version": "1.2.0",
            "_view_name": "LayoutView",
            "align_content": null,
            "align_items": null,
            "align_self": null,
            "border": null,
            "bottom": null,
            "display": null,
            "flex": null,
            "flex_flow": null,
            "grid_area": null,
            "grid_auto_columns": null,
            "grid_auto_flow": null,
            "grid_auto_rows": null,
            "grid_column": null,
            "grid_gap": null,
            "grid_row": null,
            "grid_template_areas": null,
            "grid_template_columns": null,
            "grid_template_rows": null,
            "height": null,
            "justify_content": null,
            "justify_items": null,
            "left": null,
            "margin": null,
            "max_height": null,
            "max_width": null,
            "min_height": null,
            "min_width": null,
            "object_fit": null,
            "object_position": null,
            "order": null,
            "overflow": null,
            "overflow_x": null,
            "overflow_y": null,
            "padding": null,
            "right": null,
            "top": null,
            "visibility": null,
            "width": null
          }
        },
        "477493f69acf46ccb3aa4c93063bcccf": {
          "model_module": "@jupyter-widgets/controls",
          "model_name": "DescriptionStyleModel",
          "model_module_version": "1.5.0",
          "state": {
            "_model_module": "@jupyter-widgets/controls",
            "_model_module_version": "1.5.0",
            "_model_name": "DescriptionStyleModel",
            "_view_count": null,
            "_view_module": "@jupyter-widgets/base",
            "_view_module_version": "1.2.0",
            "_view_name": "StyleView",
            "description_width": ""
          }
        },
        "4242dfee00224331b7fe6298be9d1eac": {
          "model_module": "@jupyter-widgets/base",
          "model_name": "LayoutModel",
          "model_module_version": "1.2.0",
          "state": {
            "_model_module": "@jupyter-widgets/base",
            "_model_module_version": "1.2.0",
            "_model_name": "LayoutModel",
            "_view_count": null,
            "_view_module": "@jupyter-widgets/base",
            "_view_module_version": "1.2.0",
            "_view_name": "LayoutView",
            "align_content": null,
            "align_items": null,
            "align_self": null,
            "border": null,
            "bottom": null,
            "display": null,
            "flex": null,
            "flex_flow": null,
            "grid_area": null,
            "grid_auto_columns": null,
            "grid_auto_flow": null,
            "grid_auto_rows": null,
            "grid_column": null,
            "grid_gap": null,
            "grid_row": null,
            "grid_template_areas": null,
            "grid_template_columns": null,
            "grid_template_rows": null,
            "height": null,
            "justify_content": null,
            "justify_items": null,
            "left": null,
            "margin": null,
            "max_height": null,
            "max_width": null,
            "min_height": null,
            "min_width": null,
            "object_fit": null,
            "object_position": null,
            "order": null,
            "overflow": null,
            "overflow_x": null,
            "overflow_y": null,
            "padding": null,
            "right": null,
            "top": null,
            "visibility": null,
            "width": "20px"
          }
        },
        "ca2da67de79c4e2481bf025c402a270f": {
          "model_module": "@jupyter-widgets/controls",
          "model_name": "ProgressStyleModel",
          "model_module_version": "1.5.0",
          "state": {
            "_model_module": "@jupyter-widgets/controls",
            "_model_module_version": "1.5.0",
            "_model_name": "ProgressStyleModel",
            "_view_count": null,
            "_view_module": "@jupyter-widgets/base",
            "_view_module_version": "1.2.0",
            "_view_name": "StyleView",
            "bar_color": null,
            "description_width": ""
          }
        },
        "26ff8bb3c8294cbc932b5246808cc078": {
          "model_module": "@jupyter-widgets/base",
          "model_name": "LayoutModel",
          "model_module_version": "1.2.0",
          "state": {
            "_model_module": "@jupyter-widgets/base",
            "_model_module_version": "1.2.0",
            "_model_name": "LayoutModel",
            "_view_count": null,
            "_view_module": "@jupyter-widgets/base",
            "_view_module_version": "1.2.0",
            "_view_name": "LayoutView",
            "align_content": null,
            "align_items": null,
            "align_self": null,
            "border": null,
            "bottom": null,
            "display": null,
            "flex": null,
            "flex_flow": null,
            "grid_area": null,
            "grid_auto_columns": null,
            "grid_auto_flow": null,
            "grid_auto_rows": null,
            "grid_column": null,
            "grid_gap": null,
            "grid_row": null,
            "grid_template_areas": null,
            "grid_template_columns": null,
            "grid_template_rows": null,
            "height": null,
            "justify_content": null,
            "justify_items": null,
            "left": null,
            "margin": null,
            "max_height": null,
            "max_width": null,
            "min_height": null,
            "min_width": null,
            "object_fit": null,
            "object_position": null,
            "order": null,
            "overflow": null,
            "overflow_x": null,
            "overflow_y": null,
            "padding": null,
            "right": null,
            "top": null,
            "visibility": null,
            "width": null
          }
        },
        "3bf510d853404234b7292e0d3e6bbcd4": {
          "model_module": "@jupyter-widgets/controls",
          "model_name": "DescriptionStyleModel",
          "model_module_version": "1.5.0",
          "state": {
            "_model_module": "@jupyter-widgets/controls",
            "_model_module_version": "1.5.0",
            "_model_name": "DescriptionStyleModel",
            "_view_count": null,
            "_view_module": "@jupyter-widgets/base",
            "_view_module_version": "1.2.0",
            "_view_name": "StyleView",
            "description_width": ""
          }
        },
        "d1f34282ed674d1d878aa76b9fcb9ec1": {
          "model_module": "@jupyter-widgets/controls",
          "model_name": "HBoxModel",
          "model_module_version": "1.5.0",
          "state": {
            "_dom_classes": [],
            "_model_module": "@jupyter-widgets/controls",
            "_model_module_version": "1.5.0",
            "_model_name": "HBoxModel",
            "_view_count": null,
            "_view_module": "@jupyter-widgets/controls",
            "_view_module_version": "1.5.0",
            "_view_name": "HBoxView",
            "box_style": "",
            "children": [
              "IPY_MODEL_ed4d04c14f604de2bd87aff453ec84cd",
              "IPY_MODEL_673e7ed50a7b4ca0b6507a7c27830d3c",
              "IPY_MODEL_5539bab847e4439ab34fa9748bf473dd"
            ],
            "layout": "IPY_MODEL_eee69ec31c8d4c08a061fc832c80ae6a"
          }
        },
        "ed4d04c14f604de2bd87aff453ec84cd": {
          "model_module": "@jupyter-widgets/controls",
          "model_name": "HTMLModel",
          "model_module_version": "1.5.0",
          "state": {
            "_dom_classes": [],
            "_model_module": "@jupyter-widgets/controls",
            "_model_module_version": "1.5.0",
            "_model_name": "HTMLModel",
            "_view_count": null,
            "_view_module": "@jupyter-widgets/controls",
            "_view_module_version": "1.5.0",
            "_view_name": "HTMLView",
            "description": "",
            "description_tooltip": null,
            "layout": "IPY_MODEL_2777377793d04aef87a67e42dc09a4da",
            "placeholder": "​",
            "style": "IPY_MODEL_8f92121919de47499c36309b26079438",
            "value": "100%"
          }
        },
        "673e7ed50a7b4ca0b6507a7c27830d3c": {
          "model_module": "@jupyter-widgets/controls",
          "model_name": "FloatProgressModel",
          "model_module_version": "1.5.0",
          "state": {
            "_dom_classes": [],
            "_model_module": "@jupyter-widgets/controls",
            "_model_module_version": "1.5.0",
            "_model_name": "FloatProgressModel",
            "_view_count": null,
            "_view_module": "@jupyter-widgets/controls",
            "_view_module_version": "1.5.0",
            "_view_name": "ProgressView",
            "bar_style": "success",
            "description": "",
            "description_tooltip": null,
            "layout": "IPY_MODEL_b08d40505d834fc7817562040d2b488b",
            "max": 287,
            "min": 0,
            "orientation": "horizontal",
            "style": "IPY_MODEL_24c4bb9f17eb456d848c01ee37137b3d",
            "value": 287
          }
        },
        "5539bab847e4439ab34fa9748bf473dd": {
          "model_module": "@jupyter-widgets/controls",
          "model_name": "HTMLModel",
          "model_module_version": "1.5.0",
          "state": {
            "_dom_classes": [],
            "_model_module": "@jupyter-widgets/controls",
            "_model_module_version": "1.5.0",
            "_model_name": "HTMLModel",
            "_view_count": null,
            "_view_module": "@jupyter-widgets/controls",
            "_view_module_version": "1.5.0",
            "_view_name": "HTMLView",
            "description": "",
            "description_tooltip": null,
            "layout": "IPY_MODEL_f4f94d81d1a5438495d5f24fc1d94b31",
            "placeholder": "​",
            "style": "IPY_MODEL_22014aa08f4b44cb8ff8fcbe4922e9ed",
            "value": " 287/287 [00:21&lt;00:00, 13.27it/s]"
          }
        },
        "eee69ec31c8d4c08a061fc832c80ae6a": {
          "model_module": "@jupyter-widgets/base",
          "model_name": "LayoutModel",
          "model_module_version": "1.2.0",
          "state": {
            "_model_module": "@jupyter-widgets/base",
            "_model_module_version": "1.2.0",
            "_model_name": "LayoutModel",
            "_view_count": null,
            "_view_module": "@jupyter-widgets/base",
            "_view_module_version": "1.2.0",
            "_view_name": "LayoutView",
            "align_content": null,
            "align_items": null,
            "align_self": null,
            "border": null,
            "bottom": null,
            "display": null,
            "flex": null,
            "flex_flow": null,
            "grid_area": null,
            "grid_auto_columns": null,
            "grid_auto_flow": null,
            "grid_auto_rows": null,
            "grid_column": null,
            "grid_gap": null,
            "grid_row": null,
            "grid_template_areas": null,
            "grid_template_columns": null,
            "grid_template_rows": null,
            "height": null,
            "justify_content": null,
            "justify_items": null,
            "left": null,
            "margin": null,
            "max_height": null,
            "max_width": null,
            "min_height": null,
            "min_width": null,
            "object_fit": null,
            "object_position": null,
            "order": null,
            "overflow": null,
            "overflow_x": null,
            "overflow_y": null,
            "padding": null,
            "right": null,
            "top": null,
            "visibility": null,
            "width": null
          }
        },
        "2777377793d04aef87a67e42dc09a4da": {
          "model_module": "@jupyter-widgets/base",
          "model_name": "LayoutModel",
          "model_module_version": "1.2.0",
          "state": {
            "_model_module": "@jupyter-widgets/base",
            "_model_module_version": "1.2.0",
            "_model_name": "LayoutModel",
            "_view_count": null,
            "_view_module": "@jupyter-widgets/base",
            "_view_module_version": "1.2.0",
            "_view_name": "LayoutView",
            "align_content": null,
            "align_items": null,
            "align_self": null,
            "border": null,
            "bottom": null,
            "display": null,
            "flex": null,
            "flex_flow": null,
            "grid_area": null,
            "grid_auto_columns": null,
            "grid_auto_flow": null,
            "grid_auto_rows": null,
            "grid_column": null,
            "grid_gap": null,
            "grid_row": null,
            "grid_template_areas": null,
            "grid_template_columns": null,
            "grid_template_rows": null,
            "height": null,
            "justify_content": null,
            "justify_items": null,
            "left": null,
            "margin": null,
            "max_height": null,
            "max_width": null,
            "min_height": null,
            "min_width": null,
            "object_fit": null,
            "object_position": null,
            "order": null,
            "overflow": null,
            "overflow_x": null,
            "overflow_y": null,
            "padding": null,
            "right": null,
            "top": null,
            "visibility": null,
            "width": null
          }
        },
        "8f92121919de47499c36309b26079438": {
          "model_module": "@jupyter-widgets/controls",
          "model_name": "DescriptionStyleModel",
          "model_module_version": "1.5.0",
          "state": {
            "_model_module": "@jupyter-widgets/controls",
            "_model_module_version": "1.5.0",
            "_model_name": "DescriptionStyleModel",
            "_view_count": null,
            "_view_module": "@jupyter-widgets/base",
            "_view_module_version": "1.2.0",
            "_view_name": "StyleView",
            "description_width": ""
          }
        },
        "b08d40505d834fc7817562040d2b488b": {
          "model_module": "@jupyter-widgets/base",
          "model_name": "LayoutModel",
          "model_module_version": "1.2.0",
          "state": {
            "_model_module": "@jupyter-widgets/base",
            "_model_module_version": "1.2.0",
            "_model_name": "LayoutModel",
            "_view_count": null,
            "_view_module": "@jupyter-widgets/base",
            "_view_module_version": "1.2.0",
            "_view_name": "LayoutView",
            "align_content": null,
            "align_items": null,
            "align_self": null,
            "border": null,
            "bottom": null,
            "display": null,
            "flex": null,
            "flex_flow": null,
            "grid_area": null,
            "grid_auto_columns": null,
            "grid_auto_flow": null,
            "grid_auto_rows": null,
            "grid_column": null,
            "grid_gap": null,
            "grid_row": null,
            "grid_template_areas": null,
            "grid_template_columns": null,
            "grid_template_rows": null,
            "height": null,
            "justify_content": null,
            "justify_items": null,
            "left": null,
            "margin": null,
            "max_height": null,
            "max_width": null,
            "min_height": null,
            "min_width": null,
            "object_fit": null,
            "object_position": null,
            "order": null,
            "overflow": null,
            "overflow_x": null,
            "overflow_y": null,
            "padding": null,
            "right": null,
            "top": null,
            "visibility": null,
            "width": null
          }
        },
        "24c4bb9f17eb456d848c01ee37137b3d": {
          "model_module": "@jupyter-widgets/controls",
          "model_name": "ProgressStyleModel",
          "model_module_version": "1.5.0",
          "state": {
            "_model_module": "@jupyter-widgets/controls",
            "_model_module_version": "1.5.0",
            "_model_name": "ProgressStyleModel",
            "_view_count": null,
            "_view_module": "@jupyter-widgets/base",
            "_view_module_version": "1.2.0",
            "_view_name": "StyleView",
            "bar_color": null,
            "description_width": ""
          }
        },
        "f4f94d81d1a5438495d5f24fc1d94b31": {
          "model_module": "@jupyter-widgets/base",
          "model_name": "LayoutModel",
          "model_module_version": "1.2.0",
          "state": {
            "_model_module": "@jupyter-widgets/base",
            "_model_module_version": "1.2.0",
            "_model_name": "LayoutModel",
            "_view_count": null,
            "_view_module": "@jupyter-widgets/base",
            "_view_module_version": "1.2.0",
            "_view_name": "LayoutView",
            "align_content": null,
            "align_items": null,
            "align_self": null,
            "border": null,
            "bottom": null,
            "display": null,
            "flex": null,
            "flex_flow": null,
            "grid_area": null,
            "grid_auto_columns": null,
            "grid_auto_flow": null,
            "grid_auto_rows": null,
            "grid_column": null,
            "grid_gap": null,
            "grid_row": null,
            "grid_template_areas": null,
            "grid_template_columns": null,
            "grid_template_rows": null,
            "height": null,
            "justify_content": null,
            "justify_items": null,
            "left": null,
            "margin": null,
            "max_height": null,
            "max_width": null,
            "min_height": null,
            "min_width": null,
            "object_fit": null,
            "object_position": null,
            "order": null,
            "overflow": null,
            "overflow_x": null,
            "overflow_y": null,
            "padding": null,
            "right": null,
            "top": null,
            "visibility": null,
            "width": null
          }
        },
        "22014aa08f4b44cb8ff8fcbe4922e9ed": {
          "model_module": "@jupyter-widgets/controls",
          "model_name": "DescriptionStyleModel",
          "model_module_version": "1.5.0",
          "state": {
            "_model_module": "@jupyter-widgets/controls",
            "_model_module_version": "1.5.0",
            "_model_name": "DescriptionStyleModel",
            "_view_count": null,
            "_view_module": "@jupyter-widgets/base",
            "_view_module_version": "1.2.0",
            "_view_name": "StyleView",
            "description_width": ""
          }
        },
        "3c73226c67b1449f9f30a07ddd18bd96": {
          "model_module": "@jupyter-widgets/controls",
          "model_name": "HBoxModel",
          "model_module_version": "1.5.0",
          "state": {
            "_dom_classes": [],
            "_model_module": "@jupyter-widgets/controls",
            "_model_module_version": "1.5.0",
            "_model_name": "HBoxModel",
            "_view_count": null,
            "_view_module": "@jupyter-widgets/controls",
            "_view_module_version": "1.5.0",
            "_view_name": "HBoxView",
            "box_style": "",
            "children": [
              "IPY_MODEL_5f44285fb6394154b0ed29b3033d683a",
              "IPY_MODEL_d2d8f54e8ccc49b1b624c7406bcba601",
              "IPY_MODEL_5416d2825a684f15992cc5329291b8f3"
            ],
            "layout": "IPY_MODEL_05a71d32bc444cc2a8667a8c07ac57e8"
          }
        },
        "5f44285fb6394154b0ed29b3033d683a": {
          "model_module": "@jupyter-widgets/controls",
          "model_name": "HTMLModel",
          "model_module_version": "1.5.0",
          "state": {
            "_dom_classes": [],
            "_model_module": "@jupyter-widgets/controls",
            "_model_module_version": "1.5.0",
            "_model_name": "HTMLModel",
            "_view_count": null,
            "_view_module": "@jupyter-widgets/controls",
            "_view_module_version": "1.5.0",
            "_view_name": "HTMLView",
            "description": "",
            "description_tooltip": null,
            "layout": "IPY_MODEL_6ded0396356045d8953613459dba3098",
            "placeholder": "​",
            "style": "IPY_MODEL_0c1c7f49b6834c5d8a3661ff106d1fd9",
            "value": "100%"
          }
        },
        "d2d8f54e8ccc49b1b624c7406bcba601": {
          "model_module": "@jupyter-widgets/controls",
          "model_name": "FloatProgressModel",
          "model_module_version": "1.5.0",
          "state": {
            "_dom_classes": [],
            "_model_module": "@jupyter-widgets/controls",
            "_model_module_version": "1.5.0",
            "_model_name": "FloatProgressModel",
            "_view_count": null,
            "_view_module": "@jupyter-widgets/controls",
            "_view_module_version": "1.5.0",
            "_view_name": "ProgressView",
            "bar_style": "success",
            "description": "",
            "description_tooltip": null,
            "layout": "IPY_MODEL_356e834b50c740f89bcd95a3e6dfda9b",
            "max": 287,
            "min": 0,
            "orientation": "horizontal",
            "style": "IPY_MODEL_953a6fea533e40f5b784ab59ab783d87",
            "value": 287
          }
        },
        "5416d2825a684f15992cc5329291b8f3": {
          "model_module": "@jupyter-widgets/controls",
          "model_name": "HTMLModel",
          "model_module_version": "1.5.0",
          "state": {
            "_dom_classes": [],
            "_model_module": "@jupyter-widgets/controls",
            "_model_module_version": "1.5.0",
            "_model_name": "HTMLModel",
            "_view_count": null,
            "_view_module": "@jupyter-widgets/controls",
            "_view_module_version": "1.5.0",
            "_view_name": "HTMLView",
            "description": "",
            "description_tooltip": null,
            "layout": "IPY_MODEL_b901feabc0a241d7a84acf50061a5c81",
            "placeholder": "​",
            "style": "IPY_MODEL_c526b1cb5b1d4f0f8978c372b82f8dc5",
            "value": " 287/287 [00:28&lt;00:00, 10.27it/s]"
          }
        },
        "05a71d32bc444cc2a8667a8c07ac57e8": {
          "model_module": "@jupyter-widgets/base",
          "model_name": "LayoutModel",
          "model_module_version": "1.2.0",
          "state": {
            "_model_module": "@jupyter-widgets/base",
            "_model_module_version": "1.2.0",
            "_model_name": "LayoutModel",
            "_view_count": null,
            "_view_module": "@jupyter-widgets/base",
            "_view_module_version": "1.2.0",
            "_view_name": "LayoutView",
            "align_content": null,
            "align_items": null,
            "align_self": null,
            "border": null,
            "bottom": null,
            "display": null,
            "flex": null,
            "flex_flow": null,
            "grid_area": null,
            "grid_auto_columns": null,
            "grid_auto_flow": null,
            "grid_auto_rows": null,
            "grid_column": null,
            "grid_gap": null,
            "grid_row": null,
            "grid_template_areas": null,
            "grid_template_columns": null,
            "grid_template_rows": null,
            "height": null,
            "justify_content": null,
            "justify_items": null,
            "left": null,
            "margin": null,
            "max_height": null,
            "max_width": null,
            "min_height": null,
            "min_width": null,
            "object_fit": null,
            "object_position": null,
            "order": null,
            "overflow": null,
            "overflow_x": null,
            "overflow_y": null,
            "padding": null,
            "right": null,
            "top": null,
            "visibility": null,
            "width": null
          }
        },
        "6ded0396356045d8953613459dba3098": {
          "model_module": "@jupyter-widgets/base",
          "model_name": "LayoutModel",
          "model_module_version": "1.2.0",
          "state": {
            "_model_module": "@jupyter-widgets/base",
            "_model_module_version": "1.2.0",
            "_model_name": "LayoutModel",
            "_view_count": null,
            "_view_module": "@jupyter-widgets/base",
            "_view_module_version": "1.2.0",
            "_view_name": "LayoutView",
            "align_content": null,
            "align_items": null,
            "align_self": null,
            "border": null,
            "bottom": null,
            "display": null,
            "flex": null,
            "flex_flow": null,
            "grid_area": null,
            "grid_auto_columns": null,
            "grid_auto_flow": null,
            "grid_auto_rows": null,
            "grid_column": null,
            "grid_gap": null,
            "grid_row": null,
            "grid_template_areas": null,
            "grid_template_columns": null,
            "grid_template_rows": null,
            "height": null,
            "justify_content": null,
            "justify_items": null,
            "left": null,
            "margin": null,
            "max_height": null,
            "max_width": null,
            "min_height": null,
            "min_width": null,
            "object_fit": null,
            "object_position": null,
            "order": null,
            "overflow": null,
            "overflow_x": null,
            "overflow_y": null,
            "padding": null,
            "right": null,
            "top": null,
            "visibility": null,
            "width": null
          }
        },
        "0c1c7f49b6834c5d8a3661ff106d1fd9": {
          "model_module": "@jupyter-widgets/controls",
          "model_name": "DescriptionStyleModel",
          "model_module_version": "1.5.0",
          "state": {
            "_model_module": "@jupyter-widgets/controls",
            "_model_module_version": "1.5.0",
            "_model_name": "DescriptionStyleModel",
            "_view_count": null,
            "_view_module": "@jupyter-widgets/base",
            "_view_module_version": "1.2.0",
            "_view_name": "StyleView",
            "description_width": ""
          }
        },
        "356e834b50c740f89bcd95a3e6dfda9b": {
          "model_module": "@jupyter-widgets/base",
          "model_name": "LayoutModel",
          "model_module_version": "1.2.0",
          "state": {
            "_model_module": "@jupyter-widgets/base",
            "_model_module_version": "1.2.0",
            "_model_name": "LayoutModel",
            "_view_count": null,
            "_view_module": "@jupyter-widgets/base",
            "_view_module_version": "1.2.0",
            "_view_name": "LayoutView",
            "align_content": null,
            "align_items": null,
            "align_self": null,
            "border": null,
            "bottom": null,
            "display": null,
            "flex": null,
            "flex_flow": null,
            "grid_area": null,
            "grid_auto_columns": null,
            "grid_auto_flow": null,
            "grid_auto_rows": null,
            "grid_column": null,
            "grid_gap": null,
            "grid_row": null,
            "grid_template_areas": null,
            "grid_template_columns": null,
            "grid_template_rows": null,
            "height": null,
            "justify_content": null,
            "justify_items": null,
            "left": null,
            "margin": null,
            "max_height": null,
            "max_width": null,
            "min_height": null,
            "min_width": null,
            "object_fit": null,
            "object_position": null,
            "order": null,
            "overflow": null,
            "overflow_x": null,
            "overflow_y": null,
            "padding": null,
            "right": null,
            "top": null,
            "visibility": null,
            "width": null
          }
        },
        "953a6fea533e40f5b784ab59ab783d87": {
          "model_module": "@jupyter-widgets/controls",
          "model_name": "ProgressStyleModel",
          "model_module_version": "1.5.0",
          "state": {
            "_model_module": "@jupyter-widgets/controls",
            "_model_module_version": "1.5.0",
            "_model_name": "ProgressStyleModel",
            "_view_count": null,
            "_view_module": "@jupyter-widgets/base",
            "_view_module_version": "1.2.0",
            "_view_name": "StyleView",
            "bar_color": null,
            "description_width": ""
          }
        },
        "b901feabc0a241d7a84acf50061a5c81": {
          "model_module": "@jupyter-widgets/base",
          "model_name": "LayoutModel",
          "model_module_version": "1.2.0",
          "state": {
            "_model_module": "@jupyter-widgets/base",
            "_model_module_version": "1.2.0",
            "_model_name": "LayoutModel",
            "_view_count": null,
            "_view_module": "@jupyter-widgets/base",
            "_view_module_version": "1.2.0",
            "_view_name": "LayoutView",
            "align_content": null,
            "align_items": null,
            "align_self": null,
            "border": null,
            "bottom": null,
            "display": null,
            "flex": null,
            "flex_flow": null,
            "grid_area": null,
            "grid_auto_columns": null,
            "grid_auto_flow": null,
            "grid_auto_rows": null,
            "grid_column": null,
            "grid_gap": null,
            "grid_row": null,
            "grid_template_areas": null,
            "grid_template_columns": null,
            "grid_template_rows": null,
            "height": null,
            "justify_content": null,
            "justify_items": null,
            "left": null,
            "margin": null,
            "max_height": null,
            "max_width": null,
            "min_height": null,
            "min_width": null,
            "object_fit": null,
            "object_position": null,
            "order": null,
            "overflow": null,
            "overflow_x": null,
            "overflow_y": null,
            "padding": null,
            "right": null,
            "top": null,
            "visibility": null,
            "width": null
          }
        },
        "c526b1cb5b1d4f0f8978c372b82f8dc5": {
          "model_module": "@jupyter-widgets/controls",
          "model_name": "DescriptionStyleModel",
          "model_module_version": "1.5.0",
          "state": {
            "_model_module": "@jupyter-widgets/controls",
            "_model_module_version": "1.5.0",
            "_model_name": "DescriptionStyleModel",
            "_view_count": null,
            "_view_module": "@jupyter-widgets/base",
            "_view_module_version": "1.2.0",
            "_view_name": "StyleView",
            "description_width": ""
          }
        },
        "0de3685b574849eba7a2c2126708eeb7": {
          "model_module": "@jupyter-widgets/controls",
          "model_name": "HBoxModel",
          "model_module_version": "1.5.0",
          "state": {
            "_dom_classes": [],
            "_model_module": "@jupyter-widgets/controls",
            "_model_module_version": "1.5.0",
            "_model_name": "HBoxModel",
            "_view_count": null,
            "_view_module": "@jupyter-widgets/controls",
            "_view_module_version": "1.5.0",
            "_view_name": "HBoxView",
            "box_style": "",
            "children": [
              "IPY_MODEL_93bc98a2552f46ec93905b4081916308",
              "IPY_MODEL_b6923e10df654c8baccd35781bbcf2f4",
              "IPY_MODEL_14012c6a98604c5496511ef4dce0846a"
            ],
            "layout": "IPY_MODEL_10c9f8cc68af4e3f97fbed0eea3fccbe"
          }
        },
        "93bc98a2552f46ec93905b4081916308": {
          "model_module": "@jupyter-widgets/controls",
          "model_name": "HTMLModel",
          "model_module_version": "1.5.0",
          "state": {
            "_dom_classes": [],
            "_model_module": "@jupyter-widgets/controls",
            "_model_module_version": "1.5.0",
            "_model_name": "HTMLModel",
            "_view_count": null,
            "_view_module": "@jupyter-widgets/controls",
            "_view_module_version": "1.5.0",
            "_view_name": "HTMLView",
            "description": "",
            "description_tooltip": null,
            "layout": "IPY_MODEL_91e3eab6b1684b5d9014ade57e6acda6",
            "placeholder": "​",
            "style": "IPY_MODEL_cad9c9c2fc724767a04beab2e3a2077f",
            "value": "100%"
          }
        },
        "b6923e10df654c8baccd35781bbcf2f4": {
          "model_module": "@jupyter-widgets/controls",
          "model_name": "FloatProgressModel",
          "model_module_version": "1.5.0",
          "state": {
            "_dom_classes": [],
            "_model_module": "@jupyter-widgets/controls",
            "_model_module_version": "1.5.0",
            "_model_name": "FloatProgressModel",
            "_view_count": null,
            "_view_module": "@jupyter-widgets/controls",
            "_view_module_version": "1.5.0",
            "_view_name": "ProgressView",
            "bar_style": "success",
            "description": "",
            "description_tooltip": null,
            "layout": "IPY_MODEL_0606a07c127046cb9d29877ee87024fa",
            "max": 287,
            "min": 0,
            "orientation": "horizontal",
            "style": "IPY_MODEL_f8e71593718041b8a0a7332211143d38",
            "value": 287
          }
        },
        "14012c6a98604c5496511ef4dce0846a": {
          "model_module": "@jupyter-widgets/controls",
          "model_name": "HTMLModel",
          "model_module_version": "1.5.0",
          "state": {
            "_dom_classes": [],
            "_model_module": "@jupyter-widgets/controls",
            "_model_module_version": "1.5.0",
            "_model_name": "HTMLModel",
            "_view_count": null,
            "_view_module": "@jupyter-widgets/controls",
            "_view_module_version": "1.5.0",
            "_view_name": "HTMLView",
            "description": "",
            "description_tooltip": null,
            "layout": "IPY_MODEL_61d9fb0362444382a1ce19862720acd2",
            "placeholder": "​",
            "style": "IPY_MODEL_edaa3631b2df4663bc9ac8b2e574ea26",
            "value": " 287/287 [00:00&lt;00:00, 2879.60it/s]"
          }
        },
        "10c9f8cc68af4e3f97fbed0eea3fccbe": {
          "model_module": "@jupyter-widgets/base",
          "model_name": "LayoutModel",
          "model_module_version": "1.2.0",
          "state": {
            "_model_module": "@jupyter-widgets/base",
            "_model_module_version": "1.2.0",
            "_model_name": "LayoutModel",
            "_view_count": null,
            "_view_module": "@jupyter-widgets/base",
            "_view_module_version": "1.2.0",
            "_view_name": "LayoutView",
            "align_content": null,
            "align_items": null,
            "align_self": null,
            "border": null,
            "bottom": null,
            "display": null,
            "flex": null,
            "flex_flow": null,
            "grid_area": null,
            "grid_auto_columns": null,
            "grid_auto_flow": null,
            "grid_auto_rows": null,
            "grid_column": null,
            "grid_gap": null,
            "grid_row": null,
            "grid_template_areas": null,
            "grid_template_columns": null,
            "grid_template_rows": null,
            "height": null,
            "justify_content": null,
            "justify_items": null,
            "left": null,
            "margin": null,
            "max_height": null,
            "max_width": null,
            "min_height": null,
            "min_width": null,
            "object_fit": null,
            "object_position": null,
            "order": null,
            "overflow": null,
            "overflow_x": null,
            "overflow_y": null,
            "padding": null,
            "right": null,
            "top": null,
            "visibility": null,
            "width": null
          }
        },
        "91e3eab6b1684b5d9014ade57e6acda6": {
          "model_module": "@jupyter-widgets/base",
          "model_name": "LayoutModel",
          "model_module_version": "1.2.0",
          "state": {
            "_model_module": "@jupyter-widgets/base",
            "_model_module_version": "1.2.0",
            "_model_name": "LayoutModel",
            "_view_count": null,
            "_view_module": "@jupyter-widgets/base",
            "_view_module_version": "1.2.0",
            "_view_name": "LayoutView",
            "align_content": null,
            "align_items": null,
            "align_self": null,
            "border": null,
            "bottom": null,
            "display": null,
            "flex": null,
            "flex_flow": null,
            "grid_area": null,
            "grid_auto_columns": null,
            "grid_auto_flow": null,
            "grid_auto_rows": null,
            "grid_column": null,
            "grid_gap": null,
            "grid_row": null,
            "grid_template_areas": null,
            "grid_template_columns": null,
            "grid_template_rows": null,
            "height": null,
            "justify_content": null,
            "justify_items": null,
            "left": null,
            "margin": null,
            "max_height": null,
            "max_width": null,
            "min_height": null,
            "min_width": null,
            "object_fit": null,
            "object_position": null,
            "order": null,
            "overflow": null,
            "overflow_x": null,
            "overflow_y": null,
            "padding": null,
            "right": null,
            "top": null,
            "visibility": null,
            "width": null
          }
        },
        "cad9c9c2fc724767a04beab2e3a2077f": {
          "model_module": "@jupyter-widgets/controls",
          "model_name": "DescriptionStyleModel",
          "model_module_version": "1.5.0",
          "state": {
            "_model_module": "@jupyter-widgets/controls",
            "_model_module_version": "1.5.0",
            "_model_name": "DescriptionStyleModel",
            "_view_count": null,
            "_view_module": "@jupyter-widgets/base",
            "_view_module_version": "1.2.0",
            "_view_name": "StyleView",
            "description_width": ""
          }
        },
        "0606a07c127046cb9d29877ee87024fa": {
          "model_module": "@jupyter-widgets/base",
          "model_name": "LayoutModel",
          "model_module_version": "1.2.0",
          "state": {
            "_model_module": "@jupyter-widgets/base",
            "_model_module_version": "1.2.0",
            "_model_name": "LayoutModel",
            "_view_count": null,
            "_view_module": "@jupyter-widgets/base",
            "_view_module_version": "1.2.0",
            "_view_name": "LayoutView",
            "align_content": null,
            "align_items": null,
            "align_self": null,
            "border": null,
            "bottom": null,
            "display": null,
            "flex": null,
            "flex_flow": null,
            "grid_area": null,
            "grid_auto_columns": null,
            "grid_auto_flow": null,
            "grid_auto_rows": null,
            "grid_column": null,
            "grid_gap": null,
            "grid_row": null,
            "grid_template_areas": null,
            "grid_template_columns": null,
            "grid_template_rows": null,
            "height": null,
            "justify_content": null,
            "justify_items": null,
            "left": null,
            "margin": null,
            "max_height": null,
            "max_width": null,
            "min_height": null,
            "min_width": null,
            "object_fit": null,
            "object_position": null,
            "order": null,
            "overflow": null,
            "overflow_x": null,
            "overflow_y": null,
            "padding": null,
            "right": null,
            "top": null,
            "visibility": null,
            "width": null
          }
        },
        "f8e71593718041b8a0a7332211143d38": {
          "model_module": "@jupyter-widgets/controls",
          "model_name": "ProgressStyleModel",
          "model_module_version": "1.5.0",
          "state": {
            "_model_module": "@jupyter-widgets/controls",
            "_model_module_version": "1.5.0",
            "_model_name": "ProgressStyleModel",
            "_view_count": null,
            "_view_module": "@jupyter-widgets/base",
            "_view_module_version": "1.2.0",
            "_view_name": "StyleView",
            "bar_color": null,
            "description_width": ""
          }
        },
        "61d9fb0362444382a1ce19862720acd2": {
          "model_module": "@jupyter-widgets/base",
          "model_name": "LayoutModel",
          "model_module_version": "1.2.0",
          "state": {
            "_model_module": "@jupyter-widgets/base",
            "_model_module_version": "1.2.0",
            "_model_name": "LayoutModel",
            "_view_count": null,
            "_view_module": "@jupyter-widgets/base",
            "_view_module_version": "1.2.0",
            "_view_name": "LayoutView",
            "align_content": null,
            "align_items": null,
            "align_self": null,
            "border": null,
            "bottom": null,
            "display": null,
            "flex": null,
            "flex_flow": null,
            "grid_area": null,
            "grid_auto_columns": null,
            "grid_auto_flow": null,
            "grid_auto_rows": null,
            "grid_column": null,
            "grid_gap": null,
            "grid_row": null,
            "grid_template_areas": null,
            "grid_template_columns": null,
            "grid_template_rows": null,
            "height": null,
            "justify_content": null,
            "justify_items": null,
            "left": null,
            "margin": null,
            "max_height": null,
            "max_width": null,
            "min_height": null,
            "min_width": null,
            "object_fit": null,
            "object_position": null,
            "order": null,
            "overflow": null,
            "overflow_x": null,
            "overflow_y": null,
            "padding": null,
            "right": null,
            "top": null,
            "visibility": null,
            "width": null
          }
        },
        "edaa3631b2df4663bc9ac8b2e574ea26": {
          "model_module": "@jupyter-widgets/controls",
          "model_name": "DescriptionStyleModel",
          "model_module_version": "1.5.0",
          "state": {
            "_model_module": "@jupyter-widgets/controls",
            "_model_module_version": "1.5.0",
            "_model_name": "DescriptionStyleModel",
            "_view_count": null,
            "_view_module": "@jupyter-widgets/base",
            "_view_module_version": "1.2.0",
            "_view_name": "StyleView",
            "description_width": ""
          }
        },
        "15b4bbfae86a415fa32b3b59d4e3f078": {
          "model_module": "@jupyter-widgets/controls",
          "model_name": "HBoxModel",
          "model_module_version": "1.5.0",
          "state": {
            "_dom_classes": [],
            "_model_module": "@jupyter-widgets/controls",
            "_model_module_version": "1.5.0",
            "_model_name": "HBoxModel",
            "_view_count": null,
            "_view_module": "@jupyter-widgets/controls",
            "_view_module_version": "1.5.0",
            "_view_name": "HBoxView",
            "box_style": "",
            "children": [
              "IPY_MODEL_fa15ad360d05411fbc6acb04dbcdc406",
              "IPY_MODEL_61c51f9c5e144bac9784338711b8ee97",
              "IPY_MODEL_09379eb660884fecb175ba5b15430414"
            ],
            "layout": "IPY_MODEL_f92e3d697e3944afad522ea9816ee7d1"
          }
        },
        "fa15ad360d05411fbc6acb04dbcdc406": {
          "model_module": "@jupyter-widgets/controls",
          "model_name": "HTMLModel",
          "model_module_version": "1.5.0",
          "state": {
            "_dom_classes": [],
            "_model_module": "@jupyter-widgets/controls",
            "_model_module_version": "1.5.0",
            "_model_name": "HTMLModel",
            "_view_count": null,
            "_view_module": "@jupyter-widgets/controls",
            "_view_module_version": "1.5.0",
            "_view_name": "HTMLView",
            "description": "",
            "description_tooltip": null,
            "layout": "IPY_MODEL_f0c9eb2f23ad4b9793705f8a625f5233",
            "placeholder": "​",
            "style": "IPY_MODEL_537ed6fdee3c414498bb29a6eb555774",
            "value": "100%"
          }
        },
        "61c51f9c5e144bac9784338711b8ee97": {
          "model_module": "@jupyter-widgets/controls",
          "model_name": "FloatProgressModel",
          "model_module_version": "1.5.0",
          "state": {
            "_dom_classes": [],
            "_model_module": "@jupyter-widgets/controls",
            "_model_module_version": "1.5.0",
            "_model_name": "FloatProgressModel",
            "_view_count": null,
            "_view_module": "@jupyter-widgets/controls",
            "_view_module_version": "1.5.0",
            "_view_name": "ProgressView",
            "bar_style": "success",
            "description": "",
            "description_tooltip": null,
            "layout": "IPY_MODEL_b353a384d08f4dc18fb1d73f5112f8c5",
            "max": 287,
            "min": 0,
            "orientation": "horizontal",
            "style": "IPY_MODEL_c9d890d689084db482e2ec10d06d04a7",
            "value": 287
          }
        },
        "09379eb660884fecb175ba5b15430414": {
          "model_module": "@jupyter-widgets/controls",
          "model_name": "HTMLModel",
          "model_module_version": "1.5.0",
          "state": {
            "_dom_classes": [],
            "_model_module": "@jupyter-widgets/controls",
            "_model_module_version": "1.5.0",
            "_model_name": "HTMLModel",
            "_view_count": null,
            "_view_module": "@jupyter-widgets/controls",
            "_view_module_version": "1.5.0",
            "_view_name": "HTMLView",
            "description": "",
            "description_tooltip": null,
            "layout": "IPY_MODEL_2c1eec290a8045e2a541c7336890e8f3",
            "placeholder": "​",
            "style": "IPY_MODEL_c432faa564a84e5fb07d1b035a5f18fe",
            "value": " 287/287 [00:20&lt;00:00, 14.00it/s]"
          }
        },
        "f92e3d697e3944afad522ea9816ee7d1": {
          "model_module": "@jupyter-widgets/base",
          "model_name": "LayoutModel",
          "model_module_version": "1.2.0",
          "state": {
            "_model_module": "@jupyter-widgets/base",
            "_model_module_version": "1.2.0",
            "_model_name": "LayoutModel",
            "_view_count": null,
            "_view_module": "@jupyter-widgets/base",
            "_view_module_version": "1.2.0",
            "_view_name": "LayoutView",
            "align_content": null,
            "align_items": null,
            "align_self": null,
            "border": null,
            "bottom": null,
            "display": null,
            "flex": null,
            "flex_flow": null,
            "grid_area": null,
            "grid_auto_columns": null,
            "grid_auto_flow": null,
            "grid_auto_rows": null,
            "grid_column": null,
            "grid_gap": null,
            "grid_row": null,
            "grid_template_areas": null,
            "grid_template_columns": null,
            "grid_template_rows": null,
            "height": null,
            "justify_content": null,
            "justify_items": null,
            "left": null,
            "margin": null,
            "max_height": null,
            "max_width": null,
            "min_height": null,
            "min_width": null,
            "object_fit": null,
            "object_position": null,
            "order": null,
            "overflow": null,
            "overflow_x": null,
            "overflow_y": null,
            "padding": null,
            "right": null,
            "top": null,
            "visibility": null,
            "width": null
          }
        },
        "f0c9eb2f23ad4b9793705f8a625f5233": {
          "model_module": "@jupyter-widgets/base",
          "model_name": "LayoutModel",
          "model_module_version": "1.2.0",
          "state": {
            "_model_module": "@jupyter-widgets/base",
            "_model_module_version": "1.2.0",
            "_model_name": "LayoutModel",
            "_view_count": null,
            "_view_module": "@jupyter-widgets/base",
            "_view_module_version": "1.2.0",
            "_view_name": "LayoutView",
            "align_content": null,
            "align_items": null,
            "align_self": null,
            "border": null,
            "bottom": null,
            "display": null,
            "flex": null,
            "flex_flow": null,
            "grid_area": null,
            "grid_auto_columns": null,
            "grid_auto_flow": null,
            "grid_auto_rows": null,
            "grid_column": null,
            "grid_gap": null,
            "grid_row": null,
            "grid_template_areas": null,
            "grid_template_columns": null,
            "grid_template_rows": null,
            "height": null,
            "justify_content": null,
            "justify_items": null,
            "left": null,
            "margin": null,
            "max_height": null,
            "max_width": null,
            "min_height": null,
            "min_width": null,
            "object_fit": null,
            "object_position": null,
            "order": null,
            "overflow": null,
            "overflow_x": null,
            "overflow_y": null,
            "padding": null,
            "right": null,
            "top": null,
            "visibility": null,
            "width": null
          }
        },
        "537ed6fdee3c414498bb29a6eb555774": {
          "model_module": "@jupyter-widgets/controls",
          "model_name": "DescriptionStyleModel",
          "model_module_version": "1.5.0",
          "state": {
            "_model_module": "@jupyter-widgets/controls",
            "_model_module_version": "1.5.0",
            "_model_name": "DescriptionStyleModel",
            "_view_count": null,
            "_view_module": "@jupyter-widgets/base",
            "_view_module_version": "1.2.0",
            "_view_name": "StyleView",
            "description_width": ""
          }
        },
        "b353a384d08f4dc18fb1d73f5112f8c5": {
          "model_module": "@jupyter-widgets/base",
          "model_name": "LayoutModel",
          "model_module_version": "1.2.0",
          "state": {
            "_model_module": "@jupyter-widgets/base",
            "_model_module_version": "1.2.0",
            "_model_name": "LayoutModel",
            "_view_count": null,
            "_view_module": "@jupyter-widgets/base",
            "_view_module_version": "1.2.0",
            "_view_name": "LayoutView",
            "align_content": null,
            "align_items": null,
            "align_self": null,
            "border": null,
            "bottom": null,
            "display": null,
            "flex": null,
            "flex_flow": null,
            "grid_area": null,
            "grid_auto_columns": null,
            "grid_auto_flow": null,
            "grid_auto_rows": null,
            "grid_column": null,
            "grid_gap": null,
            "grid_row": null,
            "grid_template_areas": null,
            "grid_template_columns": null,
            "grid_template_rows": null,
            "height": null,
            "justify_content": null,
            "justify_items": null,
            "left": null,
            "margin": null,
            "max_height": null,
            "max_width": null,
            "min_height": null,
            "min_width": null,
            "object_fit": null,
            "object_position": null,
            "order": null,
            "overflow": null,
            "overflow_x": null,
            "overflow_y": null,
            "padding": null,
            "right": null,
            "top": null,
            "visibility": null,
            "width": null
          }
        },
        "c9d890d689084db482e2ec10d06d04a7": {
          "model_module": "@jupyter-widgets/controls",
          "model_name": "ProgressStyleModel",
          "model_module_version": "1.5.0",
          "state": {
            "_model_module": "@jupyter-widgets/controls",
            "_model_module_version": "1.5.0",
            "_model_name": "ProgressStyleModel",
            "_view_count": null,
            "_view_module": "@jupyter-widgets/base",
            "_view_module_version": "1.2.0",
            "_view_name": "StyleView",
            "bar_color": null,
            "description_width": ""
          }
        },
        "2c1eec290a8045e2a541c7336890e8f3": {
          "model_module": "@jupyter-widgets/base",
          "model_name": "LayoutModel",
          "model_module_version": "1.2.0",
          "state": {
            "_model_module": "@jupyter-widgets/base",
            "_model_module_version": "1.2.0",
            "_model_name": "LayoutModel",
            "_view_count": null,
            "_view_module": "@jupyter-widgets/base",
            "_view_module_version": "1.2.0",
            "_view_name": "LayoutView",
            "align_content": null,
            "align_items": null,
            "align_self": null,
            "border": null,
            "bottom": null,
            "display": null,
            "flex": null,
            "flex_flow": null,
            "grid_area": null,
            "grid_auto_columns": null,
            "grid_auto_flow": null,
            "grid_auto_rows": null,
            "grid_column": null,
            "grid_gap": null,
            "grid_row": null,
            "grid_template_areas": null,
            "grid_template_columns": null,
            "grid_template_rows": null,
            "height": null,
            "justify_content": null,
            "justify_items": null,
            "left": null,
            "margin": null,
            "max_height": null,
            "max_width": null,
            "min_height": null,
            "min_width": null,
            "object_fit": null,
            "object_position": null,
            "order": null,
            "overflow": null,
            "overflow_x": null,
            "overflow_y": null,
            "padding": null,
            "right": null,
            "top": null,
            "visibility": null,
            "width": null
          }
        },
        "c432faa564a84e5fb07d1b035a5f18fe": {
          "model_module": "@jupyter-widgets/controls",
          "model_name": "DescriptionStyleModel",
          "model_module_version": "1.5.0",
          "state": {
            "_model_module": "@jupyter-widgets/controls",
            "_model_module_version": "1.5.0",
            "_model_name": "DescriptionStyleModel",
            "_view_count": null,
            "_view_module": "@jupyter-widgets/base",
            "_view_module_version": "1.2.0",
            "_view_name": "StyleView",
            "description_width": ""
          }
        }
      }
    }
  },
  "nbformat": 4,
  "nbformat_minor": 0
}