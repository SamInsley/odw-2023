{
  "cells": [
    {
      "cell_type": "markdown",
      "id": "a2a21b4e",
      "metadata": {
        "id": "a2a21b4e"
      },
      "source": [
        "<img style=\"float: left;padding: 1.3em\" src=\"https://raw.githubusercontent.com/gw-odw/odw-2023/main/Tutorials/logo.png\">  \n",
        "\n",
        "\n",
        "#  Gravitational Wave Open Data Workshop #6\n",
        "\n",
        "\n",
        "## Tutorial 3.1: An introduction to parameter estimation\n",
        "\n",
        "In this tutorial, we will introduce Bayesian inference and \"parameter estimation\", a crucial part of gravitational wave astronomy. We will start with a general introduction to inference, the idea of stochastic sampling, and then introduce the\n",
        "[bilby Bayesian inference library](https://lscsoft.docs.ligo.org/bilby/).\n",
        "   \n",
        "\n",
        "[Click this link to view this tutorial in Google Colaboratory](https://colab.research.google.com/github/gw-odw/odw-2023/blob/main/Tutorials/Day_3/Tuto_3.1_Introduction_to_parameter_estimation.ipynb)"
      ]
    },
    {
      "cell_type": "markdown",
      "id": "ba406484",
      "metadata": {
        "id": "ba406484"
      },
      "source": [
        "## Installation"
      ]
    },
    {
      "cell_type": "code",
      "execution_count": 1,
      "id": "f2014c53",
      "metadata": {
        "colab": {
          "base_uri": "https://localhost:8080/"
        },
        "id": "f2014c53",
        "outputId": "dba1ef9b-a570-4320-d1eb-c6f6b8227d9c",
        "tags": []
      },
      "outputs": [
        {
          "output_type": "stream",
          "name": "stdout",
          "text": [
            "\u001b[2K     \u001b[90m━━━━━━━━━━━━━━━━━━━━━━━━━━━━━━━━━━━━━━━━\u001b[0m \u001b[32m2.3/2.3 MB\u001b[0m \u001b[31m12.4 MB/s\u001b[0m eta \u001b[36m0:00:00\u001b[0m\n",
            "\u001b[2K     \u001b[90m━━━━━━━━━━━━━━━━━━━━━━━━━━━━━━━━━━━━━━━━\u001b[0m \u001b[32m11.9/11.9 MB\u001b[0m \u001b[31m49.8 MB/s\u001b[0m eta \u001b[36m0:00:00\u001b[0m\n",
            "\u001b[2K     \u001b[90m━━━━━━━━━━━━━━━━━━━━━━━━━━━━━━━━━━━━━━━━\u001b[0m \u001b[32m106.4/106.4 kB\u001b[0m \u001b[31m9.5 MB/s\u001b[0m eta \u001b[36m0:00:00\u001b[0m\n",
            "\u001b[2K     \u001b[90m━━━━━━━━━━━━━━━━━━━━━━━━━━━━━━━━━━━━━━━━\u001b[0m \u001b[32m1.1/1.1 MB\u001b[0m \u001b[31m67.5 MB/s\u001b[0m eta \u001b[36m0:00:00\u001b[0m\n",
            "\u001b[2K     \u001b[90m━━━━━━━━━━━━━━━━━━━━━━━━━━━━━━━━━━━━━━━━\u001b[0m \u001b[32m46.2/46.2 kB\u001b[0m \u001b[31m5.3 MB/s\u001b[0m eta \u001b[36m0:00:00\u001b[0m\n",
            "\u001b[2K     \u001b[90m━━━━━━━━━━━━━━━━━━━━━━━━━━━━━━━━━━━━━━━━\u001b[0m \u001b[32m115.3/115.3 kB\u001b[0m \u001b[31m11.6 MB/s\u001b[0m eta \u001b[36m0:00:00\u001b[0m\n",
            "\u001b[?25h\u001b[31mERROR: pip's dependency resolver does not currently take into account all the packages that are installed. This behaviour is the source of the following dependency conflicts.\n",
            "lida 0.0.10 requires fastapi, which is not installed.\n",
            "lida 0.0.10 requires kaleido, which is not installed.\n",
            "lida 0.0.10 requires python-multipart, which is not installed.\n",
            "lida 0.0.10 requires uvicorn, which is not installed.\n",
            "plotnine 0.12.4 requires matplotlib>=3.6.0, but you have matplotlib 3.5.3 which is incompatible.\u001b[0m\u001b[31m\n",
            "\u001b[0m"
          ]
        }
      ],
      "source": [
        "# -- Use the following line in Google Colab\n",
        "! pip install -q bilby==2.2.1 matplotlib==3.5.3 dynesty==2.1.1 corner==2.2.2"
      ]
    },
    {
      "cell_type": "markdown",
      "id": "1c21ebf7",
      "metadata": {
        "id": "1c21ebf7"
      },
      "source": [
        "**Important:** With Google Colab, you may need to restart the runtime after running the cell above."
      ]
    },
    {
      "cell_type": "markdown",
      "id": "1ece55ad",
      "metadata": {
        "id": "1ece55ad"
      },
      "source": [
        "### Download sample data\n",
        "\n",
        "If you are running on Google Colab, or another environment which copies the notebook but not the sample data. Please run the following cell. (Note: you may also download the file directly)."
      ]
    },
    {
      "cell_type": "code",
      "execution_count": 2,
      "id": "0714c2d9",
      "metadata": {
        "id": "0714c2d9",
        "outputId": "24599041-99ef-4ac4-9b62-a237e6aedd71",
        "colab": {
          "base_uri": "https://localhost:8080/"
        }
      },
      "outputs": [
        {
          "output_type": "stream",
          "name": "stdout",
          "text": [
            "Downloading toy_model.csv\n",
            "--2023-11-25 09:15:38--  https://raw.githubusercontent.com/gw-odw/odw-2023/main/Tutorials/Day_3/toy_model.csv\n",
            "Resolving raw.githubusercontent.com (raw.githubusercontent.com)... 185.199.108.133, 185.199.109.133, 185.199.110.133, ...\n",
            "Connecting to raw.githubusercontent.com (raw.githubusercontent.com)|185.199.108.133|:443... connected.\n",
            "HTTP request sent, awaiting response... 200 OK\n",
            "Length: 5104 (5.0K) [text/plain]\n",
            "Saving to: ‘toy_model.csv’\n",
            "\n",
            "toy_model.csv       100%[===================>]   4.98K  --.-KB/s    in 0s      \n",
            "\n",
            "2023-11-25 09:15:38 (58.3 MB/s) - ‘toy_model.csv’ saved [5104/5104]\n",
            "\n"
          ]
        }
      ],
      "source": [
        "import os\n",
        "if not os.path.isfile(\"toy_model.csv\"):\n",
        "  print(\"Downloading toy_model.csv\")\n",
        "  ! wget https://raw.githubusercontent.com/gw-odw/odw-2023/main/Tutorials/Day_3/toy_model.csv\n",
        "else:\n",
        "  print(\"toy_model.csv exists; not downloading\")"
      ]
    },
    {
      "cell_type": "code",
      "execution_count": 3,
      "id": "bfb97621",
      "metadata": {
        "colab": {
          "base_uri": "https://localhost:8080/"
        },
        "id": "bfb97621",
        "outputId": "e16dc682-cf2e-4bb2-8cdd-48a52361a06a",
        "tags": []
      },
      "outputs": [
        {
          "output_type": "stream",
          "name": "stdout",
          "text": [
            "Loaded numpy: 1.23.5\n",
            "Loaded matplotlib: 3.7.1\n",
            "Loaded bilby: 2.2.1\n",
            "Loaded corner: 2.2.2\n"
          ]
        }
      ],
      "source": [
        "import numpy as np\n",
        "import matplotlib\n",
        "import matplotlib.pyplot as plt\n",
        "import bilby\n",
        "import corner\n",
        "\n",
        "for module in [np, matplotlib, bilby, corner]:\n",
        "    print(f\"Loaded {module.__name__}: {module.__version__}\")"
      ]
    },
    {
      "cell_type": "markdown",
      "id": "a39352c6",
      "metadata": {
        "id": "a39352c6"
      },
      "source": [
        "### Bayesian inference\n",
        "\n",
        "Let us assume we are given some data $d$ and we wish to use the data to learn about a model $M$ with associated parameters $\\theta$. Bayes' theorem provides a framework to do this. Namely, the *posterior* probability distribution of the parameters $\\theta$ can be calculated from\n",
        "\n",
        "$$ p(\\theta | d, M) = \\frac{\\mathcal{L}(d| \\theta, M) \\;\\pi(\\theta | M)}{\\mathcal{Z}(d | M)} $$\n",
        "\n",
        "where $\\mathcal{L}(d| \\theta, M)$ is the *likelihood*, $\\pi(\\theta | M)$ is the *prior* probability distribution, and $\\mathcal{Z}(d | M)$ is the *evidence* (or fully marginalized likelihood) which normalized the posterior, i.e.\n",
        "\n",
        "$$ \\mathcal{Z}(d | M) = \\int \\mathcal{L}(d| \\theta, M) \\;\\pi(\\theta | M)\\, d\\theta $$\n",
        "\n",
        "For most interesting problems, the posterior and evidence (i.e. $p(\\theta | d, M) $ and $\\mathcal{Z}(d | M) $) cannot be calculated in closed form. Instead we rely on computational methods to approximate them - in this tutorials we will use **stochastic sampling**.\n",
        "\n",
        "Approximating $p(\\theta | d, M)$ is known as **parameter estimation** for obvious reasons. However, let us briefly note that Bayesian inference also extends to **model comparison** as follows. If we have two models, say $M_A$ and $M_B$, then Bayes theorem also tells us that\n",
        "\n",
        "$$ \\frac{P(M_A | d)}{P(M_B | d)} = \\frac{\\mathcal{Z}(d | M_A)}{\\mathcal{Z}(d | M_B)} \\frac{\\pi(M_A)}{\\pi(M_B)} $$\n",
        "\n",
        "This ratio known as the *posterior odds* compares the relative probability of each model. If it is greater than 1 this implies evidence for $M_A$ whereas if it is less than 1 it implies evidence for $M_B$. The right hand side is the product of the *Bayes factor* $\\frac{\\mathcal{Z}(d | M_A)}{\\mathcal{Z}(d | M_B)}$ (which can be estimated using stochastic sampling) and the *prior odds* $\\frac{\\pi(M_A)}{\\pi(M_B)}$."
      ]
    },
    {
      "cell_type": "markdown",
      "id": "101d6cdc",
      "metadata": {
        "id": "101d6cdc"
      },
      "source": [
        "### Introducing a toy model\n",
        "\n",
        "In order to introduce the basics of Bayesian inference and stochastic sampling, let us introduce some example data and then a toy model with parameters for us to estimate. In this repository, we include our data `toy_model.csv`. This is a text file containing an observed timeseries of `yobs` recorded at times `time`. We now read in the data and plot it"
      ]
    },
    {
      "cell_type": "code",
      "execution_count": 4,
      "id": "c38fa162",
      "metadata": {
        "colab": {
          "base_uri": "https://localhost:8080/",
          "height": 449
        },
        "id": "c38fa162",
        "outputId": "d40644de-ad4f-4ed7-fdbc-e32fb2e3e4f7",
        "tags": []
      },
      "outputs": [
        {
          "output_type": "display_data",
          "data": {
            "text/plain": [
              "<Figure size 640x480 with 1 Axes>"
            ],
            "image/png": "[encoded data removed]"
          },
          "metadata": {}
        }
      ],
      "source": [
        "time, yobs = np.genfromtxt(\"toy_model.csv\", delimiter=\",\").T\n",
        "fig, ax = plt.subplots()\n",
        "ax.plot(time, yobs)\n",
        "ax.set(xlabel=\"Time [s]\", ylabel=\"Observed y values [arb. units]\")\n",
        "plt.show()"
      ]
    },
    {
      "cell_type": "markdown",
      "id": "69afbe19",
      "metadata": {
        "id": "69afbe19"
      },
      "source": [
        "We are told by our tame theoretician, that a good model to explain this data is a so-called *sine Gaussian* which consists of a sinusoidal function modulated with a Gaussian-exponential envelope, i.e.\n",
        "\n",
        "$$ M_s: s(t) = e^{-(t/\\alpha)^2} \\sin\\left(2\\pi f t\\right)  $$\n",
        "\n",
        "where $M_s$ will be our label for the sine-Gaussian model. This model has two parameters $f$ and $\\alpha$; we could further generalise this to have an arbitrary amplitude, phase shift, or time shift, as well but here we introduce the simple two-parameter model for illustration.\n",
        "\n",
        "Before we go any further, let's check that we understand the model by plotting it out with some arbitrary choices for $f$ and $\\alpha$. To do this, we will create some functions that we can use later on. We plot the full function and the individual components to help visualise it."
      ]
    },
    {
      "cell_type": "code",
      "execution_count": 5,
      "id": "a63f0fd6",
      "metadata": {
        "colab": {
          "base_uri": "https://localhost:8080/",
          "height": 449
        },
        "id": "a63f0fd6",
        "outputId": "d20d9711-0c1d-4b02-8feb-a6d4060ecc6e",
        "tags": []
      },
      "outputs": [
        {
          "output_type": "display_data",
          "data": {
            "text/plain": [
              "<Figure size 640x480 with 1 Axes>"
            ],
            "image/png": "[encoded data removed]"
          },
          "metadata": {}
        }
      ],
      "source": [
        "def sinusoid(time, freq):\n",
        "    return np.sin(2 * np.pi * freq * time)\n",
        "\n",
        "\n",
        "def gaussian_exponential(time, alpha):\n",
        "    return np.exp(-(time/alpha)**2)\n",
        "\n",
        "\n",
        "def model_Ms(time, freq, alpha):\n",
        "    return gaussian_exponential(time, alpha) * sinusoid(time, freq)\n",
        "\n",
        "freq = 2\n",
        "alpha = 0.5\n",
        "\n",
        "fig, ax = plt.subplots()\n",
        "\n",
        "ax.plot(time, sinusoid(time, freq), label=\"Sinusoid\")\n",
        "ax.plot(time, gaussian_exponential(time, alpha), label=\"Gaussian exponential\")\n",
        "ax.plot(time, model_Ms(time, freq, alpha), label=\"Sine Gaussian\")\n",
        "ax.set(xlabel=\"Time [s]\", ylabel=\"Observed y values [arb. units]\")\n",
        "ax.legend()\n",
        "plt.show()"
      ]
    },
    {
      "cell_type": "markdown",
      "id": "b2a47de4",
      "metadata": {
        "id": "b2a47de4"
      },
      "source": [
        "### Parameter Estimation\n",
        "\n",
        "Now that we have our data (`yobs`) and our model $M_s$, our task is to estimate the parameters $f$ and $\\alpha$. To do this, we will use Bayes theorem, i.e. we want to approximate the distribution\n",
        "\n",
        "$$ p(\\theta | d, M_s) = \\frac{\\mathcal{L}(d| \\theta, M_s) \\;\\pi(\\theta | M_s)}{\\mathcal{Z}(d | M_s)} $$\n",
        "\n",
        "where $\\theta={f, \\alpha}$ is the two-dimensional parameter vector and $d$ is `yobs` (measured at times `time`). To this end, we need to define the likelihood and priors. Note that, if we are **only interested in the shape of the distribution**, then we can ignore the evidence, i.e. we can estimate the unnormalized distribution\n",
        "\n",
        "$$ p(\\theta | d, M_s) \\propto \\mathcal{L}(d| \\theta, M_s) \\;\\pi(\\theta | M_s) $$\n",
        "\n",
        "Before proceeding, we need to define our likelihood and prior.\n",
        "\n",
        "#### Parameter Estimation: Likelihood\n",
        "\n",
        "For this toy example, we will assume that the data consists of the generate model $M_s$ and additive white Gaussian noise, i.e.\n",
        "\n",
        "$$ y_{\\rm obs}(t) = s(t; f, \\alpha) + \\epsilon $$\n",
        "\n",
        "where $\\epsilon \\sim N(0, \\sigma)$ by which we mean that $\\epsilon$ is drawn from a Gaussian distribution with zero mean and standard deviation $\\sigma=0.1$ (for now, we will assume this is known a priori, but see challenges below for how it could be estimated).\n",
        "\n",
        "This definition of how the data was created allows us to define our likelihood. Namely, given a value of $f, \\alpha$, the likelihood of a single data point $y_i$ (measured at $t_i$) is:\n",
        "\n",
        "$$ \\mathcal{L}(y_i| f, \\alpha, M_s) = \\frac{1}{\\sqrt{2\\pi \\sigma^2}} \\exp\\left(-\\frac{(y_i - s(t_i; f, \\alpha))^2}{2\\sigma^2}\\right) $$\n",
        "\n",
        "To extend this to multiple data points, we assume they are independent then\n",
        "\n",
        "$$ \\mathcal{L}(y_{obs} | f, \\alpha, M_s) = \\prod_i \\mathcal{L}(y_i| f, \\alpha, M_s) $$\n",
        "\n",
        "In practice, it is wise to work with the logarithm of the likelihood to avoid numerical overflow. Then, we have that\n",
        "\n",
        "$$ \\log \\mathcal{L}(y_{obs} | f, \\alpha, M_s) = \\sum_{i} -\\frac{1}{2}\\left(\\frac{\\left(y_i - s(t_i; f, \\alpha)\\right)^2}{\\sigma^2} + \\log\\left(2\\pi \\sigma^2\\right)\\right) $$\n",
        "\n",
        "We now transcribe this into `python`:"
      ]
    },
    {
      "cell_type": "code",
      "execution_count": 6,
      "id": "27368b99",
      "metadata": {
        "id": "27368b99",
        "tags": []
      },
      "outputs": [],
      "source": [
        "def log_likelihood_Ms(time, yobs, freq, alpha, sigma=0.1):\n",
        "    prediction = model_Ms(time, freq, alpha)\n",
        "    res = yobs - prediction\n",
        "    logl = -0.5 * (((res/sigma)**2) + np.log(2 * np.pi * sigma**2))\n",
        "    # Sum over all log_likelihoods (axis=0)\n",
        "    return np.sum(logl, axis=0)"
      ]
    },
    {
      "cell_type": "markdown",
      "id": "3a9da691",
      "metadata": {
        "id": "3a9da691"
      },
      "source": [
        "#### Parameter Estimation: Priors\n",
        "\n",
        "The second part of Bayes theorem is the *prior*. For our two-component model, we will use a simple disjoint prior (i.e. $\\pi(\\theta | M_s)=\\pi(f| M_s)\\pi(\\alpha | M_s)$) with\n",
        "\n",
        "$$ \\pi(f| M_s) = \\textrm{Uniform}(0, 5) $$\n",
        "$$ \\pi(\\alpha| M_s) = \\textrm{Uniform}(0, 1) $$\n",
        "\n",
        "Let us create a python function to calulcate the log of the prior:"
      ]
    },
    {
      "cell_type": "code",
      "execution_count": 7,
      "id": "0ef7322e",
      "metadata": {
        "id": "0ef7322e",
        "tags": []
      },
      "outputs": [],
      "source": [
        "def log_prior_Ms(freq, alpha):\n",
        "    \"\"\" Calculate the log prior under the Ms model\n",
        "\n",
        "    Parameters\n",
        "    ----------\n",
        "    freq: array or float\n",
        "        The frequency at which to calculate the prior\n",
        "    alpha: array or float\n",
        "        The alpha at which to calculate the prior\n",
        "\n",
        "    Returns\n",
        "    -------\n",
        "    log_prior: array\n",
        "        The log_prior calculated for all freq, alpha samples\n",
        "    \"\"\"\n",
        "    # Convert freq, alpha to numpy arrays\n",
        "    freq = np.atleast_1d(freq)\n",
        "    alpha = np.atleast_1d(alpha)\n",
        "\n",
        "    # Apply Uniform priors: calculate idxs of array where f, alpha in range\n",
        "    f_min = 0\n",
        "    f_max = 5\n",
        "    f_idxs = (freq > f_min) * (freq < f_max)\n",
        "\n",
        "    alpha_min = 0\n",
        "    alpha_max = 1\n",
        "    alpha_idxs = (alpha > alpha_min) * (alpha < alpha_max)\n",
        "\n",
        "    idxs = alpha_idxs * f_idxs\n",
        "\n",
        "    log_prior_volume = np.log(1/(f_max - f_min) * (1 / (alpha_max - alpha_min)))\n",
        "\n",
        "    log_prior = np.zeros_like(freq)\n",
        "    log_prior[idxs] = log_prior_volume\n",
        "    log_prior[~idxs] = -np.inf\n",
        "    return log_prior"
      ]
    },
    {
      "cell_type": "markdown",
      "id": "290d7f24",
      "metadata": {
        "id": "290d7f24"
      },
      "source": [
        "#### Parameter Estimation: Rejection Sampling\n",
        "\n",
        "Now that we have our likelihood and prior, we will introduce **stochastic sampling**. We start by using the simplest type of stochastic sampling, rejection sampling. The idea is that to draw samples from a target distribution $p(\\theta | d, M_s)$ which is difficult to sample from, we first generate samples from a generating distribution $g(\\theta$) which is easy to sample from and then weight the samples relative to the target distribution. In practice you can choose any generating distribution you like, but we will use $g(\\theta) = g(f)g(\\alpha)$ where\n",
        "\n",
        "$$ g(f) = \\textrm{Uniform}(1.8, 2.2) $$\n",
        "$$ g(\\alpha) = \\textrm{Uniform}(0.2, 0.6) $$\n",
        "\n",
        "Our rejection sampling algorithm then proceeds as follows:\n",
        "\n",
        "\n",
        "1. Draw $\\theta'=[f, \\alpha]$ from $g(f)$ and $g(\\alpha)$\n",
        "2. Calculate the probability under the target and generating distributions (i.e. $p(\\theta' | d, M_s)$ and $g(\\theta')$)\n",
        "3. Calculate the weight $w=p(\\theta' | d, M_s) / g(\\theta')$\n",
        "4. Draw a random number $u$ uniformly distributed in $[0, 1]$\n",
        "5. If $w > u$, append $\\theta'$ to a set of samples, otherwise reject it and repeat\n",
        "\n",
        "Continue this loop until an acceptable number of samples have been drawn. The resulting set of samples are then an approximation to $p(\\theta | d, M_s)$ and be used to produce summary statistics or create plots.\n",
        "\n",
        "We now program the algorithm for our test data. However, there are two important differences between this algorithm and the expression above:\n",
        "\n",
        "1. We will work with the unnormalised distribution $p(\\theta | d, M_s)$ (i.e. we don't calculate the evidence $\\mathcal{Z}$. As a result, $w$ is also unnormalised and so it needs to be normalised before we apply step 5. Fortunately, we can normalize $w$ once we have a distribution of values.  \n",
        "2. For computational efficiency, rather than using a while loop we will instead draw a set of 100000 samples, calculate the weights for each, and then apply rejection sampling. This utilises numpy array optimization and also enables us to normalise the weights to a distribution."
      ]
    },
    {
      "cell_type": "code",
      "execution_count": 8,
      "id": "d4f02fb9",
      "metadata": {
        "id": "d4f02fb9",
        "tags": []
      },
      "outputs": [],
      "source": [
        "# Draw 10000 samples from g(theta)\n",
        "N = 100000\n",
        "freq_gsamples = np.random.uniform(1.8, 2.2, N)\n",
        "alpha_gsamples = np.random.uniform(0.2, 0.6, N)\n",
        "\n",
        "# Make time a 2D array to enable broadcasting across the samples\n",
        "time_array = time[:, np.newaxis]\n",
        "yobs_array = yobs[:, np.newaxis]\n",
        "\n",
        "# Calculate the log_likelihood and log_prior for all samples\n",
        "log_likelihood_vals = log_likelihood_Ms(time_array, yobs_array, freq_gsamples, alpha_gsamples)\n",
        "log_prior_vals = log_prior_Ms(freq_gsamples, alpha_gsamples)\n",
        "log_posterior_vals = log_likelihood_vals + log_prior_vals\n",
        "\n",
        "# Calculate the weights\n",
        "weights = np.exp(log_posterior_vals)\n",
        "\n",
        "# Normalise the weights\n",
        "weights = weights / max(weights)\n",
        "\n",
        "# Rejection sample\n",
        "keep = weights > np.random.uniform(0, 1, weights.shape)\n",
        "alpha_samples = alpha_gsamples[keep]\n",
        "freq_samples = freq_gsamples[keep]"
      ]
    },
    {
      "cell_type": "markdown",
      "id": "55f19fa4",
      "metadata": {
        "id": "55f19fa4"
      },
      "source": [
        "The end result of this is a set of samples `freq_samples` and `alpha_samples` that approximate the posterior distribution. We can get a quick visualisation of these by using the `corner` package:"
      ]
    },
    {
      "cell_type": "code",
      "execution_count": 9,
      "id": "013d1029",
      "metadata": {
        "colab": {
          "base_uri": "https://localhost:8080/",
          "height": 547
        },
        "id": "013d1029",
        "outputId": "f05c38e5-47ef-4b25-c164-6304054009c8",
        "tags": []
      },
      "outputs": [
        {
          "output_type": "display_data",
          "data": {
            "text/plain": [
              "<Figure size 550x550 with 4 Axes>"
            ],
            "image/png": "[encoded data removed]"
          },
          "metadata": {}
        }
      ],
      "source": [
        "# Create a corner plot\n",
        "samples = np.array([freq_samples, alpha_samples]).T\n",
        "fig = corner.corner(samples, bins=20, labels=[\"f\", \"alpha\"], show_titles=True, quantiles=[0.16, 0.5, 0.84],)"
      ]
    },
    {
      "cell_type": "markdown",
      "id": "9671d0f9",
      "metadata": {
        "id": "9671d0f9"
      },
      "source": [
        "The plot above shows two 1D histograms (one for each parameter) and one 2D histogram (showing any correlations between the samples). Areas where the posterior is large (i.e. the histogram count is high) represent the most probable values of $f$ and $\\alpha$ which explain the data.\n",
        "\n",
        "The samples can also be used to provide a summary statistic. For example, if you wanted to report the mean and standard deviation interval for $f$, you could do something like this:"
      ]
    },
    {
      "cell_type": "code",
      "execution_count": 10,
      "id": "6b129a93",
      "metadata": {
        "colab": {
          "base_uri": "https://localhost:8080/"
        },
        "id": "6b129a93",
        "outputId": "284b5a5c-f306-4567-eb8e-b3ef444474ab",
        "tags": []
      },
      "outputs": [
        {
          "output_type": "stream",
          "name": "stdout",
          "text": [
            "We estimate the the mean and standard deviation of frequency to be 1.94+/-0.04\n"
          ]
        }
      ],
      "source": [
        "mean_f = np.mean(freq_samples)\n",
        "std_f = np.std(freq_samples)\n",
        "print(f\"We estimate the the mean and standard deviation of frequency to be {mean_f:0.2f}+/-{std_f:0.2f}\")"
      ]
    },
    {
      "cell_type": "markdown",
      "id": "ad2e9e07",
      "metadata": {
        "id": "ad2e9e07"
      },
      "source": [
        "Typically, in GW astronomy, we use the median and a 90\\% credible interval because the posterior is often non-symmetric."
      ]
    },
    {
      "cell_type": "markdown",
      "id": "15f4025c",
      "metadata": {
        "id": "15f4025c"
      },
      "source": [
        "In this exerise, we have learned that rejection sampling can be used to approximate the posterior distribution. However, we should note that it is highly inefficienct. It works okay here, because we tightly tuned the edges of $g(\\theta)$, but if you go back and increase these to a wider range, you'll see the efficiency quickly drops off. Moreover, the efficiency of rejection sampling also suffers when we start to look at problems in more than 2 parameters."
      ]
    },
    {
      "cell_type": "code",
      "execution_count": 11,
      "id": "b50806fe",
      "metadata": {
        "colab": {
          "base_uri": "https://localhost:8080/"
        },
        "id": "b50806fe",
        "outputId": "5ada0d33-3ebe-414a-8d1d-9a8e4dd3d058",
        "tags": []
      },
      "outputs": [
        {
          "output_type": "stream",
          "name": "stdout",
          "text": [
            "0.02531\n"
          ]
        }
      ],
      "source": [
        "# To calculate the efficiency\n",
        "efficiency = len(freq_samples) / len(freq_gsamples)\n",
        "print(efficiency)"
      ]
    },
    {
      "cell_type": "markdown",
      "id": "983f5090",
      "metadata": {
        "id": "983f5090"
      },
      "source": [
        "#### Parameter Estimation: Markov Chain Monte Carlo\n",
        "\n",
        "The rejection sampling algorithm is inefficient in problems where the posterior is small compared to the prior volume. To address this, a range of stochastic sampling algorithms are available. In GW astronomy, two are preferred: Markov Chain Monte Carlo (MCMC), and Nested Sampling. We will now introduce `bilby` which is an inference package allowing access to several off the shelf samplers.\n",
        "\n",
        "`bilby` has helper functionality to program up our likelihood and prior. We begin by using that:"
      ]
    },
    {
      "cell_type": "code",
      "execution_count": 12,
      "id": "d959266a",
      "metadata": {
        "id": "d959266a",
        "tags": []
      },
      "outputs": [],
      "source": [
        "likelihood_Ms = bilby.core.likelihood.GaussianLikelihood(time, yobs, model_Ms, sigma=0.1)\n",
        "\n",
        "priors_Ms = dict(\n",
        "    freq=bilby.core.prior.Uniform(0, 5),\n",
        "    alpha=bilby.core.prior.Uniform(0, 1)\n",
        ")"
      ]
    },
    {
      "cell_type": "markdown",
      "id": "db612cb2",
      "metadata": {
        "id": "db612cb2"
      },
      "source": [
        "This creates two objects, a `likelihood` and `prior`. These can now be passed to `run_sampler` with some options to select the `bilby_mcmc` sampler and configure it in a way that is efficient for this problem."
      ]
    },
    {
      "cell_type": "code",
      "execution_count": 13,
      "id": "0de4f9f5",
      "metadata": {
        "colab": {
          "base_uri": "https://localhost:8080/"
        },
        "id": "0de4f9f5",
        "outputId": "ce7a3906-652f-4461-d765-6472afd73653",
        "tags": []
      },
      "outputs": [
        {
          "output_type": "stream",
          "name": "stderr",
          "text": [
            "09:15 bilby INFO    : Running for label 'model_Ms', output will be saved to 'toy_model'\n",
            "/usr/local/lib/python3.10/dist-packages/_distutils_hack/__init__.py:33: UserWarning: Setuptools is replacing distutils.\n",
            "  warnings.warn(\"Setuptools is replacing distutils.\")\n",
            "09:15 bilby INFO    : Analysis priors:\n",
            "09:15 bilby INFO    : freq=Uniform(minimum=0, maximum=5, name=None, latex_label=None, unit=None, boundary=None)\n",
            "09:15 bilby INFO    : alpha=Uniform(minimum=0, maximum=1, name=None, latex_label=None, unit=None, boundary=None)\n",
            "09:15 bilby INFO    : Analysis likelihood class: <class 'bilby.core.likelihood.GaussianLikelihood'>\n",
            "09:15 bilby INFO    : Analysis likelihood noise evidence: nan\n",
            "09:15 bilby INFO    : Single likelihood evaluation took 1.593e-04 s\n",
            "09:15 bilby INFO    : Using sampler Bilby_MCMC with kwargs {'nsamples': 1000, 'nensemble': 1, 'pt_ensemble': False, 'ntemps': 1, 'Tmax': None, 'Tmax_from_SNR': 20, 'initial_betas': None, 'adapt': True, 'adapt_t0': 100, 'adapt_nu': 10, 'pt_rejection_sample': False, 'burn_in_nact': 10, 'thin_by_nact': 1, 'fixed_discard': 0, 'autocorr_c': 5, 'L1steps': 1, 'L2steps': 3, 'printdt': 2, 'check_point_delta_t': 1800, 'min_tau': 1, 'proposal_cycle': 'default', 'stop_after_convergence': False, 'fixed_tau': None, 'tau_window': None, 'evidence_method': 'stepping_stone', 'initial_sample_method': 'prior', 'initial_sample_dict': None}\n",
            "09:15 bilby INFO    : Initializing BilbyPTMCMCSampler with:\n",
            "  Convergence settings: ConvergenceInputs(autocorr_c=5, burn_in_nact=10, thin_by_nact=1, fixed_discard=0, target_nsamples=1000, stop_after_convergence=False, L1steps=1, L2steps=3, min_tau=1, fixed_tau=None, tau_window=None)\n",
            "  Parallel-tempering settings: ParallelTemperingInputs(ntemps=1, nensemble=1, Tmax=None, Tmax_from_SNR=20, initial_betas=None, adapt=True, adapt_t0=100, adapt_nu=10, pt_ensemble=False)\n",
            "  proposal_cycle: default\n",
            "  pt_rejection_sample: False\n",
            "09:15 bilby INFO    : Setting parallel tempering inputs=ParallelTemperingInputs(ntemps=1, nensemble=1, Tmax=None, Tmax_from_SNR=20, initial_betas=None, adapt=True, adapt_t0=100, adapt_nu=10, pt_ensemble=False)\n",
            "09:15 bilby INFO    : Initializing BilbyPTMCMCSampler with:ntemps=1, nensemble=1, pt_ensemble=False, initial_betas=[1], initial_sample_method=prior, initial_sample_dict=None\n",
            "\n",
            "09:15 bilby INFO    : Using initial sample {'freq': 1.2454165297841135, 'alpha': 0.04788138286976418}\n",
            "09:15 bilby INFO    : Using ProposalCycle:\n",
            "  AdaptiveGaussianProposal(acceptance_ratio:nan,n:0,scale:1,)\n",
            "  DifferentialEvolutionProposal(acceptance_ratio:nan,n:0,)\n",
            "  UniformProposal(acceptance_ratio:nan,n:0,)\n",
            "  KDEProposal(acceptance_ratio:nan,n:0,trained:0,)\n",
            "  FisherMatrixProposal(acceptance_ratio:nan,n:0,scale:1,)\n",
            "  GMMProposal(acceptance_ratio:nan,n:0,trained:0,)\n",
            "\n",
            "09:15 bilby INFO    : Setting convergence_inputs=ConvergenceInputs(autocorr_c=5, burn_in_nact=10, thin_by_nact=1, fixed_discard=0, target_nsamples=1000, stop_after_convergence=False, L1steps=1, L2steps=3, min_tau=1, fixed_tau=None, tau_window=None)\n",
            "09:15 bilby INFO    : Drawing 1000 samples\n",
            "09:15 bilby INFO    : Checkpoint every check_point_delta_t=1800s\n",
            "09:15 bilby INFO    : Print update every printdt=2s\n"
          ]
        },
        {
          "output_type": "stream",
          "name": "stdout",
          "text": [
            "4.64e+03|0:00:02|3.66e+02(10tau)|t=61|n=70|a=0.23|e=1.5e+00%|0.49ms/ev|maxl=25.98|ETF=0:00:27\n"
          ]
        },
        {
          "output_type": "stream",
          "name": "stderr",
          "text": [
            "09:15 bilby WARNING : Non-negligible print progress time (ppt_frac=0.04)\n"
          ]
        },
        {
          "output_type": "stream",
          "name": "stdout",
          "text": [
            "5.35e+03|0:00:04|6.07e+02(10tau)|t=61|n=78|a=0.27|e=1.5e+00%|2.83ms/ev|maxl=25.98|ETF=0:02:38\n",
            "5.79e+03|0:00:06|6.07e+02(10tau)|t=61|n=85|a=0.29|e=1.5e+00%|4.54ms/ev|maxl=25.98|ETF=0:04:12\n",
            "6.18e+03|0:00:08|6.07e+02(10tau)|t=61|n=91|a=0.31|e=1.5e+00%|5.21ms/ev|maxl=25.99|ETF=0:04:47\n"
          ]
        },
        {
          "output_type": "stream",
          "name": "stderr",
          "text": [
            "09:15 bilby WARNING : Non-negligible print progress time (ppt_frac=0.01)\n"
          ]
        },
        {
          "output_type": "stream",
          "name": "stdout",
          "text": [
            "6.73e+03|0:00:10|6.07e+02(10tau)|t=61|n=100|a=0.34|e=1.5e+00%|3.64ms/ev|maxl=25.99|ETF=0:03:19\n"
          ]
        },
        {
          "output_type": "stream",
          "name": "stderr",
          "text": [
            "09:15 bilby WARNING : Non-negligible print progress time (ppt_frac=0.01)\n"
          ]
        },
        {
          "output_type": "stream",
          "name": "stdout",
          "text": [
            "7.51e+03|0:00:12|6.07e+02(10tau)|t=61|n=113|a=0.36|e=1.5e+00%|2.56ms/ev|maxl=25.99|ETF=0:02:17\n",
            "8.21e+03|0:00:14|6.07e+02(10tau)|t=61|n=125|a=0.38|e=1.5e+00%|2.86ms/ev|maxl=25.99|ETF=0:02:31\n",
            "8.93e+03|0:00:16|6.07e+02(10tau)|t=61|n=137|a=0.40|e=1.5e+00%|2.79ms/ev|maxl=25.99|ETF=0:02:26\n",
            "9.57e+03|0:00:18|6.07e+02(10tau)|t=61|n=147|a=0.41|e=1.5e+00%|3.14ms/ev|maxl=25.99|ETF=0:02:42\n"
          ]
        },
        {
          "output_type": "stream",
          "name": "stderr",
          "text": [
            "09:16 bilby WARNING : Non-negligible print progress time (ppt_frac=0.02)\n"
          ]
        },
        {
          "output_type": "stream",
          "name": "stdout",
          "text": [
            "1.00e+04|0:00:20|6.07e+02(10tau)|t=61|n=155|a=0.42|e=1.5e+00%|4.32ms/ev|maxl=25.99|ETF=0:03:41\n",
            "1.05e+04|0:00:22|6.07e+02(10tau)|t=61|n=162|a=0.43|e=1.5e+00%|4.52ms/ev|maxl=25.99|ETF=0:03:50\n",
            "1.09e+04|0:00:24|6.07e+02(10tau)|t=61|n=169|a=0.43|e=1.5e+00%|4.65ms/ev|maxl=25.99|ETF=0:03:54\n",
            "1.27e+04|0:00:26|6.07e+02(10tau)|t=61|n=198|a=0.45|e=1.6e+00%|1.14ms/ev|maxl=25.99|ETF=0:00:55\n",
            "1.46e+04|0:00:28|6.07e+02(10tau)|t=61|n=230|a=0.47|e=1.6e+00%|1.03ms/ev|maxl=25.99|ETF=0:00:48\n",
            "1.65e+04|0:00:30|6.07e+02(10tau)|t=61|n=262|a=0.49|e=1.6e+00%|1.04ms/ev|maxl=25.99|ETF=0:00:46\n",
            "1.84e+04|0:00:32|6.07e+02(10tau)|t=61|n=293|a=0.50|e=1.6e+00%|1.05ms/ev|maxl=25.99|ETF=0:00:45\n",
            "2.00e+04|0:00:34|6.07e+02(10tau)|t=61|n=320|a=0.50|e=1.6e+00%|1.24ms/ev|maxl=25.99|ETF=0:00:51\n",
            "2.09e+04|0:00:36|6.07e+02(10tau)|t=61|n=334|a=0.51|e=1.6e+00%|2.35ms/ev|maxl=25.99|ETF=0:01:34\n",
            "2.19e+04|0:00:38|6.07e+02(10tau)|t=61|n=350|a=0.51|e=1.6e+00%|2.05ms/ev|maxl=25.99|ETF=0:01:20\n",
            "2.32e+04|0:00:40|6.07e+02(10tau)|t=61|n=372|a=0.52|e=1.6e+00%|1.47ms/ev|maxl=25.99|ETF=0:00:56\n",
            "2.51e+04|0:00:42|6.07e+02(10tau)|t=61|n=403|a=0.52|e=1.6e+00%|1.07ms/ev|maxl=25.99|ETF=0:00:38\n",
            "2.70e+04|0:00:44|6.07e+02(10tau)|t=61|n=434|a=0.53|e=1.6e+00%|1.06ms/ev|maxl=25.99|ETF=0:00:36\n",
            "2.88e+04|0:00:46|6.07e+02(10tau)|t=61|n=465|a=0.53|e=1.6e+00%|1.09ms/ev|maxl=25.99|ETF=0:00:35\n",
            "3.07e+04|0:00:48|6.07e+02(10tau)|t=61|n=495|a=0.53|e=1.6e+00%|1.07ms/ev|maxl=25.99|ETF=0:00:32\n",
            "3.19e+04|0:00:50|6.07e+02(10tau)|t=61|n=515|a=0.53|e=1.6e+00%|1.67ms/ev|maxl=25.99|ETF=0:00:49\n",
            "3.29e+04|0:00:52|6.07e+02(10tau)|t=61|n=531|a=0.54|e=1.6e+00%|2.12ms/ev|maxl=25.99|ETF=0:01:00\n",
            "3.36e+04|0:00:54|6.07e+02(10tau)|t=6|n=5493|a=0.54|e=1.6e+01%|2.79ms/ev|maxl=25.99|ETF=0\n"
          ]
        },
        {
          "output_type": "stream",
          "name": "stderr",
          "text": [
            "09:16 bilby WARNING : Non-negligible print progress time (ppt_frac=0.05)\n",
            "09:16 bilby INFO    : Reached convergence: exiting sampling\n",
            "09:16 bilby INFO    : Checkpoint start\n",
            "09:16 bilby INFO    : Written checkpoint file toy_model/model_Ms_resume.pickle\n",
            "09:16 bilby INFO    : Zero-temperature proposals:\n",
            "09:16 bilby INFO    : AdaptiveGaussianProposal(acceptance_ratio:0.23,n:6.4e+03,scale:0.023,)\n",
            "09:16 bilby INFO    : DifferentialEvolutionProposal(acceptance_ratio:0.46,n:6.4e+03,)\n",
            "09:16 bilby INFO    : UniformProposal(acceptance_ratio:1,n:3e+02,)\n",
            "09:16 bilby INFO    : KDEProposal(acceptance_ratio:0.7,n:6.8e+03,trained:1,)\n",
            "09:16 bilby INFO    : FisherMatrixProposal(acceptance_ratio:0.54,n:6.4e+03,scale:1,)\n",
            "09:16 bilby INFO    : GMMProposal(acceptance_ratio:0.7,n:7.2e+03,trained:1,)\n",
            "09:16 bilby INFO    : Current taus={'freq': 5.9, 'alpha': 6.0}\n",
            "09:16 bilby INFO    : Creating diagnostic plots\n",
            "09:16 bilby INFO    : Checkpoint finished\n",
            "09:16 bilby INFO    : Sampling time: 0:00:54.348296\n",
            "09:16 bilby INFO    : Summary of results:\n",
            "nsamples: 5494\n",
            "ln_noise_evidence:    nan\n",
            "ln_evidence:    nan +/-    nan\n",
            "ln_bayes_factor:    nan +/-    nan\n",
            "\n"
          ]
        }
      ],
      "source": [
        "result_Ms = bilby.run_sampler(\n",
        "    likelihood_Ms,\n",
        "    priors_Ms,\n",
        "    label=\"model_Ms\",  # A label to help sort our results\n",
        "    outdir=\"toy_model\",  # The directory where results will be kept\n",
        "    clean=True,  # Don't use cached data]\n",
        "    sampler=\"bilby_mcmc\",  # Use the bilby_mcmc sampler\n",
        "    nsamples=1000,  # Draw 1000 samples\n",
        "    printdt=2,  # Print an update ever 5 seconds\n",
        "    L1steps=1,  # The number of internal steps to take\n",
        ")"
      ]
    },
    {
      "cell_type": "markdown",
      "id": "aee65da2",
      "metadata": {
        "id": "aee65da2"
      },
      "source": [
        "The `run_sampler` method returns an object `result`. This contains all the interesting information that we might want to use. It also has methods we can use. For example, let's create a corner plot."
      ]
    },
    {
      "cell_type": "code",
      "execution_count": 14,
      "id": "9f25ad87",
      "metadata": {
        "colab": {
          "base_uri": "https://localhost:8080/",
          "height": 558
        },
        "id": "9f25ad87",
        "outputId": "8028fd5f-7681-444a-eb1f-c3093f71831e",
        "tags": []
      },
      "outputs": [
        {
          "output_type": "execute_result",
          "data": {
            "text/plain": [
              "<Figure size 550x550 with 4 Axes>"
            ],
            "image/png": "[encoded data removed]"
          },
          "metadata": {},
          "execution_count": 14
        }
      ],
      "source": [
        "result_Ms.plot_corner()"
      ]
    },
    {
      "cell_type": "markdown",
      "id": "c789bfba",
      "metadata": {
        "id": "c789bfba"
      },
      "source": [
        "We can also get to the samples, which are stored as a `pandas` data frame, as follows"
      ]
    },
    {
      "cell_type": "code",
      "execution_count": 15,
      "id": "423bd1c4",
      "metadata": {
        "colab": {
          "base_uri": "https://localhost:8080/",
          "height": 424
        },
        "id": "423bd1c4",
        "outputId": "ca9f3229-48d2-4122-8089-3a6c9d5a482e",
        "tags": []
      },
      "outputs": [
        {
          "output_type": "execute_result",
          "data": {
            "text/plain": [
              "          freq     alpha  log_likelihood  log_prior\n",
              "0     1.942834  0.362060       25.545236  -1.609438\n",
              "1     1.889646  0.359272       24.836988  -1.609438\n",
              "2     1.892383  0.359264       24.927229  -1.609438\n",
              "3     1.862850  0.348469       24.026223  -1.609438\n",
              "4     1.929445  0.321465       24.702048  -1.609438\n",
              "...        ...       ...             ...        ...\n",
              "5489  1.952659  0.352681       25.872314  -1.609438\n",
              "5490  1.969457  0.355177       25.577452  -1.609438\n",
              "5491  1.934327  0.363440       25.455640  -1.609438\n",
              "5492  1.947320  0.336589       25.777210  -1.609438\n",
              "5493  1.864263  0.372929       22.771746  -1.609438\n",
              "\n",
              "[5494 rows x 4 columns]"
            ],
            "text/html": [
              "\n",
              "  <div id=\"df-97ea3ec0-bf6f-45ee-bb64-c1d643be7504\" class=\"colab-df-container\">\n",
              "    <div>\n",
              "<style scoped>\n",
              "    .dataframe tbody tr th:only-of-type {\n",
              "        vertical-align: middle;\n",
              "    }\n",
              "\n",
              "    .dataframe tbody tr th {\n",
              "        vertical-align: top;\n",
              "    }\n",
              "\n",
              "    .dataframe thead th {\n",
              "        text-align: right;\n",
              "    }\n",
              "</style>\n",
              "<table border=\"1\" class=\"dataframe\">\n",
              "  <thead>\n",
              "    <tr style=\"text-align: right;\">\n",
              "      <th></th>\n",
              "      <th>freq</th>\n",
              "      <th>alpha</th>\n",
              "      <th>log_likelihood</th>\n",
              "      <th>log_prior</th>\n",
              "    </tr>\n",
              "  </thead>\n",
              "  <tbody>\n",
              "    <tr>\n",
              "      <th>0</th>\n",
              "      <td>1.942834</td>\n",
              "      <td>0.362060</td>\n",
              "      <td>25.545236</td>\n",
              "      <td>-1.609438</td>\n",
              "    </tr>\n",
              "    <tr>\n",
              "      <th>1</th>\n",
              "      <td>1.889646</td>\n",
              "      <td>0.359272</td>\n",
              "      <td>24.836988</td>\n",
              "      <td>-1.609438</td>\n",
              "    </tr>\n",
              "    <tr>\n",
              "      <th>2</th>\n",
              "      <td>1.892383</td>\n",
              "      <td>0.359264</td>\n",
              "      <td>24.927229</td>\n",
              "      <td>-1.609438</td>\n",
              "    </tr>\n",
              "    <tr>\n",
              "      <th>3</th>\n",
              "      <td>1.862850</td>\n",
              "      <td>0.348469</td>\n",
              "      <td>24.026223</td>\n",
              "      <td>-1.609438</td>\n",
              "    </tr>\n",
              "    <tr>\n",
              "      <th>4</th>\n",
              "      <td>1.929445</td>\n",
              "      <td>0.321465</td>\n",
              "      <td>24.702048</td>\n",
              "      <td>-1.609438</td>\n",
              "    </tr>\n",
              "    <tr>\n",
              "      <th>...</th>\n",
              "      <td>...</td>\n",
              "      <td>...</td>\n",
              "      <td>...</td>\n",
              "      <td>...</td>\n",
              "    </tr>\n",
              "    <tr>\n",
              "      <th>5489</th>\n",
              "      <td>1.952659</td>\n",
              "      <td>0.352681</td>\n",
              "      <td>25.872314</td>\n",
              "      <td>-1.609438</td>\n",
              "    </tr>\n",
              "    <tr>\n",
              "      <th>5490</th>\n",
              "      <td>1.969457</td>\n",
              "      <td>0.355177</td>\n",
              "      <td>25.577452</td>\n",
              "      <td>-1.609438</td>\n",
              "    </tr>\n",
              "    <tr>\n",
              "      <th>5491</th>\n",
              "      <td>1.934327</td>\n",
              "      <td>0.363440</td>\n",
              "      <td>25.455640</td>\n",
              "      <td>-1.609438</td>\n",
              "    </tr>\n",
              "    <tr>\n",
              "      <th>5492</th>\n",
              "      <td>1.947320</td>\n",
              "      <td>0.336589</td>\n",
              "      <td>25.777210</td>\n",
              "      <td>-1.609438</td>\n",
              "    </tr>\n",
              "    <tr>\n",
              "      <th>5493</th>\n",
              "      <td>1.864263</td>\n",
              "      <td>0.372929</td>\n",
              "      <td>22.771746</td>\n",
              "      <td>-1.609438</td>\n",
              "    </tr>\n",
              "  </tbody>\n",
              "</table>\n",
              "<p>5494 rows × 4 columns</p>\n",
              "</div>\n",
              "    <div class=\"colab-df-buttons\">\n",
              "\n",
              "  <div class=\"colab-df-container\">\n",
              "    <button class=\"colab-df-convert\" onclick=\"convertToInteractive('df-97ea3ec0-bf6f-45ee-bb64-c1d643be7504')\"\n",
              "            title=\"Convert this dataframe to an interactive table.\"\n",
              "            style=\"display:none;\">\n",
              "\n",
              "  <svg xmlns=\"http://www.w3.org/2000/svg\" height=\"24px\" viewBox=\"0 -960 960 960\">\n",
              "    <path d=\"M120-120v-720h720v720H120Zm60-500h600v-160H180v160Zm220 220h160v-160H400v160Zm0 220h160v-160H400v160ZM180-400h160v-160H180v160Zm440 0h160v-160H620v160ZM180-180h160v-160H180v160Zm440 0h160v-160H620v160Z\"/>\n",
              "  </svg>\n",
              "    </button>\n",
              "\n",
              "  <style>\n",
              "    .colab-df-container {\n",
              "      display:flex;\n",
              "      gap: 12px;\n",
              "    }\n",
              "\n",
              "    .colab-df-convert {\n",
              "      background-color: #E8F0FE;\n",
              "      border: none;\n",
              "      border-radius: 50%;\n",
              "      cursor: pointer;\n",
              "      display: none;\n",
              "      fill: #1967D2;\n",
              "      height: 32px;\n",
              "      padding: 0 0 0 0;\n",
              "      width: 32px;\n",
              "    }\n",
              "\n",
              "    .colab-df-convert:hover {\n",
              "      background-color: #E2EBFA;\n",
              "      box-shadow: 0px 1px 2px rgba(60, 64, 67, 0.3), 0px 1px 3px 1px rgba(60, 64, 67, 0.15);\n",
              "      fill: #174EA6;\n",
              "    }\n",
              "\n",
              "    .colab-df-buttons div {\n",
              "      margin-bottom: 4px;\n",
              "    }\n",
              "\n",
              "    [theme=dark] .colab-df-convert {\n",
              "      background-color: #3B4455;\n",
              "      fill: #D2E3FC;\n",
              "    }\n",
              "\n",
              "    [theme=dark] .colab-df-convert:hover {\n",
              "      background-color: #434B5C;\n",
              "      box-shadow: 0px 1px 3px 1px rgba(0, 0, 0, 0.15);\n",
              "      filter: drop-shadow(0px 1px 2px rgba(0, 0, 0, 0.3));\n",
              "      fill: #FFFFFF;\n",
              "    }\n",
              "  </style>\n",
              "\n",
              "    <script>\n",
              "      const buttonEl =\n",
              "        document.querySelector('#df-97ea3ec0-bf6f-45ee-bb64-c1d643be7504 button.colab-df-convert');\n",
              "      buttonEl.style.display =\n",
              "        google.colab.kernel.accessAllowed ? 'block' : 'none';\n",
              "\n",
              "      async function convertToInteractive(key) {\n",
              "        const element = document.querySelector('#df-97ea3ec0-bf6f-45ee-bb64-c1d643be7504');\n",
              "        const dataTable =\n",
              "          await google.colab.kernel.invokeFunction('convertToInteractive',\n",
              "                                                    [key], {});\n",
              "        if (!dataTable) return;\n",
              "\n",
              "        const docLinkHtml = 'Like what you see? Visit the ' +\n",
              "          '<a target=\"_blank\" href=https://colab.research.google.com/notebooks/data_table.ipynb>data table notebook</a>'\n",
              "          + ' to learn more about interactive tables.';\n",
              "        element.innerHTML = '';\n",
              "        dataTable['output_type'] = 'display_data';\n",
              "        await google.colab.output.renderOutput(dataTable, element);\n",
              "        const docLink = document.createElement('div');\n",
              "        docLink.innerHTML = docLinkHtml;\n",
              "        element.appendChild(docLink);\n",
              "      }\n",
              "    </script>\n",
              "  </div>\n",
              "\n",
              "\n",
              "<div id=\"df-da4ca8ea-4528-4cb2-8115-4f8845a22715\">\n",
              "  <button class=\"colab-df-quickchart\" onclick=\"quickchart('df-da4ca8ea-4528-4cb2-8115-4f8845a22715')\"\n",
              "            title=\"Suggest charts\"\n",
              "            style=\"display:none;\">\n",
              "\n",
              "<svg xmlns=\"http://www.w3.org/2000/svg\" height=\"24px\"viewBox=\"0 0 24 24\"\n",
              "     width=\"24px\">\n",
              "    <g>\n",
              "        <path d=\"M19 3H5c-1.1 0-2 .9-2 2v14c0 1.1.9 2 2 2h14c1.1 0 2-.9 2-2V5c0-1.1-.9-2-2-2zM9 17H7v-7h2v7zm4 0h-2V7h2v10zm4 0h-2v-4h2v4z\"/>\n",
              "    </g>\n",
              "</svg>\n",
              "  </button>\n",
              "\n",
              "<style>\n",
              "  .colab-df-quickchart {\n",
              "      --bg-color: #E8F0FE;\n",
              "      --fill-color: #1967D2;\n",
              "      --hover-bg-color: #E2EBFA;\n",
              "      --hover-fill-color: #174EA6;\n",
              "      --disabled-fill-color: #AAA;\n",
              "      --disabled-bg-color: #DDD;\n",
              "  }\n",
              "\n",
              "  [theme=dark] .colab-df-quickchart {\n",
              "      --bg-color: #3B4455;\n",
              "      --fill-color: #D2E3FC;\n",
              "      --hover-bg-color: #434B5C;\n",
              "      --hover-fill-color: #FFFFFF;\n",
              "      --disabled-bg-color: #3B4455;\n",
              "      --disabled-fill-color: #666;\n",
              "  }\n",
              "\n",
              "  .colab-df-quickchart {\n",
              "    background-color: var(--bg-color);\n",
              "    border: none;\n",
              "    border-radius: 50%;\n",
              "    cursor: pointer;\n",
              "    display: none;\n",
              "    fill: var(--fill-color);\n",
              "    height: 32px;\n",
              "    padding: 0;\n",
              "    width: 32px;\n",
              "  }\n",
              "\n",
              "  .colab-df-quickchart:hover {\n",
              "    background-color: var(--hover-bg-color);\n",
              "    box-shadow: 0 1px 2px rgba(60, 64, 67, 0.3), 0 1px 3px 1px rgba(60, 64, 67, 0.15);\n",
              "    fill: var(--button-hover-fill-color);\n",
              "  }\n",
              "\n",
              "  .colab-df-quickchart-complete:disabled,\n",
              "  .colab-df-quickchart-complete:disabled:hover {\n",
              "    background-color: var(--disabled-bg-color);\n",
              "    fill: var(--disabled-fill-color);\n",
              "    box-shadow: none;\n",
              "  }\n",
              "\n",
              "  .colab-df-spinner {\n",
              "    border: 2px solid var(--fill-color);\n",
              "    border-color: transparent;\n",
              "    border-bottom-color: var(--fill-color);\n",
              "    animation:\n",
              "      spin 1s steps(1) infinite;\n",
              "  }\n",
              "\n",
              "  @keyframes spin {\n",
              "    0% {\n",
              "      border-color: transparent;\n",
              "      border-bottom-color: var(--fill-color);\n",
              "      border-left-color: var(--fill-color);\n",
              "    }\n",
              "    20% {\n",
              "      border-color: transparent;\n",
              "      border-left-color: var(--fill-color);\n",
              "      border-top-color: var(--fill-color);\n",
              "    }\n",
              "    30% {\n",
              "      border-color: transparent;\n",
              "      border-left-color: var(--fill-color);\n",
              "      border-top-color: var(--fill-color);\n",
              "      border-right-color: var(--fill-color);\n",
              "    }\n",
              "    40% {\n",
              "      border-color: transparent;\n",
              "      border-right-color: var(--fill-color);\n",
              "      border-top-color: var(--fill-color);\n",
              "    }\n",
              "    60% {\n",
              "      border-color: transparent;\n",
              "      border-right-color: var(--fill-color);\n",
              "    }\n",
              "    80% {\n",
              "      border-color: transparent;\n",
              "      border-right-color: var(--fill-color);\n",
              "      border-bottom-color: var(--fill-color);\n",
              "    }\n",
              "    90% {\n",
              "      border-color: transparent;\n",
              "      border-bottom-color: var(--fill-color);\n",
              "    }\n",
              "  }\n",
              "</style>\n",
              "\n",
              "  <script>\n",
              "    async function quickchart(key) {\n",
              "      const quickchartButtonEl =\n",
              "        document.querySelector('#' + key + ' button');\n",
              "      quickchartButtonEl.disabled = true;  // To prevent multiple clicks.\n",
              "      quickchartButtonEl.classList.add('colab-df-spinner');\n",
              "      try {\n",
              "        const charts = await google.colab.kernel.invokeFunction(\n",
              "            'suggestCharts', [key], {});\n",
              "      } catch (error) {\n",
              "        console.error('Error during call to suggestCharts:', error);\n",
              "      }\n",
              "      quickchartButtonEl.classList.remove('colab-df-spinner');\n",
              "      quickchartButtonEl.classList.add('colab-df-quickchart-complete');\n",
              "    }\n",
              "    (() => {\n",
              "      let quickchartButtonEl =\n",
              "        document.querySelector('#df-da4ca8ea-4528-4cb2-8115-4f8845a22715 button');\n",
              "      quickchartButtonEl.style.display =\n",
              "        google.colab.kernel.accessAllowed ? 'block' : 'none';\n",
              "    })();\n",
              "  </script>\n",
              "</div>\n",
              "    </div>\n",
              "  </div>\n"
            ]
          },
          "metadata": {},
          "execution_count": 15
        }
      ],
      "source": [
        "result_Ms.posterior"
      ]
    },
    {
      "cell_type": "markdown",
      "id": "6dacade6",
      "metadata": {
        "id": "6dacade6"
      },
      "source": [
        "Let's compare our rejection sampling results with the `bilby_mcmc` results. To do this, we will create a histogram of the $f$ samples for both:"
      ]
    },
    {
      "cell_type": "code",
      "execution_count": 16,
      "id": "104209a8",
      "metadata": {
        "colab": {
          "base_uri": "https://localhost:8080/",
          "height": 449
        },
        "id": "104209a8",
        "outputId": "e8b232af-d89e-4e70-fb6a-481ea2fb7324",
        "tags": []
      },
      "outputs": [
        {
          "output_type": "display_data",
          "data": {
            "text/plain": [
              "<Figure size 640x480 with 1 Axes>"
            ],
            "image/png": "[encoded data removed]"
          },
          "metadata": {}
        }
      ],
      "source": [
        "fig, ax = plt.subplots()\n",
        "ax.hist(freq_samples, density=True, bins=50, label=\"Rejection Sampling\", alpha=0.8)\n",
        "ax.hist(result_Ms.posterior[\"freq\"], density=True, bins=50, label=\"bilby_mcmc\", alpha=0.5)\n",
        "ax.set(xlabel=\"f\", ylabel=\"Density\")\n",
        "plt.legend()\n",
        "plt.show()"
      ]
    },
    {
      "cell_type": "markdown",
      "id": "7b4d86aa",
      "metadata": {
        "id": "7b4d86aa"
      },
      "source": [
        "They lie on top of each other: this indicates that, within sampling errors, they are producing identical results."
      ]
    },
    {
      "cell_type": "markdown",
      "id": "16908bdb",
      "metadata": {
        "id": "16908bdb"
      },
      "source": [
        "## Challenge Questions\n",
        "\n",
        "### Q1.1\n",
        "To quantify agreement between distributions,  it is often useful to calculate a summary statistic and show they agree. Calculate the mean and standard deviation from the rejection sampling algorithm **and** the `bilby_mcmc` approach for both $f$ and $\\alpha$. Do they agree to within the quoted standard deviation?"
      ]
    },
    {
      "cell_type": "code",
      "execution_count": 17,
      "id": "bee4e811",
      "metadata": {
        "id": "bee4e811",
        "outputId": "7f67750c-5aac-4908-d19f-6f843ebb29af",
        "colab": {
          "base_uri": "https://localhost:8080/"
        }
      },
      "outputs": [
        {
          "output_type": "stream",
          "name": "stdout",
          "text": [
            "For the rejection sampling the mean and sd of alpha are 0.35, 0.02 and the mean and sd of freq are 1.94, 0.04.\n",
            "For the bilby mcmc approach the mean and sd of alpha are 0.35, 0.02 and the mean and sd of freq are 1.94, 0.04.\n"
          ]
        }
      ],
      "source": [
        "#rejection sampling\n",
        "mean_a = np.mean(alpha_samples)\n",
        "mean_f = np.mean(freq_samples)\n",
        "std_a = np.std(alpha_samples)\n",
        "std_f = np.std(freq_samples)\n",
        "print(\"For the rejection sampling the mean and sd of alpha are {:.2f}, {:.2f} and the mean and sd of freq are {:.2f}, {:.2f}.\".format(mean_a,std_a,mean_f,std_f))\n",
        "\n",
        "#bilby\n",
        "\n",
        "\n",
        "\n",
        "mean_a2 = np.mean(result_Ms.posterior['alpha'])\n",
        "mean_f2 = np.mean(result_Ms.posterior['freq'])\n",
        "std_a2 = np.std(result_Ms.posterior['alpha'])\n",
        "std_f2 = np.std(result_Ms.posterior['freq'])\n",
        "print(\"For the bilby mcmc approach the mean and sd of alpha are {:.2f}, {:.2f} and the mean and sd of freq are {:.2f}, {:.2f}.\".format(mean_a2,std_a2,mean_f2,std_f2))"
      ]
    },
    {
      "cell_type": "markdown",
      "id": "9fbcc0f3",
      "metadata": {
        "id": "9fbcc0f3"
      },
      "source": [
        "Yes, these results are consistent with one another to within the standard deviation."
      ]
    },
    {
      "cell_type": "markdown",
      "id": "999abd53",
      "metadata": {
        "id": "999abd53"
      },
      "source": [
        "### Q1.2\n",
        "Having the posterior distributions tells us about the parameters, but not if the model is a good fit to the data. For this, it is useful to use a *posterior predictive check*. Create a plot of the raw data (i.e `yobs` against `time`) Then, overlay on it the prediction of your model using the mean for $f$ and $\\alpha$ estimated in Q1 (from either method)."
      ]
    },
    {
      "cell_type": "code",
      "execution_count": 18,
      "id": "6bf35cde",
      "metadata": {
        "id": "6bf35cde",
        "outputId": "21cb6754-25f7-4c45-c858-d40033435763",
        "colab": {
          "base_uri": "https://localhost:8080/",
          "height": 448
        }
      },
      "outputs": [
        {
          "output_type": "execute_result",
          "data": {
            "text/plain": [
              "[<matplotlib.lines.Line2D at 0x7eac25f7f6a0>]"
            ]
          },
          "metadata": {},
          "execution_count": 18
        },
        {
          "output_type": "display_data",
          "data": {
            "text/plain": [
              "<Figure size 640x480 with 1 Axes>"
            ],
            "image/png": "[encoded data removed]"
          },
          "metadata": {}
        }
      ],
      "source": [
        "plot1 = plt.plot(time,yobs)\n",
        "plt.plot(time, model_Ms(time,mean_f,mean_a))"
      ]
    },
    {
      "cell_type": "markdown",
      "id": "c407941d",
      "metadata": {
        "id": "c407941d"
      },
      "source": [
        "### Q2.1 (Optional)\n",
        "It is more common to show the maximum likelihood fit and some measure of uncertainty. For the maximum likelihood, this can be obtained from the `posterior` data frame as follow:\n",
        "\n",
        "- First identify the index of the maximum likelihood point `idx_max = np.argmax(result_Ms.posterior.log_likelihood)`\n",
        "- Then return the row of the maximum `maxL = result_Ms.posterior.iloc[idx_max]`\n",
        "- The values can be accessed with `maxL.freq` for example\n",
        "\n",
        "A straightforward approach is to draw random samples from $p(\\theta| d, M_s)$ and plot these. You can draw a random sample from the bilby posterior using `result.posterior.sample().iloc[0]` (this will give you a single sample with keys for `freq` and `alpha`). Draw 100 samples from the posterior and overplot them alongside your mean estimate. You will want to add `color='C3'`, `zorder=-100` and `alpha=0.1` to the `plot()` command so they don't overwhelm the rest of the plot."
      ]
    },
    {
      "cell_type": "code",
      "execution_count": 19,
      "id": "f7e18d60",
      "metadata": {
        "id": "f7e18d60",
        "outputId": "13af3441-5973-4783-ca8c-7c71103b2431",
        "colab": {
          "base_uri": "https://localhost:8080/",
          "height": 430
        }
      },
      "outputs": [
        {
          "output_type": "display_data",
          "data": {
            "text/plain": [
              "<Figure size 640x480 with 1 Axes>"
            ],
            "image/png": "[encoded data removed]"
          },
          "metadata": {}
        }
      ],
      "source": [
        "idx_max = np.argmax(result_Ms.posterior.log_likelihood)\n",
        "maxL = result_Ms.posterior.iloc[idx_max]\n",
        "plot2 = plt.plot(time,yobs, color = 'cyan')\n",
        "plt.plot(time,model_Ms(time,maxL.freq,maxL.alpha), color='green')\n",
        "for i in range(100):\n",
        "  random = result_Ms.posterior.sample().iloc[0]\n",
        "  plt.plot(time, model_Ms(time,random['freq'],random['alpha']), color='C3', zorder=-100, alpha=0.1)\n",
        "\n"
      ]
    },
    {
      "cell_type": "markdown",
      "id": "c24e267e",
      "metadata": {
        "id": "c24e267e"
      },
      "source": [
        "### Q3.1 (Optional: hard)\n",
        "Your plot from Q2 should tell you that the model isn't  fully explaining the data! You take the plot back to your tame theorist and demand an explanation. They quickly tell you that actually there is a better model where the frequency of the sinusoid is time-dependent:\n",
        "\n",
        "$$ M_t: s(t) = e^{-(t/\\alpha)^2} \\sin\\left(2\\pi (f_0 + \\dot{f} t) t\\right)  $$\n",
        "\n",
        "This new model has three parameters: $f$, $\\dot{f}$ and $\\alpha$.\n",
        "\n",
        "Your task is to program this model in a new function, then run `bilby_mcmc` on it and reproduce the figure from Q3. You will need to define new parameters $f_0$ and $\\dot{f}$ in the function (probably best to call it `model_Mt` to be consistent) and add these to the prior. If you are successful, the predicted plot should nicely overlap the data. Along the way you should also create a corner plot: this can be helpful to see if you have chosen appropriate priors."
      ]
    },
    {
      "cell_type": "code",
      "execution_count": 20,
      "id": "1e81bdc0",
      "metadata": {
        "id": "1e81bdc0",
        "colab": {
          "base_uri": "https://localhost:8080/"
        },
        "outputId": "1841e222-5a64-4fdf-e7b6-8aea32fc86ae"
      },
      "outputs": [
        {
          "output_type": "stream",
          "name": "stderr",
          "text": [
            "09:16 bilby INFO    : Running for label 'model_Ms', output will be saved to 'toy_model'\n",
            "09:16 bilby INFO    : Analysis priors:\n",
            "09:16 bilby INFO    : freq_0=Uniform(minimum=0, maximum=5, name=None, latex_label=None, unit=None, boundary=None)\n",
            "09:16 bilby INFO    : freq_dot=Uniform(minimum=0, maximum=5, name=None, latex_label=None, unit=None, boundary=None)\n",
            "09:16 bilby INFO    : alpha=Uniform(minimum=0, maximum=1, name=None, latex_label=None, unit=None, boundary=None)\n",
            "09:16 bilby INFO    : Analysis likelihood class: <class 'bilby.core.likelihood.GaussianLikelihood'>\n",
            "09:16 bilby INFO    : Analysis likelihood noise evidence: nan\n",
            "09:16 bilby INFO    : Single likelihood evaluation took 2.398e-04 s\n",
            "09:16 bilby INFO    : Using sampler Bilby_MCMC with kwargs {'nsamples': 1000, 'nensemble': 1, 'pt_ensemble': False, 'ntemps': 1, 'Tmax': None, 'Tmax_from_SNR': 20, 'initial_betas': None, 'adapt': True, 'adapt_t0': 100, 'adapt_nu': 10, 'pt_rejection_sample': False, 'burn_in_nact': 10, 'thin_by_nact': 1, 'fixed_discard': 0, 'autocorr_c': 5, 'L1steps': 1, 'L2steps': 3, 'printdt': 2, 'check_point_delta_t': 1800, 'min_tau': 1, 'proposal_cycle': 'default', 'stop_after_convergence': False, 'fixed_tau': None, 'tau_window': None, 'evidence_method': 'stepping_stone', 'initial_sample_method': 'prior', 'initial_sample_dict': None}\n",
            "09:16 bilby INFO    : Setting convergence_inputs=ConvergenceInputs(autocorr_c=5, burn_in_nact=10, thin_by_nact=1, fixed_discard=0, target_nsamples=1000, stop_after_convergence=False, L1steps=1, L2steps=3, min_tau=1, fixed_tau=None, tau_window=None)\n",
            "09:16 bilby INFO    : Loaded resume file toy_model/model_Ms_resume.pickle with 33569 steps setup:\n",
            "  Convergence settings: ConvergenceInputs(autocorr_c=5, burn_in_nact=10, thin_by_nact=1, fixed_discard=0, target_nsamples=1000, stop_after_convergence=False, L1steps=1, L2steps=3, min_tau=1, fixed_tau=None, tau_window=None)\n",
            "  Parallel-tempering settings: ParallelTemperingInputs(ntemps=1, nensemble=1, Tmax=None, Tmax_from_SNR=20, initial_betas=None, adapt=True, adapt_t0=100, adapt_nu=10, pt_ensemble=False)\n",
            "  proposal_cycle: default\n",
            "  pt_rejection_sample: False\n",
            "09:16 bilby INFO    : Initializing BilbyPTMCMCSampler with:\n",
            "  Convergence settings: ConvergenceInputs(autocorr_c=5, burn_in_nact=10, thin_by_nact=1, fixed_discard=0, target_nsamples=1000, stop_after_convergence=False, L1steps=1, L2steps=3, min_tau=1, fixed_tau=None, tau_window=None)\n",
            "  Parallel-tempering settings: ParallelTemperingInputs(ntemps=1, nensemble=1, Tmax=None, Tmax_from_SNR=20, initial_betas=None, adapt=True, adapt_t0=100, adapt_nu=10, pt_ensemble=False)\n",
            "  proposal_cycle: default\n",
            "  pt_rejection_sample: False\n",
            "09:16 bilby INFO    : Setting parallel tempering inputs=ParallelTemperingInputs(ntemps=1, nensemble=1, Tmax=None, Tmax_from_SNR=20, initial_betas=None, adapt=True, adapt_t0=100, adapt_nu=10, pt_ensemble=False)\n",
            "09:16 bilby INFO    : Initializing BilbyPTMCMCSampler with:ntemps=1, nensemble=1, pt_ensemble=False, initial_betas=[1], initial_sample_method=prior, initial_sample_dict=None\n",
            "\n",
            "09:16 bilby INFO    : Using initial sample {'freq_0': 4.941333115980455, 'freq_dot': 1.403489698263436, 'alpha': 0.23087372861641897}\n",
            "09:16 bilby INFO    : Using ProposalCycle:\n",
            "  AdaptiveGaussianProposal(acceptance_ratio:nan,n:0,scale:1,)\n",
            "  DifferentialEvolutionProposal(acceptance_ratio:nan,n:0,)\n",
            "  UniformProposal(acceptance_ratio:nan,n:0,)\n",
            "  KDEProposal(acceptance_ratio:nan,n:0,trained:0,)\n",
            "  FisherMatrixProposal(acceptance_ratio:nan,n:0,scale:1,)\n",
            "  GMMProposal(acceptance_ratio:nan,n:0,trained:0,)\n",
            "\n",
            "09:16 bilby INFO    : Setting convergence_inputs=ConvergenceInputs(autocorr_c=5, burn_in_nact=10, thin_by_nact=1, fixed_discard=0, target_nsamples=1000, stop_after_convergence=False, L1steps=1, L2steps=3, min_tau=1, fixed_tau=None, tau_window=None)\n",
            "09:16 bilby INFO    : Drawing 1000 samples\n",
            "09:16 bilby INFO    : Checkpoint every check_point_delta_t=1800s\n",
            "09:16 bilby INFO    : Print update every printdt=2s\n"
          ]
        },
        {
          "output_type": "stream",
          "name": "stdout",
          "text": [
            "5.01e+03|0:00:02|1.78e+03(10tau)|t=44|n=73|a=0.18|e=1.5e+00%|0.44ms/ev|maxl=76.20|ETF=0:00:17\n"
          ]
        },
        {
          "output_type": "stream",
          "name": "stderr",
          "text": [
            "09:16 bilby WARNING : Non-negligible print progress time (ppt_frac=0.02)\n"
          ]
        },
        {
          "output_type": "stream",
          "name": "stdout",
          "text": [
            "5.39e+03|0:00:04|8.96e+02(z1)|t=44|n=102|a=0.19|e=1.9e+00%|5.35ms/ev|maxl=76.20|ETF=0:03:29\n"
          ]
        },
        {
          "output_type": "stream",
          "name": "stderr",
          "text": [
            "09:16 bilby WARNING : Non-negligible print progress time (ppt_frac=0.01)\n"
          ]
        },
        {
          "output_type": "stream",
          "name": "stdout",
          "text": [
            "5.82e+03|0:00:06|8.96e+02(z1)|t=44|n=112|a=0.20|e=1.9e+00%|4.68ms/ev|maxl=76.20|ETF=0:03:01\n",
            "6.28e+03|0:00:08|8.96e+02(z1)|t=44|n=123|a=0.22|e=2.0e+00%|4.36ms/ev|maxl=76.20|ETF=0:02:47\n"
          ]
        },
        {
          "output_type": "stream",
          "name": "stderr",
          "text": [
            "09:17 bilby WARNING : Non-negligible print progress time (ppt_frac=0.01)\n"
          ]
        },
        {
          "output_type": "stream",
          "name": "stdout",
          "text": [
            "6.90e+03|0:00:10|8.96e+02(z1)|t=44|n=137|a=0.23|e=2.0e+00%|3.20ms/ev|maxl=76.20|ETF=0:02:00\n"
          ]
        },
        {
          "output_type": "stream",
          "name": "stderr",
          "text": [
            "09:17 bilby WARNING : Non-negligible print progress time (ppt_frac=0.01)\n"
          ]
        },
        {
          "output_type": "stream",
          "name": "stdout",
          "text": [
            "7.43e+03|0:00:12|8.96e+02(z1)|t=44|n=149|a=0.24|e=2.0e+00%|3.81ms/ev|maxl=76.20|ETF=0:02:21\n"
          ]
        },
        {
          "output_type": "stream",
          "name": "stderr",
          "text": [
            "09:17 bilby WARNING : Non-negligible print progress time (ppt_frac=0.01)\n"
          ]
        },
        {
          "output_type": "stream",
          "name": "stdout",
          "text": [
            "8.08e+03|0:00:14|8.96e+02(z1)|t=44|n=164|a=0.25|e=2.0e+00%|3.08ms/ev|maxl=76.20|ETF=0:01:52\n",
            "8.83e+03|0:00:16|8.96e+02(z1)|t=44|n=181|a=0.26|e=2.0e+00%|2.66ms/ev|maxl=76.20|ETF=0:01:35\n",
            "9.46e+03|0:00:18|8.96e+02(z1)|t=44|n=195|a=0.27|e=2.1e+00%|3.21ms/ev|maxl=76.20|ETF=0:01:52\n",
            "9.78e+03|0:00:20|8.96e+02(z1)|t=44|n=203|a=0.28|e=2.1e+00%|6.18ms/ev|maxl=76.20|ETF=0:03:35\n"
          ]
        },
        {
          "output_type": "stream",
          "name": "stderr",
          "text": [
            "09:17 bilby WARNING : Non-negligible print progress time (ppt_frac=0.01)\n"
          ]
        },
        {
          "output_type": "stream",
          "name": "stdout",
          "text": [
            "1.02e+04|0:00:22|8.96e+02(z1)|t=44|n=211|a=0.28|e=2.1e+00%|5.30ms/ev|maxl=76.20|ETF=0:03:02\n"
          ]
        },
        {
          "output_type": "stream",
          "name": "stderr",
          "text": [
            "09:17 bilby WARNING : Non-negligible print progress time (ppt_frac=0.02)\n"
          ]
        },
        {
          "output_type": "stream",
          "name": "stdout",
          "text": [
            "1.06e+04|0:00:24|8.96e+02(z1)|t=44|n=223|a=0.29|e=2.1e+00%|4.12ms/ev|maxl=76.20|ETF=0:02:19\n",
            "1.12e+04|0:00:26|8.96e+02(z1)|t=44|n=236|a=0.29|e=2.1e+00%|3.50ms/ev|maxl=76.20|ETF=0:01:56\n",
            "1.25e+04|0:00:28|8.96e+02(z1)|t=44|n=265|a=0.30|e=2.1e+00%|1.58ms/ev|maxl=76.20|ETF=0:00:50\n",
            "1.42e+04|0:00:30|8.96e+02(z1)|t=44|n=305|a=0.31|e=2.1e+00%|1.15ms/ev|maxl=76.20|ETF=0:00:34\n",
            "1.59e+04|0:00:32|8.96e+02(z1)|t=44|n=344|a=0.32|e=2.2e+00%|1.16ms/ev|maxl=76.20|ETF=0:00:33\n",
            "1.68e+04|0:00:34|8.96e+02(z1)|t=44|n=364|a=0.33|e=2.2e+00%|2.23ms/ev|maxl=76.20|ETF=0:01:02\n",
            "1.76e+04|0:00:36|8.96e+02(z1)|t=44|n=381|a=0.33|e=2.2e+00%|2.74ms/ev|maxl=76.20|ETF=0:01:14\n",
            "1.85e+04|0:00:38|8.96e+02(z1)|t=44|n=402|a=0.33|e=2.2e+00%|2.25ms/ev|maxl=76.20|ETF=0:00:58\n",
            "2.02e+04|0:00:40|8.96e+02(z1)|t=44|n=442|a=0.34|e=2.2e+00%|1.14ms/ev|maxl=76.20|ETF=0:00:27\n",
            "2.20e+04|0:00:42|8.96e+02(z1)|t=44|n=482|a=0.34|e=2.2e+00%|1.13ms/ev|maxl=76.20|ETF=0:00:25\n",
            "2.38e+04|0:00:44|8.96e+02(z1)|t=44|n=523|a=0.35|e=2.2e+00%|1.12ms/ev|maxl=76.20|ETF=0:00:23\n",
            "2.55e+04|0:00:46|8.96e+02(z1)|t=44|n=563|a=0.35|e=2.2e+00%|1.14ms/ev|maxl=76.21|ETF=0:00:21\n",
            "2.70e+04|0:00:48|8.96e+02(z1)|t=44|n=596|a=0.35|e=2.2e+00%|1.41ms/ev|maxl=76.21|ETF=0:00:24\n",
            "2.78e+04|0:00:50|8.96e+02(z1)|t=44|n=615|a=0.35|e=2.2e+00%|2.41ms/ev|maxl=76.21|ETF=0:00:40\n",
            "2.85e+04|0:00:52|8.96e+02(z1)|t=44|n=632|a=0.35|e=2.2e+00%|2.74ms/ev|maxl=76.21|ETF=0:00:44\n",
            "2.99e+04|0:00:54|8.96e+02(z1)|t=12|n=2456|a=0.36|e=8.2e+00%|1.46ms/ev|maxl=76.21|ETF=0\n"
          ]
        },
        {
          "output_type": "stream",
          "name": "stderr",
          "text": [
            "09:17 bilby WARNING : Non-negligible print progress time (ppt_frac=0.02)\n",
            "09:17 bilby INFO    : Reached convergence: exiting sampling\n",
            "09:17 bilby INFO    : Checkpoint start\n",
            "09:17 bilby INFO    : Written checkpoint file toy_model/model_Ms_resume.pickle\n",
            "09:17 bilby INFO    : Zero-temperature proposals:\n",
            "09:17 bilby INFO    : AdaptiveGaussianProposal(acceptance_ratio:0.23,n:5.4e+03,scale:0.016,)\n",
            "09:17 bilby INFO    : DifferentialEvolutionProposal(acceptance_ratio:0.37,n:5.9e+03,)\n",
            "09:17 bilby INFO    : UniformProposal(acceptance_ratio:1,n:2.4e+02,)\n",
            "09:17 bilby INFO    : KDEProposal(acceptance_ratio:0.15,n:6.3e+03,trained:1,)\n",
            "09:17 bilby INFO    : FisherMatrixProposal(acceptance_ratio:0.43,n:6.1e+03,scale:1,)\n",
            "09:17 bilby INFO    : GMMProposal(acceptance_ratio:0.58,n:6e+03,trained:1,)\n",
            "09:17 bilby INFO    : Current taus={'freq_0': 9.8, 'freq_dot': 9.1, 'alpha': 11.8}\n",
            "09:17 bilby INFO    : Creating diagnostic plots\n",
            "09:17 bilby INFO    : Checkpoint finished\n",
            "09:17 bilby INFO    : Sampling time: 0:00:54.310398\n",
            "09:17 bilby INFO    : Summary of results:\n",
            "nsamples: 2635\n",
            "ln_noise_evidence:    nan\n",
            "ln_evidence:    nan +/-    nan\n",
            "ln_bayes_factor:    nan +/-    nan\n",
            "\n"
          ]
        }
      ],
      "source": [
        "def sinusoid2(time, freq_0, freq_dot):\n",
        "    return np.sin(2 * np.pi * (freq_0+freq_dot*time )* time)\n",
        "\n",
        "\n",
        "def gaussian_exponential2(time, alpha):\n",
        "    return np.exp(-(time/alpha)**2)\n",
        "\n",
        "\n",
        "def model_Mt(time, freq_0, freq_dot, alpha):\n",
        "    return gaussian_exponential2(time, alpha) * sinusoid2(time, freq_0, freq_dot)\n",
        "\n",
        "\n",
        "likelihood_Mt = bilby.core.likelihood.GaussianLikelihood(time, yobs, model_Mt, sigma=0.1)\n",
        "\n",
        "priors_Mt = dict(\n",
        "    freq_0=bilby.core.prior.Uniform(0, 5),\n",
        "    freq_dot=bilby.core.prior.Uniform(0, 5),\n",
        "    alpha=bilby.core.prior.Uniform(0, 1))\n",
        "\n",
        "result_Mt = bilby.run_sampler(\n",
        "    likelihood_Mt,\n",
        "    priors_Mt,\n",
        "    label=\"model_Ms\",  # A label to help sort our results\n",
        "    outdir=\"toy_model\",  # The directory where results will be kept\n",
        "    clean=True,  # Don't use cached data]\n",
        "    sampler=\"bilby_mcmc\",  # Use the bilby_mcmc sampler\n",
        "    nsamples=1000,  # Draw 1000 samples\n",
        "    printdt=2,  # Print an update ever 5 seconds\n",
        "    L1steps=1,  # The number of internal steps to take\n",
        ")"
      ]
    },
    {
      "cell_type": "code",
      "source": [
        "idx_max2 = np.argmax(result_Mt.posterior.log_likelihood)\n",
        "maxL2 = result_Mt.posterior.iloc[idx_max2]\n",
        "plot3 = plt.plot(time,yobs, color = 'cyan')\n",
        "plt.plot(time,model_Mt(time, maxL2.freq_0, maxL2.freq_dot, maxL2.alpha), color='green')\n",
        "for i in range(100):\n",
        "  random = result_Mt.posterior.sample().iloc[0]\n",
        "  plt.plot(time, model_Mt(time, random['freq_0'], random['freq_dot'], random['alpha']), color='C3', zorder=-100, alpha=0.1)"
      ],
      "metadata": {
        "colab": {
          "base_uri": "https://localhost:8080/",
          "height": 430
        },
        "id": "wg8fFrBO9fTO",
        "outputId": "b3ee9a4b-c773-4ac8-c6bd-25fea7e2231c"
      },
      "id": "wg8fFrBO9fTO",
      "execution_count": 21,
      "outputs": [
        {
          "output_type": "display_data",
          "data": {
            "text/plain": [
              "<Figure size 640x480 with 1 Axes>"
            ],
            "image/png": "[encoded data removed]"
          },
          "metadata": {}
        }
      ]
    },
    {
      "cell_type": "code",
      "source": [
        "mean_a3 = np.mean(result_Mt.posterior['alpha'])\n",
        "mean_f0 = np.mean(result_Mt.posterior['freq_0'])\n",
        "mean_fdot = np.mean(result_Mt.posterior['freq_dot'])\n",
        "std_a3 = np.std(result_Mt.posterior['alpha'])\n",
        "std_f0 = np.std(result_Mt.posterior['freq_0'])\n",
        "std_fdot = np.std(result_Mt.posterior['freq_dot'])\n",
        "\n",
        "print(mean_a3, std_a3, mean_f0, std_f0, mean_fdot, std_fdot)"
      ],
      "metadata": {
        "id": "e2Zc1eL1si_1",
        "outputId": "feb35490-2111-432c-abe7-82a469abda7a",
        "colab": {
          "base_uri": "https://localhost:8080/"
        }
      },
      "id": "e2Zc1eL1si_1",
      "execution_count": 22,
      "outputs": [
        {
          "output_type": "stream",
          "name": "stdout",
          "text": [
            "0.47756893308681697 0.022850755705316122 1.9781126548865149 0.025030964860951542 0.7413348213710506 0.05598203316919798\n"
          ]
        }
      ]
    },
    {
      "cell_type": "markdown",
      "id": "b27a0dab",
      "metadata": {
        "id": "b27a0dab"
      },
      "source": [
        "### Q3.2 (Optional)\n",
        "We can tell already that the $M_t$ model is far better than $M_s$: the posterior predictive fit better explains the data. One can also look at the posterior of $\\dot{f}$ from $M_t$: Since $M_s$ is a subset of $M_t$ (i.e. they are equivalent when $\\dot{f}=0$) the fact that the the posterior on $\\dot{f}$ peaks away from zero tells you that $M_t$ is better than $M_s$.\n",
        "\n",
        "However, it is fun to also show how we can quantify this using the posterior odds (defined in the first section!). For this, we need to calculate the evidence $\\mathcal{Z}(d | M_s)$ and $\\mathcal{Z}(d | M_t)$. They can be estimated by stochastic sampling. However, `bilby_mcmc` is not the right tool (in can in principle, but the alternative is superior for evidence calculation). Instead, we should use the **nested sampling** package `dynesty`\n",
        "\n",
        "- Rerun your analysis of both models, but use `sampler=\"dynesty\"` in `run_sampler`. You will also need to add configuration arguments: `nlive=500, sampler=\"rwalk\"`)\n",
        "- Calculate the Bayes factor using `np.exp(result_Mt.log_evidence - result_Mt.log_evidence)`"
      ]
    },
    {
      "cell_type": "code",
      "execution_count": 23,
      "id": "37bc8438",
      "metadata": {
        "id": "37bc8438",
        "colab": {
          "base_uri": "https://localhost:8080/",
          "height": 569,
          "referenced_widgets": [
            "7a86c997df97491b9356e57fd7bf08a4",
            "b6b45263e6c8490fa54497e296967f4f",
            "851e3c60e68840d8a2abea245ce2078e",
            "1e1c60b7ec1d4aa2954153575312ec10",
            "b08aba2bf16b4ddf9c27dfe130e8c323",
            "7c74a9626fd8422e858808145f8cdd27",
            "184c3cea567a4ff6b5ae014379099608",
            "c75d4da752c44f5eb09a363577bc8c7b",
            "a27b5f1c491946ce9aeb70aa810e9ef5",
            "6435beac3b0543e49737c2d9014df122",
            "c97ae40edc3c4bf5b63a7b6526cd82d8"
          ]
        },
        "outputId": "c15391f9-866e-4524-b99f-51eb781b30df"
      },
      "outputs": [
        {
          "output_type": "stream",
          "name": "stderr",
          "text": [
            "09:17 bilby INFO    : Running for label 'model_Ms', output will be saved to 'toy_model'\n",
            "09:17 bilby WARNING : Parameter logl has no default prior and is set to 25.386616858087905, this will not be sampled and may cause an error.\n",
            "09:17 bilby WARNING : Parameter logp has no default prior and is set to -1.6094379124341003, this will not be sampled and may cause an error.\n",
            "09:17 bilby INFO    : Analysis priors:\n",
            "09:17 bilby INFO    : freq=Uniform(minimum=0, maximum=5, name=None, latex_label=None, unit=None, boundary=None)\n",
            "09:17 bilby INFO    : alpha=Uniform(minimum=0, maximum=1, name=None, latex_label=None, unit=None, boundary=None)\n",
            "09:17 bilby INFO    : Analysis likelihood class: <class 'bilby.core.likelihood.GaussianLikelihood'>\n",
            "09:17 bilby INFO    : Analysis likelihood noise evidence: nan\n",
            "09:17 bilby INFO    : Single likelihood evaluation took 1.749e-04 s\n",
            "09:17 bilby WARNING : Supplied argument 'nsamples' not an argument of 'Dynesty', removing.\n",
            "09:17 bilby WARNING : Supplied argument 'printdt' not an argument of 'Dynesty', removing.\n",
            "09:17 bilby WARNING : Supplied argument 'L1steps' not an argument of 'Dynesty', removing.\n",
            "09:17 bilby WARNING : Supplied argument 'sampler_kwargs' not an argument of 'Dynesty', removing.\n",
            "09:17 bilby INFO    : Using sampler Dynesty with kwargs {'nlive': 500, 'bound': 'live', 'sample': 'act-walk', 'periodic': None, 'reflective': None, 'update_interval': 600, 'first_update': None, 'npdim': None, 'rstate': None, 'queue_size': 1, 'pool': None, 'use_pool': None, 'live_points': None, 'logl_args': None, 'logl_kwargs': None, 'ptform_args': None, 'ptform_kwargs': None, 'gradient': None, 'grad_args': None, 'grad_kwargs': None, 'compute_jac': False, 'enlarge': None, 'bootstrap': None, 'walks': 100, 'facc': 0.2, 'slices': None, 'fmove': 0.9, 'max_move': 100, 'update_func': None, 'ncdim': None, 'blob': False, 'save_history': False, 'history_filename': None, 'maxiter': None, 'maxcall': None, 'dlogz': 0.1, 'logl_max': inf, 'n_effective': None, 'add_live': True, 'print_progress': True, 'print_func': <bound method Dynesty._print_func of <bilby.core.sampler.dynesty.Dynesty object at 0x7eac1b78b5e0>>, 'save_bounds': False, 'checkpoint_file': None, 'checkpoint_every': 60, 'resume': False}\n",
            "09:17 bilby INFO    : Checkpoint every check_point_delta_t = 600s\n",
            "09:17 bilby INFO    : Using dynesty version 2.1.1\n",
            "09:17 bilby INFO    : Using the bilby-implemented act-walk sampling tracking the autocorrelation function and thinning by 2 with maximum length 10000\n",
            "09:17 bilby INFO    : Generating initial points from the prior\n"
          ]
        },
        {
          "output_type": "display_data",
          "data": {
            "text/plain": [
              "1it [00:00, ?it/s]"
            ],
            "application/vnd.jupyter.widget-view+json": {
              "version_major": 2,
              "version_minor": 0,
              "model_id": "7a86c997df97491b9356e57fd7bf08a4"
            }
          },
          "metadata": {}
        },
        {
          "output_type": "stream",
          "name": "stderr",
          "text": [
            "09:18 bilby INFO    : Written checkpoint file toy_model/model_Ms_resume.pickle\n",
            "09:18 bilby INFO    : Rejection sampling nested samples to obtain 1383 posterior samples\n",
            "09:18 bilby INFO    : Sampling time: 0:00:38.587022\n"
          ]
        },
        {
          "output_type": "stream",
          "name": "stdout",
          "text": [
            "\n"
          ]
        },
        {
          "output_type": "stream",
          "name": "stderr",
          "text": [
            "09:18 bilby INFO    : Summary of results:\n",
            "nsamples: 1383\n",
            "ln_noise_evidence:    nan\n",
            "ln_evidence: 18.831 +/-  0.139\n",
            "ln_bayes_factor:    nan +/-  0.139\n",
            "\n"
          ]
        }
      ],
      "source": [
        "result_Ms = bilby.run_sampler(\n",
        "    likelihood_Ms,\n",
        "    priors_Ms,\n",
        "    label=\"model_Ms\",  # A label to help sort our results\n",
        "    outdir=\"toy_model\",  # The directory where results will be kept\n",
        "    clean=True,  # Don't use cached data]\n",
        "    sampler=\"dynesty\",  # Use the bilby_mcmc sampler\n",
        "    nsamples=1000,  # Draw 1000 samples\n",
        "    printdt=2,  # Print an update ever 5 seconds\n",
        "    L1steps=1,# The number of internal steps to take\n",
        "    nlive=500,\n",
        "    sampler_kwargs={\"sampler\": \"rwalk\"}\n",
        "    )"
      ]
    },
    {
      "cell_type": "code",
      "source": [
        "result_Mt = bilby.run_sampler(\n",
        "    likelihood_Mt,\n",
        "    priors_Mt,\n",
        "    label=\"model_Ms\",  # A label to help sort our results\n",
        "    outdir=\"toy_model\",  # The directory where results will be kept\n",
        "    clean=True,  # Don't use cached data]\n",
        "    sampler=\"dynesty\",  # Use the bilby_mcmc sampler\n",
        "    nsamples=1000,  # Draw 1000 samples\n",
        "    printdt=2,  # Print an update ever 5 seconds\n",
        "    L1steps=1,  # The number of internal steps to take\n",
        "    nlive=500,\n",
        "    sampler_kwargs={\"sampler\": \"rwalk\"}\n",
        ")"
      ],
      "metadata": {
        "colab": {
          "base_uri": "https://localhost:8080/",
          "height": 587,
          "referenced_widgets": [
            "dd48560e929e4b9cb38af1f81ceb2c54",
            "557eea04f0a540e0aee4bd534149e0db",
            "6d597456fb384eb99bc2dfb13a4e3a15",
            "6f4bd5adc3ed490ea659bd3fc1eed9a4",
            "050bc19e86f64616804fa5facc5c58b9",
            "10a916a594a1434aa17ed5d422bdb954",
            "965cc1d7011d4e1ea3f915c3d108dd5b",
            "e42fc9b2b745420b910584affe8cb867",
            "8614f8bc1cf24b74856b51ac52cf5c44",
            "449beaf73f3a44fb95ed36f7dbd4f358",
            "aee548f4940547728adb4d061eba1a7b"
          ]
        },
        "id": "i5FDn2jA5ttm",
        "outputId": "83a2b84c-6240-43b8-c354-c41d0dd8c89e"
      },
      "id": "i5FDn2jA5ttm",
      "execution_count": 24,
      "outputs": [
        {
          "output_type": "stream",
          "name": "stderr",
          "text": [
            "09:18 bilby INFO    : Running for label 'model_Ms', output will be saved to 'toy_model'\n",
            "09:18 bilby WARNING : Parameter logl has no default prior and is set to 71.71776604227976, this will not be sampled and may cause an error.\n",
            "09:18 bilby WARNING : Parameter logp has no default prior and is set to -3.2188758248682006, this will not be sampled and may cause an error.\n",
            "09:18 bilby INFO    : Analysis priors:\n",
            "09:18 bilby INFO    : freq_0=Uniform(minimum=0, maximum=5, name=None, latex_label=None, unit=None, boundary=None)\n",
            "09:18 bilby INFO    : freq_dot=Uniform(minimum=0, maximum=5, name=None, latex_label=None, unit=None, boundary=None)\n",
            "09:18 bilby INFO    : alpha=Uniform(minimum=0, maximum=1, name=None, latex_label=None, unit=None, boundary=None)\n",
            "09:18 bilby INFO    : Analysis likelihood class: <class 'bilby.core.likelihood.GaussianLikelihood'>\n",
            "09:18 bilby INFO    : Analysis likelihood noise evidence: nan\n",
            "09:18 bilby INFO    : Single likelihood evaluation took 1.596e-04 s\n",
            "09:18 bilby WARNING : Supplied argument 'nsamples' not an argument of 'Dynesty', removing.\n",
            "09:18 bilby WARNING : Supplied argument 'printdt' not an argument of 'Dynesty', removing.\n",
            "09:18 bilby WARNING : Supplied argument 'L1steps' not an argument of 'Dynesty', removing.\n",
            "09:18 bilby WARNING : Supplied argument 'sampler_kwargs' not an argument of 'Dynesty', removing.\n",
            "09:18 bilby INFO    : Using sampler Dynesty with kwargs {'nlive': 500, 'bound': 'live', 'sample': 'act-walk', 'periodic': None, 'reflective': None, 'update_interval': 600, 'first_update': None, 'npdim': None, 'rstate': None, 'queue_size': 1, 'pool': None, 'use_pool': None, 'live_points': None, 'logl_args': None, 'logl_kwargs': None, 'ptform_args': None, 'ptform_kwargs': None, 'gradient': None, 'grad_args': None, 'grad_kwargs': None, 'compute_jac': False, 'enlarge': None, 'bootstrap': None, 'walks': 100, 'facc': 0.2, 'slices': None, 'fmove': 0.9, 'max_move': 100, 'update_func': None, 'ncdim': None, 'blob': False, 'save_history': False, 'history_filename': None, 'maxiter': None, 'maxcall': None, 'dlogz': 0.1, 'logl_max': inf, 'n_effective': None, 'add_live': True, 'print_progress': True, 'print_func': <bound method Dynesty._print_func of <bilby.core.sampler.dynesty.Dynesty object at 0x7eac1b6f36d0>>, 'save_bounds': False, 'checkpoint_file': None, 'checkpoint_every': 60, 'resume': False}\n",
            "09:18 bilby INFO    : Checkpoint every check_point_delta_t = 600s\n",
            "09:18 bilby INFO    : Using dynesty version 2.1.1\n",
            "09:18 bilby INFO    : Using the bilby-implemented act-walk sampling tracking the autocorrelation function and thinning by 2 with maximum length 10000\n",
            "09:18 bilby INFO    : Generating initial points from the prior\n"
          ]
        },
        {
          "output_type": "display_data",
          "data": {
            "text/plain": [
              "1it [00:00, ?it/s]"
            ],
            "application/vnd.jupyter.widget-view+json": {
              "version_major": 2,
              "version_minor": 0,
              "model_id": "dd48560e929e4b9cb38af1f81ceb2c54"
            }
          },
          "metadata": {}
        },
        {
          "output_type": "stream",
          "name": "stderr",
          "text": [
            "09:19 bilby INFO    : Written checkpoint file toy_model/model_Ms_resume.pickle\n",
            "09:19 bilby INFO    : Rejection sampling nested samples to obtain 1623 posterior samples\n",
            "09:19 bilby INFO    : Sampling time: 0:01:02.770328\n"
          ]
        },
        {
          "output_type": "stream",
          "name": "stdout",
          "text": [
            "\n"
          ]
        },
        {
          "output_type": "stream",
          "name": "stderr",
          "text": [
            "09:19 bilby INFO    : Summary of results:\n",
            "nsamples: 1623\n",
            "ln_noise_evidence:    nan\n",
            "ln_evidence: 65.456 +/-  0.170\n",
            "ln_bayes_factor:    nan +/-  0.170\n",
            "\n"
          ]
        }
      ]
    },
    {
      "cell_type": "code",
      "source": [
        "Bayes_fac = np.exp(result_Mt.log_evidence - result_Ms.log_evidence)\n",
        "print(Bayes_fac)"
      ],
      "metadata": {
        "colab": {
          "base_uri": "https://localhost:8080/"
        },
        "id": "r89rB41B6UgI",
        "outputId": "fd43aafa-01d0-46d8-e75e-019a567f746d"
      },
      "id": "r89rB41B6UgI",
      "execution_count": 25,
      "outputs": [
        {
          "output_type": "stream",
          "name": "stdout",
          "text": [
            "1.7741145968390134e+20\n"
          ]
        }
      ]
    },
    {
      "cell_type": "markdown",
      "id": "d037aab1",
      "metadata": {
        "id": "d037aab1"
      },
      "source": [
        "### Q4.1 (Optional: easy)\n",
        "\n",
        "Throughout all our analyses, we assumed that $\\sigma=0.1$. But, what would we do if we didn't know this a priori? One option is to estimate it, you can do this by simply taking the standard deviation of data away from where the transient signal is. First, try to cut out the first 1s of data and use this to estimate $\\sigma$, is it close to the true value $0.1$? How about taking the last second of data?"
      ]
    },
    {
      "cell_type": "code",
      "execution_count": 26,
      "id": "e1a02fd6",
      "metadata": {
        "id": "e1a02fd6",
        "colab": {
          "base_uri": "https://localhost:8080/"
        },
        "outputId": "04dd9664-62c9-41b6-a597-39c80ca83155"
      },
      "outputs": [
        {
          "output_type": "stream",
          "name": "stdout",
          "text": [
            "0.12083232379507279\n",
            "0.10246210029527959\n"
          ]
        }
      ],
      "source": [
        "timenew=[]\n",
        "yobsnew=[]\n",
        "\n",
        "for i in range(len(time)):\n",
        "  if time[i]<(min(time)+1):\n",
        "    timenew.append(time[i])\n",
        "    yobsnew.append(yobs[i])\n",
        "\n",
        "sigma2 = np.std(yobsnew)\n",
        "print(sigma2)\n",
        "\n",
        "timenew2=[]\n",
        "yobsnew2=[]\n",
        "\n",
        "for i in range(len(time)):\n",
        "  if time[i]>(max(time)-1):\n",
        "    timenew2.append(time[i])\n",
        "    yobsnew2.append(yobs[i])\n",
        "\n",
        "print(np.std(yobsnew2))"
      ]
    },
    {
      "cell_type": "markdown",
      "id": "0f0aea19",
      "metadata": {
        "id": "0f0aea19"
      },
      "source": [
        "Both are close to 0.1, but there is some scatter."
      ]
    },
    {
      "cell_type": "markdown",
      "id": "a48e5fa7",
      "metadata": {
        "id": "a48e5fa7"
      },
      "source": [
        "### Q4.2 (Optional: harder)\n",
        "\n",
        "If we did not know $\\sigma$ a priori, and we didn't trust our estimate, we could simply infer it from the data! You can do this by removing the `sigma=0.1` in the `GaussianLikelihood` and setting a prior on sigma. Try this using your $M_t$ model."
      ]
    },
    {
      "cell_type": "code",
      "execution_count": 30,
      "id": "2f8fc050",
      "metadata": {
        "id": "2f8fc050",
        "outputId": "bbdffa4b-a25f-4ee6-b42b-54defbf031eb",
        "colab": {
          "base_uri": "https://localhost:8080/"
        }
      },
      "outputs": [
        {
          "output_type": "stream",
          "name": "stderr",
          "text": [
            "09:30 bilby INFO    : Running for label 'model_Ms', output will be saved to 'toy_model'\n",
            "09:30 bilby INFO    : Analysis priors:\n",
            "09:30 bilby INFO    : freq_0=Uniform(minimum=0, maximum=5, name=None, latex_label=None, unit=None, boundary=None)\n",
            "09:30 bilby INFO    : freq_dot=Uniform(minimum=0, maximum=5, name=None, latex_label=None, unit=None, boundary=None)\n",
            "09:30 bilby INFO    : alpha=Uniform(minimum=0, maximum=1, name=None, latex_label=None, unit=None, boundary=None)\n",
            "09:30 bilby INFO    : sigma=Uniform(minimum=0, maximum=1, name=None, latex_label=None, unit=None, boundary=None)\n",
            "09:30 bilby INFO    : Analysis likelihood class: <class 'bilby.core.likelihood.GaussianLikelihood'>\n",
            "09:30 bilby INFO    : Analysis likelihood noise evidence: nan\n",
            "09:30 bilby INFO    : Single likelihood evaluation took 3.022e-04 s\n",
            "09:30 bilby INFO    : Using sampler Bilby_MCMC with kwargs {'nsamples': 1000, 'nensemble': 1, 'pt_ensemble': False, 'ntemps': 1, 'Tmax': None, 'Tmax_from_SNR': 20, 'initial_betas': None, 'adapt': True, 'adapt_t0': 100, 'adapt_nu': 10, 'pt_rejection_sample': False, 'burn_in_nact': 10, 'thin_by_nact': 1, 'fixed_discard': 0, 'autocorr_c': 5, 'L1steps': 1, 'L2steps': 3, 'printdt': 2, 'check_point_delta_t': 1800, 'min_tau': 1, 'proposal_cycle': 'default', 'stop_after_convergence': False, 'fixed_tau': None, 'tau_window': None, 'evidence_method': 'stepping_stone', 'initial_sample_method': 'prior', 'initial_sample_dict': None}\n",
            "09:30 bilby INFO    : Initializing BilbyPTMCMCSampler with:\n",
            "  Convergence settings: ConvergenceInputs(autocorr_c=5, burn_in_nact=10, thin_by_nact=1, fixed_discard=0, target_nsamples=1000, stop_after_convergence=False, L1steps=1, L2steps=3, min_tau=1, fixed_tau=None, tau_window=None)\n",
            "  Parallel-tempering settings: ParallelTemperingInputs(ntemps=1, nensemble=1, Tmax=None, Tmax_from_SNR=20, initial_betas=None, adapt=True, adapt_t0=100, adapt_nu=10, pt_ensemble=False)\n",
            "  proposal_cycle: default\n",
            "  pt_rejection_sample: False\n",
            "09:30 bilby INFO    : Setting parallel tempering inputs=ParallelTemperingInputs(ntemps=1, nensemble=1, Tmax=None, Tmax_from_SNR=20, initial_betas=None, adapt=True, adapt_t0=100, adapt_nu=10, pt_ensemble=False)\n",
            "09:30 bilby INFO    : Initializing BilbyPTMCMCSampler with:ntemps=1, nensemble=1, pt_ensemble=False, initial_betas=[1], initial_sample_method=prior, initial_sample_dict=None\n",
            "\n",
            "09:30 bilby INFO    : Using initial sample {'freq_0': 0.5384861598977214, 'freq_dot': 0.3085507067843207, 'alpha': 0.848330159361294, 'sigma': 0.5563662729108897}\n",
            "09:30 bilby INFO    : Using ProposalCycle:\n",
            "  AdaptiveGaussianProposal(acceptance_ratio:nan,n:0,scale:1,)\n",
            "  DifferentialEvolutionProposal(acceptance_ratio:nan,n:0,)\n",
            "  UniformProposal(acceptance_ratio:nan,n:0,)\n",
            "  KDEProposal(acceptance_ratio:nan,n:0,trained:0,)\n",
            "  FisherMatrixProposal(acceptance_ratio:nan,n:0,scale:1,)\n",
            "  GMMProposal(acceptance_ratio:nan,n:0,trained:0,)\n",
            "\n",
            "09:30 bilby INFO    : Setting convergence_inputs=ConvergenceInputs(autocorr_c=5, burn_in_nact=10, thin_by_nact=1, fixed_discard=0, target_nsamples=1000, stop_after_convergence=False, L1steps=1, L2steps=3, min_tau=1, fixed_tau=None, tau_window=None)\n",
            "09:30 bilby INFO    : Drawing 1000 samples\n",
            "09:30 bilby INFO    : Checkpoint every check_point_delta_t=1800s\n",
            "09:30 bilby INFO    : Print update every printdt=2s\n"
          ]
        },
        {
          "output_type": "stream",
          "name": "stdout",
          "text": [
            "5.35e+03|0:00:02|4.43e+03(10tau)|t=60|n=15|a=0.16|e=2.8e-01%|0.37ms/ev|maxl=46.82|ETF=0:00:22\n",
            "7.21e+03|0:00:04|1.06e+03(z1)|t=60|n=102|a=0.20|e=1.4e+00%|1.08ms/ev|maxl=46.82|ETF=0:00:58\n",
            "9.05e+03|0:00:06|1.06e+03(z1)|t=60|n=133|a=0.23|e=1.5e+00%|1.08ms/ev|maxl=46.82|ETF=0:00:56\n",
            "1.09e+04|0:00:08|1.06e+03(z1)|t=60|n=164|a=0.25|e=1.5e+00%|1.07ms/ev|maxl=46.82|ETF=0:00:53\n",
            "1.28e+04|0:00:10|1.06e+03(z1)|t=60|n=194|a=0.26|e=1.5e+00%|1.09ms/ev|maxl=46.82|ETF=0:00:52\n",
            "1.40e+04|0:00:12|1.06e+03(z1)|t=60|n=215|a=0.26|e=1.5e+00%|1.62ms/ev|maxl=46.82|ETF=0:01:16\n",
            "1.48e+04|0:00:14|1.06e+03(z1)|t=60|n=229|a=0.27|e=1.5e+00%|2.34ms/ev|maxl=46.82|ETF=0:01:48\n",
            "1.57e+04|0:00:16|1.06e+03(z1)|t=60|n=244|a=0.27|e=1.5e+00%|2.22ms/ev|maxl=46.82|ETF=0:01:41\n",
            "1.76e+04|0:00:18|1.06e+03(z1)|t=60|n=274|a=0.28|e=1.6e+00%|1.09ms/ev|maxl=46.82|ETF=0:00:47\n",
            "1.94e+04|0:00:20|1.06e+03(z1)|t=60|n=305|a=0.28|e=1.6e+00%|1.08ms/ev|maxl=46.82|ETF=0:00:45\n",
            "2.13e+04|0:00:22|1.06e+03(z1)|t=60|n=336|a=0.29|e=1.6e+00%|1.08ms/ev|maxl=46.82|ETF=0:00:43\n",
            "2.32e+04|0:00:24|1.06e+03(z1)|t=60|n=368|a=0.29|e=1.6e+00%|1.06ms/ev|maxl=46.82|ETF=0:00:40\n",
            "2.48e+04|0:00:26|1.06e+03(z1)|t=60|n=395|a=0.30|e=1.6e+00%|1.23ms/ev|maxl=46.82|ETF=0:00:44\n",
            "2.57e+04|0:00:28|1.06e+03(z1)|t=60|n=410|a=0.30|e=1.6e+00%|2.17ms/ev|maxl=46.82|ETF=0:01:17\n",
            "2.66e+04|0:00:30|1.06e+03(z1)|t=60|n=424|a=0.30|e=1.6e+00%|2.47ms/ev|maxl=46.82|ETF=0:01:25\n",
            "2.81e+04|0:00:32|1.06e+03(z1)|t=60|n=449|a=0.30|e=1.6e+00%|1.31ms/ev|maxl=46.82|ETF=0:00:43\n",
            "2.99e+04|0:00:34|1.06e+03(z1)|t=60|n=480|a=0.31|e=1.6e+00%|1.08ms/ev|maxl=46.82|ETF=0:00:33\n",
            "3.18e+04|0:00:36|1.06e+03(z1)|t=60|n=511|a=0.31|e=1.6e+00%|1.09ms/ev|maxl=46.82|ETF=0:00:31\n",
            "3.36e+04|0:00:38|1.06e+03(z1)|t=60|n=542|a=0.31|e=1.6e+00%|1.07ms/ev|maxl=46.82|ETF=0:00:29\n",
            "3.55e+04|0:00:40|1.06e+03(z1)|t=60|n=573|a=0.31|e=1.6e+00%|1.08ms/ev|maxl=46.82|ETF=0:00:27\n",
            "3.64e+04|0:00:42|1.06e+03(z1)|t=60|n=588|a=0.31|e=1.6e+00%|2.14ms/ev|maxl=46.82|ETF=0:00:53\n",
            "3.73e+04|0:00:44|1.06e+03(z1)|t=60|n=602|a=0.31|e=1.6e+00%|2.40ms/ev|maxl=46.82|ETF=0:00:57\n",
            "3.85e+04|0:00:46|1.06e+03(z1)|t=60|n=623|a=0.31|e=1.6e+00%|1.59ms/ev|maxl=46.82|ETF=0:00:36\n",
            "4.04e+04|0:00:48|1.06e+03(z1)|t=60|n=654|a=0.31|e=1.6e+00%|1.06ms/ev|maxl=46.82|ETF=0:00:22\n",
            "4.23e+04|0:00:50|1.06e+03(z1)|t=60|n=686|a=0.32|e=1.6e+00%|1.05ms/ev|maxl=46.82|ETF=0:00:19\n",
            "4.42e+04|0:00:52|1.06e+03(z1)|t=60|n=717|a=0.32|e=1.6e+00%|1.06ms/ev|maxl=46.82|ETF=0:00:18\n",
            "4.61e+04|0:00:54|1.06e+03(z1)|t=16|n=2726|a=0.32|e=5.9e+00%|1.07ms/ev|maxl=46.82|ETF=0\n"
          ]
        },
        {
          "output_type": "stream",
          "name": "stderr",
          "text": [
            "09:31 bilby WARNING : Non-negligible print progress time (ppt_frac=0.03)\n",
            "09:31 bilby INFO    : Reached convergence: exiting sampling\n",
            "09:31 bilby INFO    : Checkpoint start\n",
            "09:31 bilby INFO    : Written checkpoint file toy_model/model_Ms_resume.pickle\n",
            "09:31 bilby INFO    : Zero-temperature proposals:\n",
            "09:31 bilby INFO    : AdaptiveGaussianProposal(acceptance_ratio:0.23,n:9.8e+03,scale:0.022,)\n",
            "09:31 bilby INFO    : DifferentialEvolutionProposal(acceptance_ratio:0.35,n:9.4e+03,)\n",
            "09:31 bilby INFO    : UniformProposal(acceptance_ratio:1,n:4.5e+02,)\n",
            "09:31 bilby INFO    : KDEProposal(acceptance_ratio:0.16,n:9.3e+03,trained:1,)\n",
            "09:31 bilby INFO    : FisherMatrixProposal(acceptance_ratio:0.34,n:8.4e+03,scale:1,)\n",
            "09:31 bilby INFO    : GMMProposal(acceptance_ratio:0.49,n:8.7e+03,trained:1,)\n",
            "09:31 bilby INFO    : Current taus={'freq_0': 11.3, 'freq_dot': 16.5, 'alpha': 13.6, 'sigma': 9.7}\n",
            "09:31 bilby INFO    : Creating diagnostic plots\n",
            "09:31 bilby INFO    : Checkpoint finished\n",
            "09:31 bilby INFO    : Sampling time: 0:00:54.052089\n",
            "09:31 bilby INFO    : Summary of results:\n",
            "nsamples: 2813\n",
            "ln_noise_evidence:    nan\n",
            "ln_evidence:    nan +/-    nan\n",
            "ln_bayes_factor:    nan +/-    nan\n",
            "\n"
          ]
        }
      ],
      "source": [
        "def sinusoid3(time, freq_0, freq_dot):\n",
        "    return np.sin(2 * np.pi * (freq_0+freq_dot*time )* time)\n",
        "\n",
        "\n",
        "def gaussian_exponential3(time, alpha):\n",
        "    return np.exp(-(time/alpha)**2)\n",
        "\n",
        "\n",
        "def model_M3(time, freq_0, freq_dot, alpha):\n",
        "    return gaussian_exponential2(time, alpha) * sinusoid2(time, freq_0, freq_dot)\n",
        "\n",
        "\n",
        "likelihood_M3 = bilby.core.likelihood.GaussianLikelihood(time, yobs, model_Mt)\n",
        "\n",
        "priors_M3 = dict(\n",
        "    freq_0=bilby.core.prior.Uniform(0, 5),\n",
        "    freq_dot=bilby.core.prior.Uniform(0, 5),\n",
        "    alpha=bilby.core.prior.Uniform(0, 1),\n",
        "    sigma=bilby.core.prior.Uniform(0,1))\n",
        "\n",
        "result_M3 = bilby.run_sampler(\n",
        "    likelihood_M3,\n",
        "    priors_M3,\n",
        "    label=\"model_Ms\",  # A label to help sort our results\n",
        "    outdir=\"toy_model\",  # The directory where results will be kept\n",
        "    clean=True,  # Don't use cached data]\n",
        "    sampler=\"bilby_mcmc\",  # Use the bilby_mcmc sampler\n",
        "    nsamples=1000,  # Draw 1000 samples\n",
        "    printdt=2,  # Print an update ever 5 seconds\n",
        "    L1steps=1, ) # The number of internal steps to take"
      ]
    },
    {
      "cell_type": "code",
      "source": [
        "mean_sigma = np.mean(result_M3.posterior['sigma'])\n",
        "print(mean_sigma)"
      ],
      "metadata": {
        "id": "s6Mj4Lt90gZW",
        "outputId": "0c47deda-71cf-4348-8fa5-a5894af99570",
        "colab": {
          "base_uri": "https://localhost:8080/"
        }
      },
      "id": "s6Mj4Lt90gZW",
      "execution_count": 32,
      "outputs": [
        {
          "output_type": "stream",
          "name": "stdout",
          "text": [
            "0.155546694097691\n"
          ]
        }
      ]
    }
  ],
  "metadata": {
    "colab": {
      "provenance": []
    },
    "kernelspec": {
      "display_name": "Python 3 (ipykernel)",
      "language": "python",
      "name": "python3"
    },
    "language_info": {
      "codemirror_mode": {
        "name": "ipython",
        "version": 3
      },
      "file_extension": ".py",
      "mimetype": "text/x-python",
      "name": "python",
      "nbconvert_exporter": "python",
      "pygments_lexer": "ipython3",
      "version": "3.9.16"
    },
    "widgets": {
      "application/vnd.jupyter.widget-state+json": {
        "7a86c997df97491b9356e57fd7bf08a4": {
          "model_module": "@jupyter-widgets/controls",
          "model_name": "HBoxModel",
          "model_module_version": "1.5.0",
          "state": {
            "_dom_classes": [],
            "_model_module": "@jupyter-widgets/controls",
            "_model_module_version": "1.5.0",
            "_model_name": "HBoxModel",
            "_view_count": null,
            "_view_module": "@jupyter-widgets/controls",
            "_view_module_version": "1.5.0",
            "_view_name": "HBoxView",
            "box_style": "",
            "children": [
              "IPY_MODEL_b6b45263e6c8490fa54497e296967f4f",
              "IPY_MODEL_851e3c60e68840d8a2abea245ce2078e",
              "IPY_MODEL_1e1c60b7ec1d4aa2954153575312ec10"
            ],
            "layout": "IPY_MODEL_b08aba2bf16b4ddf9c27dfe130e8c323"
          }
        },
        "b6b45263e6c8490fa54497e296967f4f": {
          "model_module": "@jupyter-widgets/controls",
          "model_name": "HTMLModel",
          "model_module_version": "1.5.0",
          "state": {
            "_dom_classes": [],
            "_model_module": "@jupyter-widgets/controls",
            "_model_module_version": "1.5.0",
            "_model_name": "HTMLModel",
            "_view_count": null,
            "_view_module": "@jupyter-widgets/controls",
            "_view_module_version": "1.5.0",
            "_view_name": "HTMLView",
            "description": "",
            "description_tooltip": null,
            "layout": "IPY_MODEL_7c74a9626fd8422e858808145f8cdd27",
            "placeholder": "​",
            "style": "IPY_MODEL_184c3cea567a4ff6b5ae014379099608",
            "value": ""
          }
        },
        "851e3c60e68840d8a2abea245ce2078e": {
          "model_module": "@jupyter-widgets/controls",
          "model_name": "FloatProgressModel",
          "model_module_version": "1.5.0",
          "state": {
            "_dom_classes": [],
            "_model_module": "@jupyter-widgets/controls",
            "_model_module_version": "1.5.0",
            "_model_name": "FloatProgressModel",
            "_view_count": null,
            "_view_module": "@jupyter-widgets/controls",
            "_view_module_version": "1.5.0",
            "_view_name": "ProgressView",
            "bar_style": "success",
            "description": "",
            "description_tooltip": null,
            "layout": "IPY_MODEL_c75d4da752c44f5eb09a363577bc8c7b",
            "max": 1,
            "min": 0,
            "orientation": "horizontal",
            "style": "IPY_MODEL_a27b5f1c491946ce9aeb70aa810e9ef5",
            "value": 1
          }
        },
        "1e1c60b7ec1d4aa2954153575312ec10": {
          "model_module": "@jupyter-widgets/controls",
          "model_name": "HTMLModel",
          "model_module_version": "1.5.0",
          "state": {
            "_dom_classes": [],
            "_model_module": "@jupyter-widgets/controls",
            "_model_module_version": "1.5.0",
            "_model_name": "HTMLModel",
            "_view_count": null,
            "_view_module": "@jupyter-widgets/controls",
            "_view_module_version": "1.5.0",
            "_view_name": "HTMLView",
            "description": "",
            "description_tooltip": null,
            "layout": "IPY_MODEL_6435beac3b0543e49737c2d9014df122",
            "placeholder": "​",
            "style": "IPY_MODEL_c97ae40edc3c4bf5b63a7b6526cd82d8",
            "value": " 4756/? [00:38&lt;00:00, 274.40it/s, bound:102 nc:  1 ncall:8.0e+04 eff:6.6% logz=18.83+/-0.11 dlogz:0.000&gt;0.1]"
          }
        },
        "b08aba2bf16b4ddf9c27dfe130e8c323": {
          "model_module": "@jupyter-widgets/base",
          "model_name": "LayoutModel",
          "model_module_version": "1.2.0",
          "state": {
            "_model_module": "@jupyter-widgets/base",
            "_model_module_version": "1.2.0",
            "_model_name": "LayoutModel",
            "_view_count": null,
            "_view_module": "@jupyter-widgets/base",
            "_view_module_version": "1.2.0",
            "_view_name": "LayoutView",
            "align_content": null,
            "align_items": null,
            "align_self": null,
            "border": null,
            "bottom": null,
            "display": null,
            "flex": null,
            "flex_flow": null,
            "grid_area": null,
            "grid_auto_columns": null,
            "grid_auto_flow": null,
            "grid_auto_rows": null,
            "grid_column": null,
            "grid_gap": null,
            "grid_row": null,
            "grid_template_areas": null,
            "grid_template_columns": null,
            "grid_template_rows": null,
            "height": null,
            "justify_content": null,
            "justify_items": null,
            "left": null,
            "margin": null,
            "max_height": null,
            "max_width": null,
            "min_height": null,
            "min_width": null,
            "object_fit": null,
            "object_position": null,
            "order": null,
            "overflow": null,
            "overflow_x": null,
            "overflow_y": null,
            "padding": null,
            "right": null,
            "top": null,
            "visibility": null,
            "width": null
          }
        },
        "7c74a9626fd8422e858808145f8cdd27": {
          "model_module": "@jupyter-widgets/base",
          "model_name": "LayoutModel",
          "model_module_version": "1.2.0",
          "state": {
            "_model_module": "@jupyter-widgets/base",
            "_model_module_version": "1.2.0",
            "_model_name": "LayoutModel",
            "_view_count": null,
            "_view_module": "@jupyter-widgets/base",
            "_view_module_version": "1.2.0",
            "_view_name": "LayoutView",
            "align_content": null,
            "align_items": null,
            "align_self": null,
            "border": null,
            "bottom": null,
            "display": null,
            "flex": null,
            "flex_flow": null,
            "grid_area": null,
            "grid_auto_columns": null,
            "grid_auto_flow": null,
            "grid_auto_rows": null,
            "grid_column": null,
            "grid_gap": null,
            "grid_row": null,
            "grid_template_areas": null,
            "grid_template_columns": null,
            "grid_template_rows": null,
            "height": null,
            "justify_content": null,
            "justify_items": null,
            "left": null,
            "margin": null,
            "max_height": null,
            "max_width": null,
            "min_height": null,
            "min_width": null,
            "object_fit": null,
            "object_position": null,
            "order": null,
            "overflow": null,
            "overflow_x": null,
            "overflow_y": null,
            "padding": null,
            "right": null,
            "top": null,
            "visibility": null,
            "width": null
          }
        },
        "184c3cea567a4ff6b5ae014379099608": {
          "model_module": "@jupyter-widgets/controls",
          "model_name": "DescriptionStyleModel",
          "model_module_version": "1.5.0",
          "state": {
            "_model_module": "@jupyter-widgets/controls",
            "_model_module_version": "1.5.0",
            "_model_name": "DescriptionStyleModel",
            "_view_count": null,
            "_view_module": "@jupyter-widgets/base",
            "_view_module_version": "1.2.0",
            "_view_name": "StyleView",
            "description_width": ""
          }
        },
        "c75d4da752c44f5eb09a363577bc8c7b": {
          "model_module": "@jupyter-widgets/base",
          "model_name": "LayoutModel",
          "model_module_version": "1.2.0",
          "state": {
            "_model_module": "@jupyter-widgets/base",
            "_model_module_version": "1.2.0",
            "_model_name": "LayoutModel",
            "_view_count": null,
            "_view_module": "@jupyter-widgets/base",
            "_view_module_version": "1.2.0",
            "_view_name": "LayoutView",
            "align_content": null,
            "align_items": null,
            "align_self": null,
            "border": null,
            "bottom": null,
            "display": null,
            "flex": null,
            "flex_flow": null,
            "grid_area": null,
            "grid_auto_columns": null,
            "grid_auto_flow": null,
            "grid_auto_rows": null,
            "grid_column": null,
            "grid_gap": null,
            "grid_row": null,
            "grid_template_areas": null,
            "grid_template_columns": null,
            "grid_template_rows": null,
            "height": null,
            "justify_content": null,
            "justify_items": null,
            "left": null,
            "margin": null,
            "max_height": null,
            "max_width": null,
            "min_height": null,
            "min_width": null,
            "object_fit": null,
            "object_position": null,
            "order": null,
            "overflow": null,
            "overflow_x": null,
            "overflow_y": null,
            "padding": null,
            "right": null,
            "top": null,
            "visibility": null,
            "width": "20px"
          }
        },
        "a27b5f1c491946ce9aeb70aa810e9ef5": {
          "model_module": "@jupyter-widgets/controls",
          "model_name": "ProgressStyleModel",
          "model_module_version": "1.5.0",
          "state": {
            "_model_module": "@jupyter-widgets/controls",
            "_model_module_version": "1.5.0",
            "_model_name": "ProgressStyleModel",
            "_view_count": null,
            "_view_module": "@jupyter-widgets/base",
            "_view_module_version": "1.2.0",
            "_view_name": "StyleView",
            "bar_color": null,
            "description_width": ""
          }
        },
        "6435beac3b0543e49737c2d9014df122": {
          "model_module": "@jupyter-widgets/base",
          "model_name": "LayoutModel",
          "model_module_version": "1.2.0",
          "state": {
            "_model_module": "@jupyter-widgets/base",
            "_model_module_version": "1.2.0",
            "_model_name": "LayoutModel",
            "_view_count": null,
            "_view_module": "@jupyter-widgets/base",
            "_view_module_version": "1.2.0",
            "_view_name": "LayoutView",
            "align_content": null,
            "align_items": null,
            "align_self": null,
            "border": null,
            "bottom": null,
            "display": null,
            "flex": null,
            "flex_flow": null,
            "grid_area": null,
            "grid_auto_columns": null,
            "grid_auto_flow": null,
            "grid_auto_rows": null,
            "grid_column": null,
            "grid_gap": null,
            "grid_row": null,
            "grid_template_areas": null,
            "grid_template_columns": null,
            "grid_template_rows": null,
            "height": null,
            "justify_content": null,
            "justify_items": null,
            "left": null,
            "margin": null,
            "max_height": null,
            "max_width": null,
            "min_height": null,
            "min_width": null,
            "object_fit": null,
            "object_position": null,
            "order": null,
            "overflow": null,
            "overflow_x": null,
            "overflow_y": null,
            "padding": null,
            "right": null,
            "top": null,
            "visibility": null,
            "width": null
          }
        },
        "c97ae40edc3c4bf5b63a7b6526cd82d8": {
          "model_module": "@jupyter-widgets/controls",
          "model_name": "DescriptionStyleModel",
          "model_module_version": "1.5.0",
          "state": {
            "_model_module": "@jupyter-widgets/controls",
            "_model_module_version": "1.5.0",
            "_model_name": "DescriptionStyleModel",
            "_view_count": null,
            "_view_module": "@jupyter-widgets/base",
            "_view_module_version": "1.2.0",
            "_view_name": "StyleView",
            "description_width": ""
          }
        },
        "dd48560e929e4b9cb38af1f81ceb2c54": {
          "model_module": "@jupyter-widgets/controls",
          "model_name": "HBoxModel",
          "model_module_version": "1.5.0",
          "state": {
            "_dom_classes": [],
            "_model_module": "@jupyter-widgets/controls",
            "_model_module_version": "1.5.0",
            "_model_name": "HBoxModel",
            "_view_count": null,
            "_view_module": "@jupyter-widgets/controls",
            "_view_module_version": "1.5.0",
            "_view_name": "HBoxView",
            "box_style": "",
            "children": [
              "IPY_MODEL_557eea04f0a540e0aee4bd534149e0db",
              "IPY_MODEL_6d597456fb384eb99bc2dfb13a4e3a15",
              "IPY_MODEL_6f4bd5adc3ed490ea659bd3fc1eed9a4"
            ],
            "layout": "IPY_MODEL_050bc19e86f64616804fa5facc5c58b9"
          }
        },
        "557eea04f0a540e0aee4bd534149e0db": {
          "model_module": "@jupyter-widgets/controls",
          "model_name": "HTMLModel",
          "model_module_version": "1.5.0",
          "state": {
            "_dom_classes": [],
            "_model_module": "@jupyter-widgets/controls",
            "_model_module_version": "1.5.0",
            "_model_name": "HTMLModel",
            "_view_count": null,
            "_view_module": "@jupyter-widgets/controls",
            "_view_module_version": "1.5.0",
            "_view_name": "HTMLView",
            "description": "",
            "description_tooltip": null,
            "layout": "IPY_MODEL_10a916a594a1434aa17ed5d422bdb954",
            "placeholder": "​",
            "style": "IPY_MODEL_965cc1d7011d4e1ea3f915c3d108dd5b",
            "value": ""
          }
        },
        "6d597456fb384eb99bc2dfb13a4e3a15": {
          "model_module": "@jupyter-widgets/controls",
          "model_name": "FloatProgressModel",
          "model_module_version": "1.5.0",
          "state": {
            "_dom_classes": [],
            "_model_module": "@jupyter-widgets/controls",
            "_model_module_version": "1.5.0",
            "_model_name": "FloatProgressModel",
            "_view_count": null,
            "_view_module": "@jupyter-widgets/controls",
            "_view_module_version": "1.5.0",
            "_view_name": "ProgressView",
            "bar_style": "success",
            "description": "",
            "description_tooltip": null,
            "layout": "IPY_MODEL_e42fc9b2b745420b910584affe8cb867",
            "max": 1,
            "min": 0,
            "orientation": "horizontal",
            "style": "IPY_MODEL_8614f8bc1cf24b74856b51ac52cf5c44",
            "value": 1
          }
        },
        "6f4bd5adc3ed490ea659bd3fc1eed9a4": {
          "model_module": "@jupyter-widgets/controls",
          "model_name": "HTMLModel",
          "model_module_version": "1.5.0",
          "state": {
            "_dom_classes": [],
            "_model_module": "@jupyter-widgets/controls",
            "_model_module_version": "1.5.0",
            "_model_name": "HTMLModel",
            "_view_count": null,
            "_view_module": "@jupyter-widgets/controls",
            "_view_module_version": "1.5.0",
            "_view_name": "HTMLView",
            "description": "",
            "description_tooltip": null,
            "layout": "IPY_MODEL_449beaf73f3a44fb95ed36f7dbd4f358",
            "placeholder": "​",
            "style": "IPY_MODEL_aee548f4940547728adb4d061eba1a7b",
            "value": " 6551/? [01:02&lt;00:00, 141.30it/s, bound:257 nc:  1 ncall:1.8e+05 eff:4.0% logz=65.46+/-0.13 dlogz:0.000&gt;0.1]"
          }
        },
        "050bc19e86f64616804fa5facc5c58b9": {
          "model_module": "@jupyter-widgets/base",
          "model_name": "LayoutModel",
          "model_module_version": "1.2.0",
          "state": {
            "_model_module": "@jupyter-widgets/base",
            "_model_module_version": "1.2.0",
            "_model_name": "LayoutModel",
            "_view_count": null,
            "_view_module": "@jupyter-widgets/base",
            "_view_module_version": "1.2.0",
            "_view_name": "LayoutView",
            "align_content": null,
            "align_items": null,
            "align_self": null,
            "border": null,
            "bottom": null,
            "display": null,
            "flex": null,
            "flex_flow": null,
            "grid_area": null,
            "grid_auto_columns": null,
            "grid_auto_flow": null,
            "grid_auto_rows": null,
            "grid_column": null,
            "grid_gap": null,
            "grid_row": null,
            "grid_template_areas": null,
            "grid_template_columns": null,
            "grid_template_rows": null,
            "height": null,
            "justify_content": null,
            "justify_items": null,
            "left": null,
            "margin": null,
            "max_height": null,
            "max_width": null,
            "min_height": null,
            "min_width": null,
            "object_fit": null,
            "object_position": null,
            "order": null,
            "overflow": null,
            "overflow_x": null,
            "overflow_y": null,
            "padding": null,
            "right": null,
            "top": null,
            "visibility": null,
            "width": null
          }
        },
        "10a916a594a1434aa17ed5d422bdb954": {
          "model_module": "@jupyter-widgets/base",
          "model_name": "LayoutModel",
          "model_module_version": "1.2.0",
          "state": {
            "_model_module": "@jupyter-widgets/base",
            "_model_module_version": "1.2.0",
            "_model_name": "LayoutModel",
            "_view_count": null,
            "_view_module": "@jupyter-widgets/base",
            "_view_module_version": "1.2.0",
            "_view_name": "LayoutView",
            "align_content": null,
            "align_items": null,
            "align_self": null,
            "border": null,
            "bottom": null,
            "display": null,
            "flex": null,
            "flex_flow": null,
            "grid_area": null,
            "grid_auto_columns": null,
            "grid_auto_flow": null,
            "grid_auto_rows": null,
            "grid_column": null,
            "grid_gap": null,
            "grid_row": null,
            "grid_template_areas": null,
            "grid_template_columns": null,
            "grid_template_rows": null,
            "height": null,
            "justify_content": null,
            "justify_items": null,
            "left": null,
            "margin": null,
            "max_height": null,
            "max_width": null,
            "min_height": null,
            "min_width": null,
            "object_fit": null,
            "object_position": null,
            "order": null,
            "overflow": null,
            "overflow_x": null,
            "overflow_y": null,
            "padding": null,
            "right": null,
            "top": null,
            "visibility": null,
            "width": null
          }
        },
        "965cc1d7011d4e1ea3f915c3d108dd5b": {
          "model_module": "@jupyter-widgets/controls",
          "model_name": "DescriptionStyleModel",
          "model_module_version": "1.5.0",
          "state": {
            "_model_module": "@jupyter-widgets/controls",
            "_model_module_version": "1.5.0",
            "_model_name": "DescriptionStyleModel",
            "_view_count": null,
            "_view_module": "@jupyter-widgets/base",
            "_view_module_version": "1.2.0",
            "_view_name": "StyleView",
            "description_width": ""
          }
        },
        "e42fc9b2b745420b910584affe8cb867": {
          "model_module": "@jupyter-widgets/base",
          "model_name": "LayoutModel",
          "model_module_version": "1.2.0",
          "state": {
            "_model_module": "@jupyter-widgets/base",
            "_model_module_version": "1.2.0",
            "_model_name": "LayoutModel",
            "_view_count": null,
            "_view_module": "@jupyter-widgets/base",
            "_view_module_version": "1.2.0",
            "_view_name": "LayoutView",
            "align_content": null,
            "align_items": null,
            "align_self": null,
            "border": null,
            "bottom": null,
            "display": null,
            "flex": null,
            "flex_flow": null,
            "grid_area": null,
            "grid_auto_columns": null,
            "grid_auto_flow": null,
            "grid_auto_rows": null,
            "grid_column": null,
            "grid_gap": null,
            "grid_row": null,
            "grid_template_areas": null,
            "grid_template_columns": null,
            "grid_template_rows": null,
            "height": null,
            "justify_content": null,
            "justify_items": null,
            "left": null,
            "margin": null,
            "max_height": null,
            "max_width": null,
            "min_height": null,
            "min_width": null,
            "object_fit": null,
            "object_position": null,
            "order": null,
            "overflow": null,
            "overflow_x": null,
            "overflow_y": null,
            "padding": null,
            "right": null,
            "top": null,
            "visibility": null,
            "width": "20px"
          }
        },
        "8614f8bc1cf24b74856b51ac52cf5c44": {
          "model_module": "@jupyter-widgets/controls",
          "model_name": "ProgressStyleModel",
          "model_module_version": "1.5.0",
          "state": {
            "_model_module": "@jupyter-widgets/controls",
            "_model_module_version": "1.5.0",
            "_model_name": "ProgressStyleModel",
            "_view_count": null,
            "_view_module": "@jupyter-widgets/base",
            "_view_module_version": "1.2.0",
            "_view_name": "StyleView",
            "bar_color": null,
            "description_width": ""
          }
        },
        "449beaf73f3a44fb95ed36f7dbd4f358": {
          "model_module": "@jupyter-widgets/base",
          "model_name": "LayoutModel",
          "model_module_version": "1.2.0",
          "state": {
            "_model_module": "@jupyter-widgets/base",
            "_model_module_version": "1.2.0",
            "_model_name": "LayoutModel",
            "_view_count": null,
            "_view_module": "@jupyter-widgets/base",
            "_view_module_version": "1.2.0",
            "_view_name": "LayoutView",
            "align_content": null,
            "align_items": null,
            "align_self": null,
            "border": null,
            "bottom": null,
            "display": null,
            "flex": null,
            "flex_flow": null,
            "grid_area": null,
            "grid_auto_columns": null,
            "grid_auto_flow": null,
            "grid_auto_rows": null,
            "grid_column": null,
            "grid_gap": null,
            "grid_row": null,
            "grid_template_areas": null,
            "grid_template_columns": null,
            "grid_template_rows": null,
            "height": null,
            "justify_content": null,
            "justify_items": null,
            "left": null,
            "margin": null,
            "max_height": null,
            "max_width": null,
            "min_height": null,
            "min_width": null,
            "object_fit": null,
            "object_position": null,
            "order": null,
            "overflow": null,
            "overflow_x": null,
            "overflow_y": null,
            "padding": null,
            "right": null,
            "top": null,
            "visibility": null,
            "width": null
          }
        },
        "aee548f4940547728adb4d061eba1a7b": {
          "model_module": "@jupyter-widgets/controls",
          "model_name": "DescriptionStyleModel",
          "model_module_version": "1.5.0",
          "state": {
            "_model_module": "@jupyter-widgets/controls",
            "_model_module_version": "1.5.0",
            "_model_name": "DescriptionStyleModel",
            "_view_count": null,
            "_view_module": "@jupyter-widgets/base",
            "_view_module_version": "1.2.0",
            "_view_name": "StyleView",
            "description_width": ""
          }
        }
      }
    }
  },
  "nbformat": 4,
  "nbformat_minor": 5
}